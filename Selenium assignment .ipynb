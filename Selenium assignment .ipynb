{
 "cells": [
  {
   "cell_type": "code",
   "execution_count": 1,
   "metadata": {},
   "outputs": [
    {
     "name": "stdout",
     "output_type": "stream",
     "text": [
      "Requirement already satisfied: selenium in c:\\users\\nikhil\\anaconda3\\lib\\site-packages (3.141.0)\n",
      "Requirement already satisfied: urllib3 in c:\\users\\nikhil\\anaconda3\\lib\\site-packages (from selenium) (1.25.9)\n"
     ]
    }
   ],
   "source": [
    "#Lets first install the selenium library\n",
    "! pip install selenium"
   ]
  },
  {
   "cell_type": "code",
   "execution_count": 33,
   "metadata": {},
   "outputs": [],
   "source": [
    "#importing the required libraries\n",
    "import selenium\n",
    "import pandas as pd\n",
    "from selenium import webdriver"
   ]
  },
  {
   "cell_type": "code",
   "execution_count": 34,
   "metadata": {},
   "outputs": [],
   "source": [
    "#let connect with the driver\n",
    "driver = webdriver.Chrome(r\"C:\\Users\\Nikhil\\Downloads\\chromedriver_win32\\chromedriver.exe\")"
   ]
  },
  {
   "cell_type": "markdown",
   "metadata": {},
   "source": [
    "# selenium assignment 1"
   ]
  },
  {
   "cell_type": "code",
   "execution_count": 64,
   "metadata": {},
   "outputs": [],
   "source": [
    "driver.get(\"https://www.naukri.com/\")"
   ]
  },
  {
   "cell_type": "code",
   "execution_count": 65,
   "metadata": {},
   "outputs": [],
   "source": [
    "#finding element for job search\n",
    "search_job=driver.find_element_by_id(\"qsb-keyword-sugg\")\n",
    "search_job.send_keys(\"Data Analyst\")\n",
    "search_loc=driver.find_element_by_xpath(\"//input[@id='qsb-location-sugg']\")\n",
    "search_loc.send_keys(\"Banglore\")"
   ]
  },
  {
   "cell_type": "code",
   "execution_count": 66,
   "metadata": {},
   "outputs": [],
   "source": [
    "search_btn=driver.find_element_by_xpath(\"//div[@class='search-btn']/button\")\n",
    "search_btn.click()"
   ]
  },
  {
   "cell_type": "code",
   "execution_count": 67,
   "metadata": {},
   "outputs": [],
   "source": [
    "#specifing the url of the page to be scraped\n",
    "url=\"https://www.naukri.com/data-analyst-jobs-in-banglore?k=data%20analyst&l=banglore\""
   ]
  },
  {
   "cell_type": "code",
   "execution_count": 68,
   "metadata": {},
   "outputs": [],
   "source": [
    "#lets open the webpage through our driver\n",
    "driver.get(url)"
   ]
  },
  {
   "cell_type": "code",
   "execution_count": 69,
   "metadata": {},
   "outputs": [],
   "source": [
    "job_titles=[]\n",
    "company_names=[]\n",
    "locations_list=[]\n",
    "experience_req=[]"
   ]
  },
  {
   "cell_type": "code",
   "execution_count": 70,
   "metadata": {},
   "outputs": [
    {
     "data": {
      "text/plain": [
       "[<selenium.webdriver.remote.webelement.WebElement (session=\"1a081d5eabfc4dc47ac43b29b977ac3c\", element=\"6bf73595-1a63-4e06-b926-8d9f9a58e657\")>,\n",
       " <selenium.webdriver.remote.webelement.WebElement (session=\"1a081d5eabfc4dc47ac43b29b977ac3c\", element=\"a21b3c9d-b12d-49bc-90e7-347d32b15861\")>,\n",
       " <selenium.webdriver.remote.webelement.WebElement (session=\"1a081d5eabfc4dc47ac43b29b977ac3c\", element=\"392c66a8-7c42-485d-8356-4bced3f15fae\")>,\n",
       " <selenium.webdriver.remote.webelement.WebElement (session=\"1a081d5eabfc4dc47ac43b29b977ac3c\", element=\"598bfa82-9cf7-4b9c-a9a4-7b0b572e4efb\")>,\n",
       " <selenium.webdriver.remote.webelement.WebElement (session=\"1a081d5eabfc4dc47ac43b29b977ac3c\", element=\"a583c0e7-637f-4fc0-8ff5-24e968066ba5\")>,\n",
       " <selenium.webdriver.remote.webelement.WebElement (session=\"1a081d5eabfc4dc47ac43b29b977ac3c\", element=\"5053a17a-38c7-4ae2-8891-4ac7f6b5b07a\")>,\n",
       " <selenium.webdriver.remote.webelement.WebElement (session=\"1a081d5eabfc4dc47ac43b29b977ac3c\", element=\"dfde8c76-02c9-4ba9-9036-6e9b03e9ec34\")>,\n",
       " <selenium.webdriver.remote.webelement.WebElement (session=\"1a081d5eabfc4dc47ac43b29b977ac3c\", element=\"19e6b6fe-5b5a-47f8-b3b2-014ebfb533ab\")>,\n",
       " <selenium.webdriver.remote.webelement.WebElement (session=\"1a081d5eabfc4dc47ac43b29b977ac3c\", element=\"ce093051-9d78-44c4-9bf3-1bfd657e8ce5\")>,\n",
       " <selenium.webdriver.remote.webelement.WebElement (session=\"1a081d5eabfc4dc47ac43b29b977ac3c\", element=\"4be47a60-414b-4b3b-96f5-38d85d3bffd4\")>]"
      ]
     },
     "execution_count": 70,
     "metadata": {},
     "output_type": "execute_result"
    }
   ],
   "source": [
    "#lets extract all the tags having the job-titles\n",
    "titles_tags=driver.find_elements_by_xpath(\"//a[@class='title fw500 ellipsis']\")\n",
    "titles_tags[0:10]"
   ]
  },
  {
   "cell_type": "code",
   "execution_count": 71,
   "metadata": {},
   "outputs": [
    {
     "data": {
      "text/plain": [
       "['Assistant Manager II - Data Analyst',\n",
       " 'Data Analyst',\n",
       " 'Data Analyst',\n",
       " 'Data Analyst',\n",
       " 'Business Data Analyst - MIS & Reporting',\n",
       " 'Data Analyst',\n",
       " 'Hiring For Data Analyst',\n",
       " 'Senior Data Analyst',\n",
       " 'Data Analyst / Business Analyst',\n",
       " 'Data Analyst with Marketing Analytics-Capco']"
      ]
     },
     "execution_count": 71,
     "metadata": {},
     "output_type": "execute_result"
    }
   ],
   "source": [
    "#we will run the loop to extract the text from the above tags extracted\n",
    "for i in titles_tags:\n",
    "    title=i.text\n",
    "    job_titles.append(title)\n",
    "job_titles[0:10]"
   ]
  },
  {
   "cell_type": "code",
   "execution_count": 72,
   "metadata": {},
   "outputs": [
    {
     "data": {
      "text/plain": [
       "[<selenium.webdriver.remote.webelement.WebElement (session=\"1a081d5eabfc4dc47ac43b29b977ac3c\", element=\"4f23a7a4-be3b-4844-8fa3-5d9e3dbd08ae\")>,\n",
       " <selenium.webdriver.remote.webelement.WebElement (session=\"1a081d5eabfc4dc47ac43b29b977ac3c\", element=\"abd109f1-f602-4b7d-a64c-bbf46753b5ad\")>,\n",
       " <selenium.webdriver.remote.webelement.WebElement (session=\"1a081d5eabfc4dc47ac43b29b977ac3c\", element=\"d5933e1b-ab78-4056-b1b2-03f77aa56d0c\")>,\n",
       " <selenium.webdriver.remote.webelement.WebElement (session=\"1a081d5eabfc4dc47ac43b29b977ac3c\", element=\"c74c3717-9d74-40ed-8ae8-ef4e6b8a2b2b\")>,\n",
       " <selenium.webdriver.remote.webelement.WebElement (session=\"1a081d5eabfc4dc47ac43b29b977ac3c\", element=\"d0f84157-5c40-4cb4-9b4a-592678248ddd\")>,\n",
       " <selenium.webdriver.remote.webelement.WebElement (session=\"1a081d5eabfc4dc47ac43b29b977ac3c\", element=\"532815c7-b1c2-4a5f-b0d3-7130ba6b5836\")>,\n",
       " <selenium.webdriver.remote.webelement.WebElement (session=\"1a081d5eabfc4dc47ac43b29b977ac3c\", element=\"3c6adb45-a369-49b4-900c-fb3b8053040e\")>,\n",
       " <selenium.webdriver.remote.webelement.WebElement (session=\"1a081d5eabfc4dc47ac43b29b977ac3c\", element=\"d39cd340-8899-4d8d-ad52-dd8470f67bed\")>,\n",
       " <selenium.webdriver.remote.webelement.WebElement (session=\"1a081d5eabfc4dc47ac43b29b977ac3c\", element=\"deab39b3-602b-4f7b-94e3-5887a1cc21e1\")>,\n",
       " <selenium.webdriver.remote.webelement.WebElement (session=\"1a081d5eabfc4dc47ac43b29b977ac3c\", element=\"726e952a-7eed-4e67-a8b2-09cbb3561a37\")>]"
      ]
     },
     "execution_count": 72,
     "metadata": {},
     "output_type": "execute_result"
    }
   ],
   "source": [
    "#lets extract all the tags having the company-names\n",
    "companies_tags=driver.find_elements_by_xpath(\"//a[@class='subTitle ellipsis fleft']\")\n",
    "companies_tags[0:10]"
   ]
  },
  {
   "cell_type": "code",
   "execution_count": 73,
   "metadata": {},
   "outputs": [
    {
     "data": {
      "text/plain": [
       "['Flipkart Internet Private Limited',\n",
       " 'Super India Tech Mark',\n",
       " 'tech mahindra ltd',\n",
       " 'GlaxoSmithKline Pharmaceuticals Limited',\n",
       " 'INTERTRUST GROUP',\n",
       " 'Xiaomi',\n",
       " 'Concentrix Daksh Services India Private Limited.',\n",
       " 'Cerner',\n",
       " 'LatentView Analytics Private Limited',\n",
       " 'Capco Technologies Pvt Ltd']"
      ]
     },
     "execution_count": 73,
     "metadata": {},
     "output_type": "execute_result"
    }
   ],
   "source": [
    "#we will run the loop to extract the text from the above tags extracted\n",
    "for i in companies_tags:\n",
    "    company_name=i.text\n",
    "    company_names.append(company_name)\n",
    "company_names[0:10]"
   ]
  },
  {
   "cell_type": "code",
   "execution_count": 74,
   "metadata": {},
   "outputs": [
    {
     "data": {
      "text/plain": [
       "[<selenium.webdriver.remote.webelement.WebElement (session=\"1a081d5eabfc4dc47ac43b29b977ac3c\", element=\"9f1d738b-d40c-4d04-9fef-f7702254e93e\")>,\n",
       " <selenium.webdriver.remote.webelement.WebElement (session=\"1a081d5eabfc4dc47ac43b29b977ac3c\", element=\"9e0c5743-4123-4a78-81a2-ca575917910b\")>,\n",
       " <selenium.webdriver.remote.webelement.WebElement (session=\"1a081d5eabfc4dc47ac43b29b977ac3c\", element=\"2ec0ccee-3760-4788-903d-10b4ad135457\")>,\n",
       " <selenium.webdriver.remote.webelement.WebElement (session=\"1a081d5eabfc4dc47ac43b29b977ac3c\", element=\"fcbe958a-8156-46fe-a161-af02f140e6a8\")>,\n",
       " <selenium.webdriver.remote.webelement.WebElement (session=\"1a081d5eabfc4dc47ac43b29b977ac3c\", element=\"790a9335-f3b6-4d1e-8df3-58ad8387c2c7\")>,\n",
       " <selenium.webdriver.remote.webelement.WebElement (session=\"1a081d5eabfc4dc47ac43b29b977ac3c\", element=\"53000f10-2c2d-4c53-8838-8890a3507729\")>,\n",
       " <selenium.webdriver.remote.webelement.WebElement (session=\"1a081d5eabfc4dc47ac43b29b977ac3c\", element=\"c79f24c5-36c4-4d44-b7cc-b9f8e1fadaae\")>,\n",
       " <selenium.webdriver.remote.webelement.WebElement (session=\"1a081d5eabfc4dc47ac43b29b977ac3c\", element=\"35cf8cc9-41de-44ad-8f06-36656afbdb93\")>,\n",
       " <selenium.webdriver.remote.webelement.WebElement (session=\"1a081d5eabfc4dc47ac43b29b977ac3c\", element=\"3b2ce11c-8994-4e90-97cf-0ceb96137045\")>,\n",
       " <selenium.webdriver.remote.webelement.WebElement (session=\"1a081d5eabfc4dc47ac43b29b977ac3c\", element=\"b1ebd392-2a98-4451-a508-6b047e02d886\")>]"
      ]
     },
     "execution_count": 74,
     "metadata": {},
     "output_type": "execute_result"
    }
   ],
   "source": [
    "#lets extract all the tags having the locations\n",
    "locations_tags=driver.find_elements_by_xpath(\"//di[@class='fleft grey-text br2 placeHolderLi location']/span[1]\")\n",
    "locations_tags[0:10]"
   ]
  },
  {
   "cell_type": "code",
   "execution_count": 75,
   "metadata": {},
   "outputs": [
    {
     "data": {
      "text/plain": [
       "['Bangalore/Bengaluru',\n",
       " 'Bangalore/Bengaluru(Devalapur)',\n",
       " 'Bangalore/Bengaluru',\n",
       " 'Bangalore/Bengaluru',\n",
       " 'Mumbai, Bangalore/Bengaluru',\n",
       " 'Bangalore/Bengaluru',\n",
       " 'Hyderabad/Secunderabad, Pune, Chennai, Bangalore/Bengaluru, Delhi / NCR, Mumbai (All Areas)',\n",
       " 'Bangalore/Bengaluru',\n",
       " 'Chennai, Bangalore/Bengaluru',\n",
       " 'Pune, Bangalore/Bengaluru']"
      ]
     },
     "execution_count": 75,
     "metadata": {},
     "output_type": "execute_result"
    }
   ],
   "source": [
    "#we will run the loop to extract the text from the above tags extracted\n",
    "for i in locations_tags:\n",
    "    location=i.text\n",
    "    locations_list.append(location)\n",
    "locations_list[0:10]"
   ]
  },
  {
   "cell_type": "code",
   "execution_count": 76,
   "metadata": {},
   "outputs": [
    {
     "data": {
      "text/plain": [
       "[<selenium.webdriver.remote.webelement.WebElement (session=\"1a081d5eabfc4dc47ac43b29b977ac3c\", element=\"a92d4125-1db6-4422-809c-cd2ff54050b5\")>,\n",
       " <selenium.webdriver.remote.webelement.WebElement (session=\"1a081d5eabfc4dc47ac43b29b977ac3c\", element=\"79b7fc63-e02e-448e-9d61-de80b9614d70\")>,\n",
       " <selenium.webdriver.remote.webelement.WebElement (session=\"1a081d5eabfc4dc47ac43b29b977ac3c\", element=\"7aca7cd9-a9a8-4a92-9414-5e6c6d51ecc2\")>,\n",
       " <selenium.webdriver.remote.webelement.WebElement (session=\"1a081d5eabfc4dc47ac43b29b977ac3c\", element=\"03db3907-6bd4-4815-a92f-a147e51341ad\")>,\n",
       " <selenium.webdriver.remote.webelement.WebElement (session=\"1a081d5eabfc4dc47ac43b29b977ac3c\", element=\"3d477ee2-d71f-4fb5-a841-a012959fda2c\")>,\n",
       " <selenium.webdriver.remote.webelement.WebElement (session=\"1a081d5eabfc4dc47ac43b29b977ac3c\", element=\"c517ff33-b4e8-4f32-a0e5-1cff9bb5f113\")>,\n",
       " <selenium.webdriver.remote.webelement.WebElement (session=\"1a081d5eabfc4dc47ac43b29b977ac3c\", element=\"397a67af-041a-47c2-8528-bea5c7e95922\")>,\n",
       " <selenium.webdriver.remote.webelement.WebElement (session=\"1a081d5eabfc4dc47ac43b29b977ac3c\", element=\"ef35d175-61dc-4807-9715-0112a570b688\")>,\n",
       " <selenium.webdriver.remote.webelement.WebElement (session=\"1a081d5eabfc4dc47ac43b29b977ac3c\", element=\"877ece83-a1b5-4ba7-9aaa-ee3d63a09502\")>,\n",
       " <selenium.webdriver.remote.webelement.WebElement (session=\"1a081d5eabfc4dc47ac43b29b977ac3c\", element=\"624bac91-d989-4dda-afc8-762165a92b83\")>]"
      ]
     },
     "execution_count": 76,
     "metadata": {},
     "output_type": "execute_result"
    }
   ],
   "source": [
    "#lets extract all the tags having the locations\n",
    "experience_tags=driver.find_elements_by_xpath(\"//li[@class='fleft grey-text br2 placeHolderLi experience']/span[1]\")\n",
    "experience_tags[0:10]"
   ]
  },
  {
   "cell_type": "code",
   "execution_count": 77,
   "metadata": {},
   "outputs": [
    {
     "data": {
      "text/plain": [
       "['4-8 Yrs',\n",
       " '0-2 Yrs',\n",
       " '4-8 Yrs',\n",
       " '2-7 Yrs',\n",
       " '3-7 Yrs',\n",
       " '2-6 Yrs',\n",
       " '2-7 Yrs',\n",
       " '3-5 Yrs',\n",
       " '1-6 Yrs',\n",
       " '4-9 Yrs']"
      ]
     },
     "execution_count": 77,
     "metadata": {},
     "output_type": "execute_result"
    }
   ],
   "source": [
    "#we will run the loop to extract the text from the above tags extracted\n",
    "for i in experience_tags:\n",
    "    experience=i.text\n",
    "    experience_req.append(experience)\n",
    "experience_req[0:10]"
   ]
  },
  {
   "cell_type": "code",
   "execution_count": 78,
   "metadata": {},
   "outputs": [],
   "source": [
    "import pandas as pd\n",
    "jobs=pd.DataFrame({})\n",
    "jobs['title']=job_titles[0:10]\n",
    "jobs['company']=company_names[0:10]\n",
    "jobs['location']=locations_list[0:10]\n",
    "jobs['experience']=experience_req[0:10]"
   ]
  },
  {
   "cell_type": "code",
   "execution_count": 79,
   "metadata": {},
   "outputs": [
    {
     "data": {
      "text/html": [
       "<div>\n",
       "<style scoped>\n",
       "    .dataframe tbody tr th:only-of-type {\n",
       "        vertical-align: middle;\n",
       "    }\n",
       "\n",
       "    .dataframe tbody tr th {\n",
       "        vertical-align: top;\n",
       "    }\n",
       "\n",
       "    .dataframe thead th {\n",
       "        text-align: right;\n",
       "    }\n",
       "</style>\n",
       "<table border=\"1\" class=\"dataframe\">\n",
       "  <thead>\n",
       "    <tr style=\"text-align: right;\">\n",
       "      <th></th>\n",
       "      <th>title</th>\n",
       "      <th>company</th>\n",
       "      <th>location</th>\n",
       "      <th>experience</th>\n",
       "    </tr>\n",
       "  </thead>\n",
       "  <tbody>\n",
       "    <tr>\n",
       "      <th>0</th>\n",
       "      <td>Assistant Manager II - Data Analyst</td>\n",
       "      <td>Flipkart Internet Private Limited</td>\n",
       "      <td>Bangalore/Bengaluru</td>\n",
       "      <td>4-8 Yrs</td>\n",
       "    </tr>\n",
       "    <tr>\n",
       "      <th>1</th>\n",
       "      <td>Data Analyst</td>\n",
       "      <td>Super India Tech Mark</td>\n",
       "      <td>Bangalore/Bengaluru(Devalapur)</td>\n",
       "      <td>0-2 Yrs</td>\n",
       "    </tr>\n",
       "    <tr>\n",
       "      <th>2</th>\n",
       "      <td>Data Analyst</td>\n",
       "      <td>tech mahindra ltd</td>\n",
       "      <td>Bangalore/Bengaluru</td>\n",
       "      <td>4-8 Yrs</td>\n",
       "    </tr>\n",
       "    <tr>\n",
       "      <th>3</th>\n",
       "      <td>Data Analyst</td>\n",
       "      <td>GlaxoSmithKline Pharmaceuticals Limited</td>\n",
       "      <td>Bangalore/Bengaluru</td>\n",
       "      <td>2-7 Yrs</td>\n",
       "    </tr>\n",
       "    <tr>\n",
       "      <th>4</th>\n",
       "      <td>Business Data Analyst - MIS &amp; Reporting</td>\n",
       "      <td>INTERTRUST GROUP</td>\n",
       "      <td>Mumbai, Bangalore/Bengaluru</td>\n",
       "      <td>3-7 Yrs</td>\n",
       "    </tr>\n",
       "    <tr>\n",
       "      <th>5</th>\n",
       "      <td>Data Analyst</td>\n",
       "      <td>Xiaomi</td>\n",
       "      <td>Bangalore/Bengaluru</td>\n",
       "      <td>2-6 Yrs</td>\n",
       "    </tr>\n",
       "    <tr>\n",
       "      <th>6</th>\n",
       "      <td>Hiring For Data Analyst</td>\n",
       "      <td>Concentrix Daksh Services India Private Limited.</td>\n",
       "      <td>Hyderabad/Secunderabad, Pune, Chennai, Bangalo...</td>\n",
       "      <td>2-7 Yrs</td>\n",
       "    </tr>\n",
       "    <tr>\n",
       "      <th>7</th>\n",
       "      <td>Senior Data Analyst</td>\n",
       "      <td>Cerner</td>\n",
       "      <td>Bangalore/Bengaluru</td>\n",
       "      <td>3-5 Yrs</td>\n",
       "    </tr>\n",
       "    <tr>\n",
       "      <th>8</th>\n",
       "      <td>Data Analyst / Business Analyst</td>\n",
       "      <td>LatentView Analytics Private Limited</td>\n",
       "      <td>Chennai, Bangalore/Bengaluru</td>\n",
       "      <td>1-6 Yrs</td>\n",
       "    </tr>\n",
       "    <tr>\n",
       "      <th>9</th>\n",
       "      <td>Data Analyst with Marketing Analytics-Capco</td>\n",
       "      <td>Capco Technologies Pvt Ltd</td>\n",
       "      <td>Pune, Bangalore/Bengaluru</td>\n",
       "      <td>4-9 Yrs</td>\n",
       "    </tr>\n",
       "  </tbody>\n",
       "</table>\n",
       "</div>"
      ],
      "text/plain": [
       "                                         title  \\\n",
       "0          Assistant Manager II - Data Analyst   \n",
       "1                                 Data Analyst   \n",
       "2                                 Data Analyst   \n",
       "3                                 Data Analyst   \n",
       "4      Business Data Analyst - MIS & Reporting   \n",
       "5                                 Data Analyst   \n",
       "6                      Hiring For Data Analyst   \n",
       "7                          Senior Data Analyst   \n",
       "8              Data Analyst / Business Analyst   \n",
       "9  Data Analyst with Marketing Analytics-Capco   \n",
       "\n",
       "                                            company  \\\n",
       "0                 Flipkart Internet Private Limited   \n",
       "1                             Super India Tech Mark   \n",
       "2                                 tech mahindra ltd   \n",
       "3           GlaxoSmithKline Pharmaceuticals Limited   \n",
       "4                                  INTERTRUST GROUP   \n",
       "5                                            Xiaomi   \n",
       "6  Concentrix Daksh Services India Private Limited.   \n",
       "7                                            Cerner   \n",
       "8              LatentView Analytics Private Limited   \n",
       "9                        Capco Technologies Pvt Ltd   \n",
       "\n",
       "                                            location experience  \n",
       "0                                Bangalore/Bengaluru    4-8 Yrs  \n",
       "1                     Bangalore/Bengaluru(Devalapur)    0-2 Yrs  \n",
       "2                                Bangalore/Bengaluru    4-8 Yrs  \n",
       "3                                Bangalore/Bengaluru    2-7 Yrs  \n",
       "4                        Mumbai, Bangalore/Bengaluru    3-7 Yrs  \n",
       "5                                Bangalore/Bengaluru    2-6 Yrs  \n",
       "6  Hyderabad/Secunderabad, Pune, Chennai, Bangalo...    2-7 Yrs  \n",
       "7                                Bangalore/Bengaluru    3-5 Yrs  \n",
       "8                       Chennai, Bangalore/Bengaluru    1-6 Yrs  \n",
       "9                          Pune, Bangalore/Bengaluru    4-9 Yrs  "
      ]
     },
     "execution_count": 79,
     "metadata": {},
     "output_type": "execute_result"
    }
   ],
   "source": [
    "jobs"
   ]
  },
  {
   "cell_type": "markdown",
   "metadata": {},
   "source": [
    "# selenium assignment 2"
   ]
  },
  {
   "cell_type": "code",
   "execution_count": 20,
   "metadata": {},
   "outputs": [],
   "source": [
    "job_description=[]"
   ]
  },
  {
   "cell_type": "code",
   "execution_count": 21,
   "metadata": {},
   "outputs": [],
   "source": [
    "#specifing the url of the page to be scraped\n",
    "url1=\"https://www.naukri.com/job-listings-assistant-manager-ii-data-analyst-flipkart-internet-private-limited-bangalore-bengaluru-4-to-8-years-150321900171?src=jobsearchDesk&sid=16169520567799598&xp=1&px=1\""
   ]
  },
  {
   "cell_type": "code",
   "execution_count": 22,
   "metadata": {},
   "outputs": [],
   "source": [
    "driver.get(url1)"
   ]
  },
  {
   "cell_type": "code",
   "execution_count": 23,
   "metadata": {},
   "outputs": [
    {
     "data": {
      "text/plain": [
       "[<selenium.webdriver.remote.webelement.WebElement (session=\"0641aa35fba522ad5eb49bc7ba9f32f5\", element=\"3a7e238a-535e-4fbe-9901-747846f5d5fe\")>]"
      ]
     },
     "execution_count": 23,
     "metadata": {},
     "output_type": "execute_result"
    }
   ],
   "source": [
    "description_tags=driver.find_elements_by_xpath(\"//div[@class='dang-inner-html']\")\n",
    "description_tags"
   ]
  },
  {
   "cell_type": "code",
   "execution_count": 24,
   "metadata": {},
   "outputs": [
    {
     "data": {
      "text/plain": [
       "['About the team\\nGroup Internal Audit is Flipkart Corporate function overlooking the Internal Audit activities across Flipkart group companies.\\nAbout the role\\nPrimary responsibility would be to develop and maintain an effective and automated system of data analytics and test large volumes of data for outliers, anomalies, patterns, trends and helps evaluate the adequacy and effectiveness of process and controls and provide enhanced insight into risks and controls. Works with the relevant Internal Audit Directors and Internal Audit team members to continuously define and outline the analytics best needed for the audits projects being conducted. Develops the necessary analytics to support Internal Audit engagements and supports the Internal Audit team members as appropriate in the interpretation and clarification of analytics output.\\nWhat you’ll do:\\nIdentify, design, and develop data analytics extract routines to support audit activities performed by the Internal Audit team from scoping to testing.?\\nDemonstrate proficiency and practical understanding of data analysis concepts and basic programming techniques. Provide technical expertise on data extraction, data cleansing, data mining & analysis and generate output for visualization/analysis.\\nUse data analysis tools to automate audit testing and develop techniques for continuous auditing and analysing large volumes of data.\\nDemonstrate ability to understand complex and diverse technology and identify sources and tools needed to deliver analysis and reports.\\nInteract with management and business partners to identify appropriate data sources and data elements required for analytics, applying professional scepticism when assessing data sources and validating the completeness and accuracy of data received.\\nPromote opportunities for advanced data analytics, robotic process automation and AI.\\nResearch and communicate best practices, identify areas for improvement and provide effective recommendations and sound audit conclusions\\nData Analyst must demonstrate a disciplined approach to decision-making that is risk-based, data-driven, agile to shifting demands and expectations.\\nFoster strong relationships with fellow auditors and business partners at all levels; be a trusted advisor.?\\nProactively hold discussions with the Internal Audit leadership to brainstorm on the complex analysis, develop the logic and script/code/workflows, and discuss limitations and any potential issues.\\nEnhance the Audit Data Analytics journey to support the Flipkart Group Internal audit team in incorporating data analytics into all Compliance, Operational, Strategic and Financial audits within the departmental and professional standards and established timeframes.\\nContribute as an Auditor on audit engagements and partner with IA leadership to effectively plan and execute audit and risk management engagements.\\nWhat you’ll need:\\n4+ years of relevant/recent data analysis/ sciences experience in audit, financial, risk management in a technology-based environment\\nChartered Accountant or B. Tech – Computer Engineer\\nBig 4 public accounting firm is strongly preferred\\nStrong quantitative, analytical, data-intuition and Big Data and statistical skills, and proficiency in data analytics techniques and query/programming languages in SQL, Python, R, Power BI.\\nExperience using IDEA/ ACL/ Alteryx like intelligence tool is a plus\\nDeep knowledge of the technology industry, platform companies strongly preferred.\\nWorking knowledge of internal controls and auditing techniques.\\nStrong planning, project management and analytical skills\\nExcellent leadership, communication and collaboration skills\\nSelf-starter, ability to proactively problem-solve, identify, advocate for and execute improvements\\nAbility to maintain a positive attitude and embrace change, thrive in a fast-paced environment']"
      ]
     },
     "execution_count": 24,
     "metadata": {},
     "output_type": "execute_result"
    }
   ],
   "source": [
    "for i in description_tags:\n",
    "    description=i.text\n",
    "    job_description.append(description)\n",
    "job_description"
   ]
  },
  {
   "cell_type": "code",
   "execution_count": null,
   "metadata": {},
   "outputs": [],
   "source": []
  },
  {
   "cell_type": "code",
   "execution_count": 80,
   "metadata": {},
   "outputs": [],
   "source": [
    "url2=\"https://www.naukri.com/job-listings-data-analyst-super-india-tech-mark-bangalore-bengaluru-0-to-2-years-270321602312?src=jobsearchDesk&sid=16169563260314064&xp=2&px=1\""
   ]
  },
  {
   "cell_type": "code",
   "execution_count": 81,
   "metadata": {},
   "outputs": [],
   "source": [
    "driver.get(url2)"
   ]
  },
  {
   "cell_type": "code",
   "execution_count": 82,
   "metadata": {},
   "outputs": [],
   "source": [
    "job_description1=[]"
   ]
  },
  {
   "cell_type": "code",
   "execution_count": 83,
   "metadata": {},
   "outputs": [
    {
     "data": {
      "text/plain": [
       "[<selenium.webdriver.remote.webelement.WebElement (session=\"1a081d5eabfc4dc47ac43b29b977ac3c\", element=\"bd91420c-866e-4e37-83f0-5fdbcfc480d4\")>]"
      ]
     },
     "execution_count": 83,
     "metadata": {},
     "output_type": "execute_result"
    }
   ],
   "source": [
    "description_tags1=driver.find_elements_by_xpath(\"//div[@class='dang-inner-html']\")\n",
    "description_tags1"
   ]
  },
  {
   "cell_type": "code",
   "execution_count": 84,
   "metadata": {},
   "outputs": [
    {
     "data": {
      "text/plain": [
       "['Roles and Responsibilities\\nBuilding and iterating reports (with eventual design collaboration) based around a large volume of data, from multiple teams - providing data results communicated in required formats and around production data to determine QA of data collected and completeness of data - supporting the data integrity and continued maintenance of data.\\nIn this role, you will have an opportunity to work with vast amounts of meaningful data, made accessible through best-in-class analytical and Business Intelligence tools.\\nShould have consulting skills, business knowledge and SAP solution expertise to effectively integrate SAP technology into the clients business environment in order to design efficient solutions while achieve client expected business results.\\nAbility to analyse and interpret large data sets from a wide variety of sources, with or without schema knowledge.\\nSupport mission-critical and business-critical systems using mature IT and software engineering practices.\\nDesired Candidate Profile\\nKnowledge of statistical, mathematical and machine learning models, and ability to choose appropriate technique for estimation, comparison, classification, prediction and optimization.\\nMBA from a reputable institution is highly desirable, BS or MS degree in Economics, Applied Mathematics, Statistics or area of study related to data sciences and data mining.\\nStrong interpersonal skills with the ability to work with a variety of individuals, both internal and external at a variety of. levels in the organization.\\nAdvanced skills in design of easy-to-use reporting interfaces and interactive dashboards in Spotfire and Excel Education, Experience, Skills.\\nJob Benefits & Perks\\nwhatsapp your cv on 7617573322 hr team']"
      ]
     },
     "execution_count": 84,
     "metadata": {},
     "output_type": "execute_result"
    }
   ],
   "source": [
    "for i in description_tags1:\n",
    "    description1=i.text\n",
    "    job_description1.append(description1)\n",
    "job_description1"
   ]
  },
  {
   "cell_type": "code",
   "execution_count": 85,
   "metadata": {},
   "outputs": [],
   "source": [
    "url3=\"https://www.naukri.com/job-listings-data-analyst-tech-mahindra-ltd-bangalore-bengaluru-4-to-8-years-240321003902?src=jobsearchDesk&sid=16169568648037899&xp=3&px=1\""
   ]
  },
  {
   "cell_type": "code",
   "execution_count": 86,
   "metadata": {},
   "outputs": [],
   "source": [
    "driver.get(url3)"
   ]
  },
  {
   "cell_type": "code",
   "execution_count": 87,
   "metadata": {},
   "outputs": [],
   "source": [
    "job_description2=[]"
   ]
  },
  {
   "cell_type": "code",
   "execution_count": 88,
   "metadata": {},
   "outputs": [
    {
     "data": {
      "text/plain": [
       "[<selenium.webdriver.remote.webelement.WebElement (session=\"1a081d5eabfc4dc47ac43b29b977ac3c\", element=\"ea52417e-1151-4769-8201-c72fc0fcce3e\")>]"
      ]
     },
     "execution_count": 88,
     "metadata": {},
     "output_type": "execute_result"
    }
   ],
   "source": [
    "description_tags2=driver.find_elements_by_xpath(\"//div[@class='dang-inner-html']\")\n",
    "description_tags2"
   ]
  },
  {
   "cell_type": "code",
   "execution_count": 89,
   "metadata": {},
   "outputs": [
    {
     "data": {
      "text/plain": [
       "['Lists role title\\n\\nData Management Analyst\\n\\nRole\\nPurpose\\n(Job Profile Summary)\\n\\nProvides a brief high-level summary of the intent of the role, including: role purpose and key benefit/value to organisation/function/business unit (i.e. why does the role exist & where this role makes the most impact?)\\n\\nAs a Data Analyst, you will play an important role in ensuring Customer Data integrity across various source systems. You will bring your technical expertise to analyse, identify and remediate data quality problems and how they impact the busines and our customers.\\nRole Responsibilities\\n(Responsibilities)\\n\\nDetails key responsibilities of the role and describes how the role contributes to team & organisation success through the lenses of accountability, problem solving and know how (in line with Hay Job Evaluation Definitions)\\n\\nOther Considerations:\\nTeaming Capabilities\\nStakeholder Engagement\\nPractical and technical knowledge\\nBullets to be ranked based on importance\\nFocused on results and use observable language\\nDescribes the type of work/challenges, rather than a specific skill\\n\\nThis is how you bring the purpose of your role to life:\\nDevelop an understanding of the system and process consumption of the data you analyse to enable you to perform effective analysis to guide data management strategies which maximise business and customer outcomes.\\nDevelop an understanding of complex Data models and how to collect and interpret data from multiple source systems.\\nAbility to reconcile multiple source system data sets to find misalignments and translate them into business problems.\\nEngage with team members and subject matter experts, seeking their input to help resolve problems related to insufficient/poor data quality, lack of lifecycle management, poor data capture controls, breach of regulatory standards, insufficient data access controls, lack of access to data for consuming process and application, inefficient data models creating performance and data quality issues.\\nPrepare remediation inputs for both automated and manual remediation activities.\\nAbility to automate and create Reusable frameworks to measure and Remediate Data Quality Issues\\nMonitor data governance and quality processes, identify opportunities for enhancements and communicate recommendations to the team to help establish new data quality profiling processes\\nCollaborate and build relationships with specific stakeholders to understand data requirements and advise on best practice data governance, architecture and management approaches from concept design to solution.\\nDevelop your knowledge of up to date innovative and emerging data management and governance practices and consider how it can be implemented in Telstra to enhance current processes and systems.\\nCompetence\\n\\nList of most critical skills that are required to be successful in the role\\n\\nAnalysing Data sets using Automation\\nAutomating data\\nApplying Agile practices\\nCollaborate Collaborates to achieve outcomes\\nCommercial Acumen\\nDelivering Analytics Solution\\nEngineering Data Infrastructure at scale\\nInnovate Challenges to Simplify\\nManaging Data Governance\\nMotivate Empowers and coaches others\\nMotivate Motivates with Vision and Meaning\\nProblem Solving\\nRecovering form Setbacks\\nTranslating Data Into Insights\\nWriting Effectively\\nCritical Skills\\n(Skills)\\n\\nList of most critical skills that are required to be successful in the role\\n\\nData Analytics\\nAnalysing Data sets using Automation\\nBig Database Technologies (eg: Hadoop, HDFS, Hive, Hbase, Kafka, Flume, Impala)\\nCoding (SQL, Python, Spark, Kafka)\\nSQL, Hive, Spark, Ambari, Zeppelin\\nMicrosoft PowerBI\\nAgile / Scrum practices\\nCloud DataBases (eg: Amazon Redshift, Azure SQL Data Warehouse etc.)\\nDelivering Analytics Solution\\nTranslating Data Into Insights\\nMS Power BI\\nMS Azure Power BI\\nData Modelling']"
      ]
     },
     "execution_count": 89,
     "metadata": {},
     "output_type": "execute_result"
    }
   ],
   "source": [
    "for i in description_tags2:\n",
    "    description2=i.text\n",
    "    job_description2.append(description2)\n",
    "job_description2"
   ]
  },
  {
   "cell_type": "code",
   "execution_count": 90,
   "metadata": {},
   "outputs": [],
   "source": [
    "url4=\"https://www.naukri.com/job-listings-data-analyst-glaxosmithkline-pharmaceuticals-limited-bangalore-bengaluru-2-to-7-years-240321910394?src=jobsearchDesk&sid=1616957250700837&xp=4&px=1\""
   ]
  },
  {
   "cell_type": "code",
   "execution_count": 91,
   "metadata": {},
   "outputs": [],
   "source": [
    "driver.get(url4)"
   ]
  },
  {
   "cell_type": "code",
   "execution_count": 92,
   "metadata": {},
   "outputs": [],
   "source": [
    "job_description3=[]"
   ]
  },
  {
   "cell_type": "code",
   "execution_count": 93,
   "metadata": {},
   "outputs": [
    {
     "data": {
      "text/plain": [
       "[<selenium.webdriver.remote.webelement.WebElement (session=\"1a081d5eabfc4dc47ac43b29b977ac3c\", element=\"c94aa7a8-66da-4a0a-960f-2c0b5eef9135\")>]"
      ]
     },
     "execution_count": 93,
     "metadata": {},
     "output_type": "execute_result"
    }
   ],
   "source": [
    "description_tags3=driver.find_elements_by_xpath(\"//div[@class='clearboth description']\")\n",
    "description_tags3"
   ]
  },
  {
   "cell_type": "code",
   "execution_count": 94,
   "metadata": {},
   "outputs": [
    {
     "data": {
      "text/plain": [
       "['Site Name: India - Karnataka - Bengaluru\\nPosted Date: Jul 23 2020\\nGSK is one of the world’s foremost pharmaceutical and healthcare companies and we are proud to be leading a healthcare revolution.\\nGSK Consumer Healthcare is seeking to make a “Step Change in Digital, Data & Analytics” and is establishing a new-from-the-ground-up Analytics Platform and Products purpose built to help execute on that vision. As a result, we are looking for a Data Analyst to join our Data & Analytics team.\\nBy disrupting our approaches to R&D and commercial business processes, D&A is allowing us to integrate, simplify and unlock all our data to drive innovation, decision making and enable our transformation in servicing our patients, healthcare professionals and consumers.\\nThe ideal candidate would be highly experienced in conducting data analysis on multiple projects simultaneously in a distributed global matrix environment. The Data Analyst will join a strong technical team in a technically demanding area of Tech and so the ideal candidate should possess a strong background in technology and be familiar with Agile and DevOps processes.\\nThis role will provide YOU the opportunity to lead key activities to progress YOUR career. These responsibilities include some of the following.\\nDevelop high-level requirements use cases for projects to support business justification\\nBe face of Product Owner and translate the requirements in form of data mapping, logical data model for engineering team\\nWork closely with the Data Architect to turn conceptual data models into logical and physical models using best practices to ensure high data quality and reduced redundancy\\nImplement and document data architectures and data models consistent with business and technical requirements\\nOptimize and update logical and physical data models to support new and existing projects\\nDevelop test scenarios and test cases in collaboration with data test engineer along with acceptance criteria\\nIdentify and drive opportunities to reuse data models in new environments\\nEffectively communicates with both technical and non-technical staff, stakeholders, end-users, and vendors\\nUnderstand the needs and challenges of the commercial business environment.\\nManages communications with engineering team members, internal and external partners, stakeholders, program staff and users\\nProvide leadership & best practice guidance for requirements analysis and prioritization.\\nElicit business requirements from key stakeholders by using interviews, document analysis, requirements workshops, competitive product analysis, task and workflow analysis\\nMonitor and document post-implementation problems and revision requests to ensure it meets end user needs\\nUnderstand when to highlight risks or issues and ability to clearly communicate them to management teams and stakeholders.\\nIn this role you will interface significantly with senior colleagues across the company in the Commercial Business & in the digital business including product development and new product introduction. This is an excellent time to be joining a highly successful market leader in the healthcare industry and drive significant technology change across the organization.\\nWe are looking for professionals with these skills to achieve our goals. If you have them, we would like to speak to you.\\nBachelor’s degree; MBA or relevant technical degree preferred. Ideal candidate would have built an impressive hands-on career to date in an advanced, recognized and innovative environment.\\nExtensive experience as a Business And/or Data Analyst in Data focused products and proven history working on and delivering complex projects in an Analytics environment space.\\nDeep expertise in producing conceptual, logical and physical data models, and using industry standards artefacts (e.g. ER diagrams) to visualize data models\\nAn understanding of relational databases, including their structure and design\\nAdvanced knowledge of database languages (SQL and variants) including pivoting data, hierarchical queries and query optimization/performance tuning\\nExperience of tools like JIRA, Azure DevOps and experience working in agile environment\\nPrior experience with working with Commercial and/or Supply chain data is a must.\\nKnowledge of Analytics & self-service BI approaches and predictive analytics solutions is a strong advantage.\\nExcellent oral and written communication skills with ability to align stakeholders from business and IT with competing priorities\\nA strong background in technology, analysis and critical evaluation of information gathered from multiple sources\\nExperience writing epics, features, stories including creating workflow/process flow diagrams\\nVery high level of interpersonal skills to work effectively with others, motivate team members, and elicit work output in a team environment\\nProven experience in successfully working in a team setting and ability to reconcile conflicts\\nStrong problem-solving skills and willingness to roll up one’s sleeves to get the job done\\nHave a highly innovative mind-set and experience with analytics in a healthcare or CPG company is a plus.']"
      ]
     },
     "execution_count": 94,
     "metadata": {},
     "output_type": "execute_result"
    }
   ],
   "source": [
    "for i in description_tags3:\n",
    "    description3=i.text\n",
    "    job_description3.append(description3)\n",
    "job_description3"
   ]
  },
  {
   "cell_type": "code",
   "execution_count": 95,
   "metadata": {},
   "outputs": [],
   "source": [
    "url5=\"https://www.naukri.com/job-listings-data-analyst-xiaomi-technology-india-pvt-ltd-bangalore-bengaluru-2-to-6-years-160321006151?src=jobsearchDesk&sid=16169583441124987&xp=5&px=1\""
   ]
  },
  {
   "cell_type": "code",
   "execution_count": 96,
   "metadata": {},
   "outputs": [],
   "source": [
    "driver.get(url5)"
   ]
  },
  {
   "cell_type": "code",
   "execution_count": 97,
   "metadata": {},
   "outputs": [],
   "source": [
    "job_description4=[]"
   ]
  },
  {
   "cell_type": "code",
   "execution_count": 98,
   "metadata": {},
   "outputs": [
    {
     "data": {
      "text/plain": [
       "[<selenium.webdriver.remote.webelement.WebElement (session=\"1a081d5eabfc4dc47ac43b29b977ac3c\", element=\"c3fd1ec4-311c-4508-9ed4-5c8dac39b200\")>]"
      ]
     },
     "execution_count": 98,
     "metadata": {},
     "output_type": "execute_result"
    }
   ],
   "source": [
    "description_tags4=driver.find_elements_by_xpath(\"//div[@class='dang-inner-html']\")\n",
    "description_tags4"
   ]
  },
  {
   "cell_type": "code",
   "execution_count": 99,
   "metadata": {},
   "outputs": [
    {
     "data": {
      "text/plain": [
       "['Roles and Responsibilities\\nWill be responsible for Managing entire MIS work and Monthly KPIs Preparation for AS.\\nWeekly and Monthly Operational Scorecards and Dashboards.\\nStrong working skills on Advance Excel\\nAble to do analyses of issues and problems independently\\nShould have knowledge of managing data over Excel/SQL/MS Access\\nResponsible for updating Network status into different portals.\\nCoordination with After Sales team to complete pending Task.\\nAbility to manage time and work to strict deadlines.']"
      ]
     },
     "execution_count": 99,
     "metadata": {},
     "output_type": "execute_result"
    }
   ],
   "source": [
    "for i in description_tags4:\n",
    "    description4=i.text\n",
    "    job_description4.append(description4)\n",
    "job_description4"
   ]
  },
  {
   "cell_type": "code",
   "execution_count": 100,
   "metadata": {},
   "outputs": [],
   "source": [
    "url6=\"https://www.naukri.com/job-listings-hiring-for-data-analyst-concentrix-daksh-services-india-private-limited-hyderabad-secunderabad-pune-chennai-bangalore-bengaluru-delhi-ncr-mumbai-all-areas-2-to-7-years-120121001100?src=jobsearchDesk&sid=16169588332461193&xp=6&px=1\""
   ]
  },
  {
   "cell_type": "code",
   "execution_count": 101,
   "metadata": {},
   "outputs": [],
   "source": [
    "driver.get(url6)"
   ]
  },
  {
   "cell_type": "code",
   "execution_count": 102,
   "metadata": {},
   "outputs": [],
   "source": [
    "job_description5=[]"
   ]
  },
  {
   "cell_type": "code",
   "execution_count": 103,
   "metadata": {},
   "outputs": [
    {
     "data": {
      "text/plain": [
       "[<selenium.webdriver.remote.webelement.WebElement (session=\"1a081d5eabfc4dc47ac43b29b977ac3c\", element=\"fe37be8f-fa7c-4766-911d-288b8651be86\")>]"
      ]
     },
     "execution_count": 103,
     "metadata": {},
     "output_type": "execute_result"
    }
   ],
   "source": [
    "description_tags5=driver.find_elements_by_xpath(\"//div[@class='dang-inner-html']\")\n",
    "description_tags5"
   ]
  },
  {
   "cell_type": "code",
   "execution_count": 104,
   "metadata": {},
   "outputs": [
    {
     "data": {
      "text/plain": [
       "[\"KeywordData Analysis ,BI , SQL\\nJob Description\\nResponsible to analysis business requirement for data analytics purpose\\nResponsible to design and develop business analysis model\\nResponsible to design and develop for digital application\\nResponsible to data visualization development\\n\\nQualifications:\\nBachelor's Degree in Computer Science or mathematics/statistics\\n2+ years of Data Analysis Experience\\nGood at BI Products like MS Power BI, Tableau, Fine Report\\nGood at Visualization Design for User Experience\\nBe familiar with SQL Development\\nExperience with Spark/Python for ETL/ELT Process development is preferred\\nExperience with Hive, Vertica, Vector is preferred\\nExperience in offshore team collaboration.\"]"
      ]
     },
     "execution_count": 104,
     "metadata": {},
     "output_type": "execute_result"
    }
   ],
   "source": [
    "for i in description_tags5:\n",
    "    description5=i.text\n",
    "    job_description5.append(description5)\n",
    "job_description5"
   ]
  },
  {
   "cell_type": "code",
   "execution_count": 105,
   "metadata": {},
   "outputs": [],
   "source": [
    "url7=\"https://www.naukri.com/job-listings-senior-data-analyst-cerner-healthcare-solutions-india-private-limited-bangalore-bengaluru-3-to-5-years-250321002806?src=jobsearchDesk&sid=16169590946786670&xp=8&px=1\""
   ]
  },
  {
   "cell_type": "code",
   "execution_count": 106,
   "metadata": {},
   "outputs": [],
   "source": [
    "driver.get(url7)"
   ]
  },
  {
   "cell_type": "code",
   "execution_count": 107,
   "metadata": {},
   "outputs": [],
   "source": [
    "job_description6=[]"
   ]
  },
  {
   "cell_type": "code",
   "execution_count": 108,
   "metadata": {},
   "outputs": [
    {
     "data": {
      "text/plain": [
       "[<selenium.webdriver.remote.webelement.WebElement (session=\"1a081d5eabfc4dc47ac43b29b977ac3c\", element=\"0328f606-d165-4308-8a20-32c7b0028894\")>]"
      ]
     },
     "execution_count": 108,
     "metadata": {},
     "output_type": "execute_result"
    }
   ],
   "source": [
    "description_tags6=driver.find_elements_by_xpath(\"//div[@class='dang-inner-html']\")\n",
    "description_tags6"
   ]
  },
  {
   "cell_type": "code",
   "execution_count": 109,
   "metadata": {},
   "outputs": [
    {
     "data": {
      "text/plain": [
       "[\"Roles and Responsibilities\\nAs a Senior Data Analyst, you will analyze, prepare, and process data sets to be consumed for direct insights, statistical modeling or other analytical exploration for internal and external clients. You will consult on data and modeling impacts, guiding clients through interdependencies and analysis decision impacts. Your responsibility includes executing project deliverables with other data analytics team stakeholders and evaluate data sets for analytical possibilities and pitfalls. You will be expected to transform data as appropriate for specific team functions or processes and conduct statistical testing and exploratory data analysis. In this role, you will be creating data visualizations leveraging the design and data presentation guides along with pinpointing trends, correlations, and patterns in complex data sets. Additionally, you will apply subject matter expertise to complex data analytics challenges.\\n\\nExperience & Qualification:\\nBachelor's or Master's degree in Mathematics, Statistics, Analytics, Actuarial Science, Information Systems or related field\\nAt least 4 years of data analysis work experience including data management, transformation, and data management, transformation,\\nAt least 4 years of experience in Data Science and hands-on programming experience in R/Python.\\nConsult on data and modelling impacts, guiding clients through interdependencies and analysis decision impacts\\nLeverage complex tools and processes to explore data sets for possibilities and pitfalls\\nServe as subject matter expert in multiple analytic disciplines\\nConduct sophisticated statistical testing and exploratory data analysis\\nCreate statistical models for analysis and possible production\\nCreate data visualizations leveraging design and data presentation guides\\nManage projects and provide functional oversight for project management activities\"]"
      ]
     },
     "execution_count": 109,
     "metadata": {},
     "output_type": "execute_result"
    }
   ],
   "source": [
    "for i in description_tags6:\n",
    "    description6=i.text\n",
    "    job_description6.append(description6)\n",
    "job_description6"
   ]
  },
  {
   "cell_type": "code",
   "execution_count": 110,
   "metadata": {},
   "outputs": [],
   "source": [
    "url8=\"https://www.naukri.com/job-listings-data-analyst-business-analyst-latentview-analytics-private-limited-chennai-bangalore-bengaluru-1-to-6-years-190321000111?src=jobsearchDesk&sid=16169593506739700&xp=9&px=1\""
   ]
  },
  {
   "cell_type": "code",
   "execution_count": 111,
   "metadata": {},
   "outputs": [],
   "source": [
    "driver.get(url8)"
   ]
  },
  {
   "cell_type": "code",
   "execution_count": 112,
   "metadata": {},
   "outputs": [],
   "source": [
    "job_description7=[]"
   ]
  },
  {
   "cell_type": "code",
   "execution_count": 113,
   "metadata": {},
   "outputs": [
    {
     "data": {
      "text/plain": [
       "[<selenium.webdriver.remote.webelement.WebElement (session=\"1a081d5eabfc4dc47ac43b29b977ac3c\", element=\"d4aa4edb-364f-485a-8387-442353a84524\")>]"
      ]
     },
     "execution_count": 113,
     "metadata": {},
     "output_type": "execute_result"
    }
   ],
   "source": [
    "description_tags7=driver.find_elements_by_xpath(\"//div[@class='clearboth description']\")\n",
    "description_tags7"
   ]
  },
  {
   "cell_type": "code",
   "execution_count": 114,
   "metadata": {},
   "outputs": [
    {
     "data": {
      "text/plain": [
       "['Hi All,\\n\\nWe are hiring passionate Data / Business Analyst !!!\\n\\nYears Of Experience: 1.5 - 8 Years\\nLocation: Chennai / Bangalore\\nNotice Period: Immediate to 30 days\\n\\nInterested candidates kindly inbox your profile to swathi.murali@latentview.com with the below details:\\n\\nYears of Experience\\nNotice Period\\nCurrent CTC\\nExpected CTC\\nNotice Period\\nCurrent Location:\\n\\nJD :\\n1.5+ Years of hands-on experience in delivering analytics solutions for businesses\\nExpertise in RDBMS concepts, SQL or Oracle or Teradata\\nExperience in SQL, R, Python and any visualization tool\\nStrong problem solving, business analysis and quantitative skills; Good communication, Interpersonal skills \\n\\nRegards,\\nTAG Team']"
      ]
     },
     "execution_count": 114,
     "metadata": {},
     "output_type": "execute_result"
    }
   ],
   "source": [
    "for i in description_tags7:\n",
    "    description7=i.text\n",
    "    job_description7.append(description7)\n",
    "job_description7"
   ]
  },
  {
   "cell_type": "code",
   "execution_count": 115,
   "metadata": {},
   "outputs": [],
   "source": [
    "url9=\"https://www.naukri.com/job-listings-data-analyst-with-marketing-analytics-capco-capco-technologies-pvt-ltd-pune-bangalore-bengaluru-4-to-9-years-230321009419?src=jobsearchDesk&sid=16169605826601660&xp=10&px=1\""
   ]
  },
  {
   "cell_type": "code",
   "execution_count": 116,
   "metadata": {},
   "outputs": [],
   "source": [
    "driver.get(url9)"
   ]
  },
  {
   "cell_type": "code",
   "execution_count": 119,
   "metadata": {},
   "outputs": [],
   "source": [
    "job_description8=[]"
   ]
  },
  {
   "cell_type": "code",
   "execution_count": 117,
   "metadata": {},
   "outputs": [
    {
     "data": {
      "text/plain": [
       "[<selenium.webdriver.remote.webelement.WebElement (session=\"1a081d5eabfc4dc47ac43b29b977ac3c\", element=\"67318d9b-1d6f-4793-9194-490b76b8f624\")>]"
      ]
     },
     "execution_count": 117,
     "metadata": {},
     "output_type": "execute_result"
    }
   ],
   "source": [
    "description_tags8=driver.find_elements_by_xpath(\"//div[@class='dang-inner-html']\")\n",
    "description_tags8"
   ]
  },
  {
   "cell_type": "code",
   "execution_count": 120,
   "metadata": {},
   "outputs": [
    {
     "data": {
      "text/plain": [
       "['Data Analyst with Marketing Analytics\\n\\nJob Description:\\nDear,\\n\\nExperience - 4 to 17 Years\\nLocation - Bangalore (Currently working from home since Mar 2020)\\n\\nSkills:- Marketing Analytics, Marketing Analysis, (Python or SQL or SAS)\\n\\nRole Description\\nThis role provides regulatory data analytics using data from different geography. The primary responsibilities would be:\\nUnderstand the Data Requirements for regulatory requirements\\nPerform Data Analysis to develop data sourcing requirement\\nExposure to regulatory/financial domain\\nDevelop data quality rules and implement for data accuracy & Completeness\\nAbility to interpret and manipulate large data sets, data storage, ETL and data modelling\\nProven experience in Data Analysis role with programming skills in SQL and Python\\nUse Group/Regional data source systems written in SQL, and various other data marts, for data cleaning, data quality, and to perform the necessary analysis to highlight key findings such as breaches from key risk parameters within Risk Strategy.\\nStreamline SQL codes and migrate them to cloud using python.\\nGood understanding of data governance, data quality, reference data and data lineage is preferred\\nData Quality Monitoring (Data aggregation, interrogation, data lineage, data analytics)\\nData Quality Issue Management (Data Risk Assessment, Root Cause Analysis)\\nExposure to Pyspark']"
      ]
     },
     "execution_count": 120,
     "metadata": {},
     "output_type": "execute_result"
    }
   ],
   "source": [
    "for i in description_tags8:\n",
    "    description8=i.text\n",
    "    job_description8.append(description8)\n",
    "job_description8"
   ]
  },
  {
   "cell_type": "code",
   "execution_count": 124,
   "metadata": {},
   "outputs": [],
   "source": [
    "url10=\"https://www.naukri.com/job-listings-data-analyst-business-analyst-latentview-analytics-private-limited-chennai-bangalore-bengaluru-1-to-6-years-190321000111?src=jobsearchDesk&sid=16169610784979557&xp=9&px=1\""
   ]
  },
  {
   "cell_type": "code",
   "execution_count": 125,
   "metadata": {},
   "outputs": [],
   "source": [
    "driver.get(url10)"
   ]
  },
  {
   "cell_type": "code",
   "execution_count": 126,
   "metadata": {},
   "outputs": [],
   "source": [
    "job_description9=[]"
   ]
  },
  {
   "cell_type": "code",
   "execution_count": 128,
   "metadata": {},
   "outputs": [
    {
     "data": {
      "text/plain": [
       "[<selenium.webdriver.remote.webelement.WebElement (session=\"1a081d5eabfc4dc47ac43b29b977ac3c\", element=\"d48a5540-9702-4467-91b2-61c286240590\")>]"
      ]
     },
     "execution_count": 128,
     "metadata": {},
     "output_type": "execute_result"
    }
   ],
   "source": [
    "description_tags9=driver.find_elements_by_xpath(\"//div[@class='clearboth description']\")\n",
    "description_tags9"
   ]
  },
  {
   "cell_type": "code",
   "execution_count": 129,
   "metadata": {},
   "outputs": [
    {
     "data": {
      "text/plain": [
       "['Hi All,\\n\\nWe are hiring passionate Data / Business Analyst !!!\\n\\nYears Of Experience: 1.5 - 8 Years\\nLocation: Chennai / Bangalore\\nNotice Period: Immediate to 30 days\\n\\nInterested candidates kindly inbox your profile to swathi.murali@latentview.com with the below details:\\n\\nYears of Experience\\nNotice Period\\nCurrent CTC\\nExpected CTC\\nNotice Period\\nCurrent Location:\\n\\nJD :\\n1.5+ Years of hands-on experience in delivering analytics solutions for businesses\\nExpertise in RDBMS concepts, SQL or Oracle or Teradata\\nExperience in SQL, R, Python and any visualization tool\\nStrong problem solving, business analysis and quantitative skills; Good communication, Interpersonal skills \\n\\nRegards,\\nTAG Team']"
      ]
     },
     "execution_count": 129,
     "metadata": {},
     "output_type": "execute_result"
    }
   ],
   "source": [
    "for i in description_tags9:\n",
    "    description9=i.text\n",
    "    job_description9.append(description9)\n",
    "job_description9"
   ]
  },
  {
   "cell_type": "code",
   "execution_count": null,
   "metadata": {},
   "outputs": [],
   "source": []
  },
  {
   "cell_type": "code",
   "execution_count": 131,
   "metadata": {},
   "outputs": [],
   "source": [
    "jobs['job_description']=job_description+job_description1+job_description2+job_description3+job_description4+job_description5+job_description6+job_description7+job_description8+job_description9"
   ]
  },
  {
   "cell_type": "code",
   "execution_count": 132,
   "metadata": {},
   "outputs": [
    {
     "data": {
      "text/html": [
       "<div>\n",
       "<style scoped>\n",
       "    .dataframe tbody tr th:only-of-type {\n",
       "        vertical-align: middle;\n",
       "    }\n",
       "\n",
       "    .dataframe tbody tr th {\n",
       "        vertical-align: top;\n",
       "    }\n",
       "\n",
       "    .dataframe thead th {\n",
       "        text-align: right;\n",
       "    }\n",
       "</style>\n",
       "<table border=\"1\" class=\"dataframe\">\n",
       "  <thead>\n",
       "    <tr style=\"text-align: right;\">\n",
       "      <th></th>\n",
       "      <th>title</th>\n",
       "      <th>company</th>\n",
       "      <th>location</th>\n",
       "      <th>experience</th>\n",
       "      <th>job_description</th>\n",
       "    </tr>\n",
       "  </thead>\n",
       "  <tbody>\n",
       "    <tr>\n",
       "      <th>0</th>\n",
       "      <td>Assistant Manager II - Data Analyst</td>\n",
       "      <td>Flipkart Internet Private Limited</td>\n",
       "      <td>Bangalore/Bengaluru</td>\n",
       "      <td>4-8 Yrs</td>\n",
       "      <td>About the team\\nGroup Internal Audit is Flipka...</td>\n",
       "    </tr>\n",
       "    <tr>\n",
       "      <th>1</th>\n",
       "      <td>Data Analyst</td>\n",
       "      <td>Super India Tech Mark</td>\n",
       "      <td>Bangalore/Bengaluru(Devalapur)</td>\n",
       "      <td>0-2 Yrs</td>\n",
       "      <td>Roles and Responsibilities\\nBuilding and itera...</td>\n",
       "    </tr>\n",
       "    <tr>\n",
       "      <th>2</th>\n",
       "      <td>Data Analyst</td>\n",
       "      <td>tech mahindra ltd</td>\n",
       "      <td>Bangalore/Bengaluru</td>\n",
       "      <td>4-8 Yrs</td>\n",
       "      <td>Lists role title\\n\\nData Management Analyst\\n\\...</td>\n",
       "    </tr>\n",
       "    <tr>\n",
       "      <th>3</th>\n",
       "      <td>Data Analyst</td>\n",
       "      <td>GlaxoSmithKline Pharmaceuticals Limited</td>\n",
       "      <td>Bangalore/Bengaluru</td>\n",
       "      <td>2-7 Yrs</td>\n",
       "      <td>Site Name: India - Karnataka - Bengaluru\\nPost...</td>\n",
       "    </tr>\n",
       "    <tr>\n",
       "      <th>4</th>\n",
       "      <td>Business Data Analyst - MIS &amp; Reporting</td>\n",
       "      <td>INTERTRUST GROUP</td>\n",
       "      <td>Mumbai, Bangalore/Bengaluru</td>\n",
       "      <td>3-7 Yrs</td>\n",
       "      <td>Roles and Responsibilities\\nWill be responsibl...</td>\n",
       "    </tr>\n",
       "    <tr>\n",
       "      <th>5</th>\n",
       "      <td>Data Analyst</td>\n",
       "      <td>Xiaomi</td>\n",
       "      <td>Bangalore/Bengaluru</td>\n",
       "      <td>2-6 Yrs</td>\n",
       "      <td>KeywordData Analysis ,BI , SQL\\nJob Descriptio...</td>\n",
       "    </tr>\n",
       "    <tr>\n",
       "      <th>6</th>\n",
       "      <td>Hiring For Data Analyst</td>\n",
       "      <td>Concentrix Daksh Services India Private Limited.</td>\n",
       "      <td>Hyderabad/Secunderabad, Pune, Chennai, Bangalo...</td>\n",
       "      <td>2-7 Yrs</td>\n",
       "      <td>Roles and Responsibilities\\nAs a Senior Data A...</td>\n",
       "    </tr>\n",
       "    <tr>\n",
       "      <th>7</th>\n",
       "      <td>Senior Data Analyst</td>\n",
       "      <td>Cerner</td>\n",
       "      <td>Bangalore/Bengaluru</td>\n",
       "      <td>3-5 Yrs</td>\n",
       "      <td>Hi All,\\n\\nWe are hiring passionate Data / Bus...</td>\n",
       "    </tr>\n",
       "    <tr>\n",
       "      <th>8</th>\n",
       "      <td>Data Analyst / Business Analyst</td>\n",
       "      <td>LatentView Analytics Private Limited</td>\n",
       "      <td>Chennai, Bangalore/Bengaluru</td>\n",
       "      <td>1-6 Yrs</td>\n",
       "      <td>Data Analyst with Marketing Analytics\\n\\nJob D...</td>\n",
       "    </tr>\n",
       "    <tr>\n",
       "      <th>9</th>\n",
       "      <td>Data Analyst with Marketing Analytics-Capco</td>\n",
       "      <td>Capco Technologies Pvt Ltd</td>\n",
       "      <td>Pune, Bangalore/Bengaluru</td>\n",
       "      <td>4-9 Yrs</td>\n",
       "      <td>Hi All,\\n\\nWe are hiring passionate Data / Bus...</td>\n",
       "    </tr>\n",
       "  </tbody>\n",
       "</table>\n",
       "</div>"
      ],
      "text/plain": [
       "                                         title  \\\n",
       "0          Assistant Manager II - Data Analyst   \n",
       "1                                 Data Analyst   \n",
       "2                                 Data Analyst   \n",
       "3                                 Data Analyst   \n",
       "4      Business Data Analyst - MIS & Reporting   \n",
       "5                                 Data Analyst   \n",
       "6                      Hiring For Data Analyst   \n",
       "7                          Senior Data Analyst   \n",
       "8              Data Analyst / Business Analyst   \n",
       "9  Data Analyst with Marketing Analytics-Capco   \n",
       "\n",
       "                                            company  \\\n",
       "0                 Flipkart Internet Private Limited   \n",
       "1                             Super India Tech Mark   \n",
       "2                                 tech mahindra ltd   \n",
       "3           GlaxoSmithKline Pharmaceuticals Limited   \n",
       "4                                  INTERTRUST GROUP   \n",
       "5                                            Xiaomi   \n",
       "6  Concentrix Daksh Services India Private Limited.   \n",
       "7                                            Cerner   \n",
       "8              LatentView Analytics Private Limited   \n",
       "9                        Capco Technologies Pvt Ltd   \n",
       "\n",
       "                                            location experience  \\\n",
       "0                                Bangalore/Bengaluru    4-8 Yrs   \n",
       "1                     Bangalore/Bengaluru(Devalapur)    0-2 Yrs   \n",
       "2                                Bangalore/Bengaluru    4-8 Yrs   \n",
       "3                                Bangalore/Bengaluru    2-7 Yrs   \n",
       "4                        Mumbai, Bangalore/Bengaluru    3-7 Yrs   \n",
       "5                                Bangalore/Bengaluru    2-6 Yrs   \n",
       "6  Hyderabad/Secunderabad, Pune, Chennai, Bangalo...    2-7 Yrs   \n",
       "7                                Bangalore/Bengaluru    3-5 Yrs   \n",
       "8                       Chennai, Bangalore/Bengaluru    1-6 Yrs   \n",
       "9                          Pune, Bangalore/Bengaluru    4-9 Yrs   \n",
       "\n",
       "                                     job_description  \n",
       "0  About the team\\nGroup Internal Audit is Flipka...  \n",
       "1  Roles and Responsibilities\\nBuilding and itera...  \n",
       "2  Lists role title\\n\\nData Management Analyst\\n\\...  \n",
       "3  Site Name: India - Karnataka - Bengaluru\\nPost...  \n",
       "4  Roles and Responsibilities\\nWill be responsibl...  \n",
       "5  KeywordData Analysis ,BI , SQL\\nJob Descriptio...  \n",
       "6  Roles and Responsibilities\\nAs a Senior Data A...  \n",
       "7  Hi All,\\n\\nWe are hiring passionate Data / Bus...  \n",
       "8  Data Analyst with Marketing Analytics\\n\\nJob D...  \n",
       "9  Hi All,\\n\\nWe are hiring passionate Data / Bus...  "
      ]
     },
     "execution_count": 132,
     "metadata": {},
     "output_type": "execute_result"
    }
   ],
   "source": [
    "jobs"
   ]
  },
  {
   "cell_type": "markdown",
   "metadata": {},
   "source": [
    "# Assignment question 3"
   ]
  },
  {
   "cell_type": "code",
   "execution_count": 3,
   "metadata": {},
   "outputs": [],
   "source": [
    "driver.get(\"https://www.naukri.com/\")"
   ]
  },
  {
   "cell_type": "code",
   "execution_count": 4,
   "metadata": {},
   "outputs": [],
   "source": [
    "#finding element for job search\n",
    "search_job=driver.find_element_by_id(\"qsb-keyword-sugg\")\n",
    "search_job.send_keys(\"Data scientist\")"
   ]
  },
  {
   "cell_type": "code",
   "execution_count": 5,
   "metadata": {},
   "outputs": [],
   "source": [
    "search_btn=driver.find_element_by_xpath(\"//div[@class='search-btn']/button\")\n",
    "search_btn.click()"
   ]
  },
  {
   "cell_type": "code",
   "execution_count": 6,
   "metadata": {},
   "outputs": [],
   "source": [
    "url11=\"https://www.naukri.com/data-scientist-jobs?k=data%20scientist\""
   ]
  },
  {
   "cell_type": "code",
   "execution_count": 7,
   "metadata": {},
   "outputs": [],
   "source": [
    "driver.get(url11)"
   ]
  },
  {
   "cell_type": "code",
   "execution_count": 9,
   "metadata": {},
   "outputs": [],
   "source": [
    "location_filter=driver.find_element_by_xpath(\"//div[@class='filterOptns']/div[2]\")\n",
    "location_filter.click()"
   ]
  },
  {
   "cell_type": "code",
   "execution_count": 10,
   "metadata": {},
   "outputs": [],
   "source": [
    "s_filter=driver.find_element_by_xpath(\"//div[@class='filters']/div[3]/div[2]/div[2]\")\n",
    "s_filter.click()"
   ]
  },
  {
   "cell_type": "code",
   "execution_count": 11,
   "metadata": {},
   "outputs": [],
   "source": [
    "job_titles1=[]\n",
    "company_names1=[]\n",
    "locations_list1=[]\n",
    "experience_req1=[]"
   ]
  },
  {
   "cell_type": "code",
   "execution_count": 15,
   "metadata": {},
   "outputs": [
    {
     "data": {
      "text/plain": [
       "[<selenium.webdriver.remote.webelement.WebElement (session=\"835373cf905429e464ae75b1b7878f25\", element=\"2969771c-b151-497e-910d-f8b78c21c015\")>,\n",
       " <selenium.webdriver.remote.webelement.WebElement (session=\"835373cf905429e464ae75b1b7878f25\", element=\"faf716c7-27ec-4a60-84af-be08cfddc416\")>,\n",
       " <selenium.webdriver.remote.webelement.WebElement (session=\"835373cf905429e464ae75b1b7878f25\", element=\"4baa64f3-b1f0-4434-8952-ef9f22493bef\")>,\n",
       " <selenium.webdriver.remote.webelement.WebElement (session=\"835373cf905429e464ae75b1b7878f25\", element=\"a047c388-bab1-48b2-8ae0-711bb7206e7f\")>,\n",
       " <selenium.webdriver.remote.webelement.WebElement (session=\"835373cf905429e464ae75b1b7878f25\", element=\"f61b9073-d588-4c31-8dd2-3e5ff15ce372\")>,\n",
       " <selenium.webdriver.remote.webelement.WebElement (session=\"835373cf905429e464ae75b1b7878f25\", element=\"ccfc4990-2dbd-4bbf-b4cd-4ab5ad9bfed7\")>,\n",
       " <selenium.webdriver.remote.webelement.WebElement (session=\"835373cf905429e464ae75b1b7878f25\", element=\"58d572b3-89be-495e-8c52-2a6290976152\")>,\n",
       " <selenium.webdriver.remote.webelement.WebElement (session=\"835373cf905429e464ae75b1b7878f25\", element=\"a02af0df-d68c-4913-80b6-aa5a26c28e9a\")>,\n",
       " <selenium.webdriver.remote.webelement.WebElement (session=\"835373cf905429e464ae75b1b7878f25\", element=\"730be013-18c0-4513-b004-c04f270f867c\")>,\n",
       " <selenium.webdriver.remote.webelement.WebElement (session=\"835373cf905429e464ae75b1b7878f25\", element=\"68869af5-df8c-476b-aee8-ac4b6a24fedc\")>]"
      ]
     },
     "execution_count": 15,
     "metadata": {},
     "output_type": "execute_result"
    }
   ],
   "source": [
    "#lets extract all the tags having the job-titles\n",
    "titles_tags1=driver.find_elements_by_xpath(\"//a[@class='title fw500 ellipsis']\")\n",
    "titles_tags1[0:10]"
   ]
  },
  {
   "cell_type": "code",
   "execution_count": 16,
   "metadata": {},
   "outputs": [
    {
     "data": {
      "text/plain": [
       "['Required- Data Scientist (NLP)-Axis Bank - 6 months contract',\n",
       " 'Data Scientist/Data Analyst - Python/Machine Learning',\n",
       " 'Data Scientist',\n",
       " 'Data Scientist - Python & Machine Learning',\n",
       " 'Data Scientist - Python & Machine Learning',\n",
       " 'Hiring For Data Scientist',\n",
       " 'Data Scientist - Machine Learning/ NLP',\n",
       " 'Data Scientist - Python / Machine Learning / Tableau / Power BI',\n",
       " 'Data Scientist - Python & Machine Learning (ISO 20022)',\n",
       " 'GCP Presales AIML Architect & Data Scientist (Solution Expert / Archit']"
      ]
     },
     "execution_count": 16,
     "metadata": {},
     "output_type": "execute_result"
    }
   ],
   "source": [
    "#we will run the loop to extract the text from the above tags extracted\n",
    "for i in titles_tags1:\n",
    "    title1=i.text\n",
    "    job_titles1.append(title1)\n",
    "job_titles1[0:10]"
   ]
  },
  {
   "cell_type": "code",
   "execution_count": 17,
   "metadata": {},
   "outputs": [
    {
     "data": {
      "text/plain": [
       "[<selenium.webdriver.remote.webelement.WebElement (session=\"835373cf905429e464ae75b1b7878f25\", element=\"cd1589a2-e508-46d0-a1a8-3c5ea4641676\")>,\n",
       " <selenium.webdriver.remote.webelement.WebElement (session=\"835373cf905429e464ae75b1b7878f25\", element=\"0ef605ba-b45c-485b-9865-318e71fe1a11\")>,\n",
       " <selenium.webdriver.remote.webelement.WebElement (session=\"835373cf905429e464ae75b1b7878f25\", element=\"c45c6348-5498-4d11-a671-bf998518337a\")>,\n",
       " <selenium.webdriver.remote.webelement.WebElement (session=\"835373cf905429e464ae75b1b7878f25\", element=\"30c40773-73d6-493f-83ec-2261f3789f38\")>,\n",
       " <selenium.webdriver.remote.webelement.WebElement (session=\"835373cf905429e464ae75b1b7878f25\", element=\"e2684a0e-c8e6-4103-90c6-7498a46f3855\")>,\n",
       " <selenium.webdriver.remote.webelement.WebElement (session=\"835373cf905429e464ae75b1b7878f25\", element=\"9caecc25-e5d9-45e0-acc9-d2f8a1988cd8\")>,\n",
       " <selenium.webdriver.remote.webelement.WebElement (session=\"835373cf905429e464ae75b1b7878f25\", element=\"fdd89d9b-f6c8-4529-9a1e-853033279f3d\")>,\n",
       " <selenium.webdriver.remote.webelement.WebElement (session=\"835373cf905429e464ae75b1b7878f25\", element=\"b80d0a92-5949-4bae-9753-9326eceafaf8\")>,\n",
       " <selenium.webdriver.remote.webelement.WebElement (session=\"835373cf905429e464ae75b1b7878f25\", element=\"2d548ae9-8ccb-4bba-9991-0fd580a63e4e\")>,\n",
       " <selenium.webdriver.remote.webelement.WebElement (session=\"835373cf905429e464ae75b1b7878f25\", element=\"f71bf744-909c-4de4-9d93-aa36364f241e\")>]"
      ]
     },
     "execution_count": 17,
     "metadata": {},
     "output_type": "execute_result"
    }
   ],
   "source": [
    "#lets extract all the tags having the company-names\n",
    "companies_tags1=driver.find_elements_by_xpath(\"//a[@class='subTitle ellipsis fleft']\")\n",
    "companies_tags1[0:10]"
   ]
  },
  {
   "cell_type": "code",
   "execution_count": 18,
   "metadata": {},
   "outputs": [
    {
     "data": {
      "text/plain": [
       "['Axis Bank Limited',\n",
       " 'Change leaders',\n",
       " 'Amity University',\n",
       " 'FUTURES AND CAREERS',\n",
       " 'FUTURES AND CAREERS',\n",
       " 'Max Bupa Health Insurance Company Limited',\n",
       " 'TalPro',\n",
       " 'FUTURES AND CAREERS',\n",
       " 'FUTURES AND CAREERS',\n",
       " 'Lecan Solutions Pvt Ltd']"
      ]
     },
     "execution_count": 18,
     "metadata": {},
     "output_type": "execute_result"
    }
   ],
   "source": [
    "#we will run the loop to extract the text from the above tags extracted\n",
    "for i in companies_tags1:\n",
    "    company_name1=i.text\n",
    "    company_names1.append(company_name1)\n",
    "company_names1[0:10]"
   ]
  },
  {
   "cell_type": "code",
   "execution_count": 19,
   "metadata": {},
   "outputs": [
    {
     "data": {
      "text/plain": [
       "[<selenium.webdriver.remote.webelement.WebElement (session=\"835373cf905429e464ae75b1b7878f25\", element=\"f98e384a-4f0f-4134-b332-b9513140262c\")>,\n",
       " <selenium.webdriver.remote.webelement.WebElement (session=\"835373cf905429e464ae75b1b7878f25\", element=\"51cca888-e270-4133-abea-4ccb44f6b5bb\")>,\n",
       " <selenium.webdriver.remote.webelement.WebElement (session=\"835373cf905429e464ae75b1b7878f25\", element=\"cadb4706-9cb2-436c-82b4-f503ff806075\")>,\n",
       " <selenium.webdriver.remote.webelement.WebElement (session=\"835373cf905429e464ae75b1b7878f25\", element=\"5f32e2fe-a174-4bca-95b0-b95056c7aa3b\")>,\n",
       " <selenium.webdriver.remote.webelement.WebElement (session=\"835373cf905429e464ae75b1b7878f25\", element=\"f705d57d-61df-48ac-94cb-773868ef4c4e\")>,\n",
       " <selenium.webdriver.remote.webelement.WebElement (session=\"835373cf905429e464ae75b1b7878f25\", element=\"5ac16063-1868-4b83-8da4-f24671508833\")>,\n",
       " <selenium.webdriver.remote.webelement.WebElement (session=\"835373cf905429e464ae75b1b7878f25\", element=\"da66913c-2119-44eb-9d49-5b07c8eb6017\")>,\n",
       " <selenium.webdriver.remote.webelement.WebElement (session=\"835373cf905429e464ae75b1b7878f25\", element=\"83908752-8d3b-4335-a3c5-447f7facdc62\")>,\n",
       " <selenium.webdriver.remote.webelement.WebElement (session=\"835373cf905429e464ae75b1b7878f25\", element=\"52126096-6c79-4279-aa13-b32bd4cf3d0b\")>,\n",
       " <selenium.webdriver.remote.webelement.WebElement (session=\"835373cf905429e464ae75b1b7878f25\", element=\"8dbc39c0-95b7-4668-8c05-5291058b74a9\")>]"
      ]
     },
     "execution_count": 19,
     "metadata": {},
     "output_type": "execute_result"
    }
   ],
   "source": [
    "#lets extract all the tags having the locations\n",
    "locations_tags1=driver.find_elements_by_xpath(\"//li[@class='fleft grey-text br2 placeHolderLi location']/span[1]\")\n",
    "locations_tags1[0:10]"
   ]
  },
  {
   "cell_type": "code",
   "execution_count": 20,
   "metadata": {},
   "outputs": [
    {
     "data": {
      "text/plain": [
       "['Kolkata, New Delhi, Hyderabad/Secunderabad, Pune, Chennai, Bangalore/Bengaluru, Mumbai (All Areas)',\n",
       " 'Mumbai, Ghaziabad',\n",
       " 'Ghaziabad, Faridabad, Delhi / NCR',\n",
       " 'Hyderabad/Secunderabad, Pune, Bangalore/Bengaluru, Delhi / NCR, Mumbai (All Areas)',\n",
       " 'Hyderabad/Secunderabad, Bangalore/Bengaluru, Delhi / NCR, Mumbai (All Areas)',\n",
       " 'Gurgaon/Gurugram, Delhi / NCR',\n",
       " 'Gurgaon/Gurugram',\n",
       " 'Hyderabad/Secunderabad, Bangalore/Bengaluru, Delhi / NCR',\n",
       " 'Hyderabad/Secunderabad, Bangalore/Bengaluru, Delhi / NCR',\n",
       " 'Noida']"
      ]
     },
     "execution_count": 20,
     "metadata": {},
     "output_type": "execute_result"
    }
   ],
   "source": [
    "#we will run the loop to extract the text from the above tags extracted\n",
    "for i in locations_tags1:\n",
    "    location1=i.text\n",
    "    locations_list1.append(location1)\n",
    "locations_list1[0:10]"
   ]
  },
  {
   "cell_type": "code",
   "execution_count": 21,
   "metadata": {},
   "outputs": [
    {
     "data": {
      "text/plain": [
       "[<selenium.webdriver.remote.webelement.WebElement (session=\"835373cf905429e464ae75b1b7878f25\", element=\"fc4e195e-04e4-44e4-892a-d5cc5b2d8543\")>,\n",
       " <selenium.webdriver.remote.webelement.WebElement (session=\"835373cf905429e464ae75b1b7878f25\", element=\"b445d4b4-50b4-4daf-ad75-2c01e4b16f15\")>,\n",
       " <selenium.webdriver.remote.webelement.WebElement (session=\"835373cf905429e464ae75b1b7878f25\", element=\"50473897-0781-424a-84be-c1bf45e383c9\")>,\n",
       " <selenium.webdriver.remote.webelement.WebElement (session=\"835373cf905429e464ae75b1b7878f25\", element=\"88fa0b18-be3d-4022-ae8f-4ac77d321a3b\")>,\n",
       " <selenium.webdriver.remote.webelement.WebElement (session=\"835373cf905429e464ae75b1b7878f25\", element=\"7ee5ed26-1aef-4c22-907b-9e98a66b0eb1\")>,\n",
       " <selenium.webdriver.remote.webelement.WebElement (session=\"835373cf905429e464ae75b1b7878f25\", element=\"c9cef23b-cf3d-4e54-b82b-fea9cb1b353f\")>,\n",
       " <selenium.webdriver.remote.webelement.WebElement (session=\"835373cf905429e464ae75b1b7878f25\", element=\"a6d3d003-0a98-4770-afc3-999566e0a165\")>,\n",
       " <selenium.webdriver.remote.webelement.WebElement (session=\"835373cf905429e464ae75b1b7878f25\", element=\"79f0f64a-bf10-47f2-b35e-21210e47b04b\")>,\n",
       " <selenium.webdriver.remote.webelement.WebElement (session=\"835373cf905429e464ae75b1b7878f25\", element=\"9b8abf2c-2cad-4a55-b259-a142b8a6d5c8\")>,\n",
       " <selenium.webdriver.remote.webelement.WebElement (session=\"835373cf905429e464ae75b1b7878f25\", element=\"fa713ddd-a6e3-494a-9d86-f73d917900f0\")>]"
      ]
     },
     "execution_count": 21,
     "metadata": {},
     "output_type": "execute_result"
    }
   ],
   "source": [
    "#lets extract all the tags having the locations\n",
    "experience_tags1=driver.find_elements_by_xpath(\"//li[@class='fleft grey-text br2 placeHolderLi experience']/span[1]\")\n",
    "experience_tags1[0:10]"
   ]
  },
  {
   "cell_type": "code",
   "execution_count": 22,
   "metadata": {},
   "outputs": [
    {
     "data": {
      "text/plain": [
       "['4-9 Yrs',\n",
       " '5-10 Yrs',\n",
       " '6-8 Yrs',\n",
       " '2-7 Yrs',\n",
       " '2-7 Yrs',\n",
       " '1-6 Yrs',\n",
       " '2-6 Yrs',\n",
       " '3-8 Yrs',\n",
       " '3-8 Yrs',\n",
       " '6-11 Yrs']"
      ]
     },
     "execution_count": 22,
     "metadata": {},
     "output_type": "execute_result"
    }
   ],
   "source": [
    "#we will run the loop to extract the text from the above tags extracted\n",
    "for i in experience_tags1:\n",
    "    experience1=i.text\n",
    "    experience_req1.append(experience1)\n",
    "experience_req1[0:10]"
   ]
  },
  {
   "cell_type": "code",
   "execution_count": 23,
   "metadata": {},
   "outputs": [],
   "source": [
    "import pandas as pd\n",
    "jobs1=pd.DataFrame({})\n",
    "jobs1['title']=job_titles1[0:10]\n",
    "jobs1['company']=company_names1[0:10]\n",
    "jobs1['location']=locations_list1[0:10]\n",
    "jobs1['experience']=experience_req1[0:10]"
   ]
  },
  {
   "cell_type": "code",
   "execution_count": 24,
   "metadata": {},
   "outputs": [
    {
     "data": {
      "text/html": [
       "<div>\n",
       "<style scoped>\n",
       "    .dataframe tbody tr th:only-of-type {\n",
       "        vertical-align: middle;\n",
       "    }\n",
       "\n",
       "    .dataframe tbody tr th {\n",
       "        vertical-align: top;\n",
       "    }\n",
       "\n",
       "    .dataframe thead th {\n",
       "        text-align: right;\n",
       "    }\n",
       "</style>\n",
       "<table border=\"1\" class=\"dataframe\">\n",
       "  <thead>\n",
       "    <tr style=\"text-align: right;\">\n",
       "      <th></th>\n",
       "      <th>title</th>\n",
       "      <th>company</th>\n",
       "      <th>location</th>\n",
       "      <th>experience</th>\n",
       "    </tr>\n",
       "  </thead>\n",
       "  <tbody>\n",
       "    <tr>\n",
       "      <th>0</th>\n",
       "      <td>Required- Data Scientist (NLP)-Axis Bank - 6 m...</td>\n",
       "      <td>Axis Bank Limited</td>\n",
       "      <td>Kolkata, New Delhi, Hyderabad/Secunderabad, Pu...</td>\n",
       "      <td>4-9 Yrs</td>\n",
       "    </tr>\n",
       "    <tr>\n",
       "      <th>1</th>\n",
       "      <td>Data Scientist/Data Analyst - Python/Machine L...</td>\n",
       "      <td>Change leaders</td>\n",
       "      <td>Mumbai, Ghaziabad</td>\n",
       "      <td>5-10 Yrs</td>\n",
       "    </tr>\n",
       "    <tr>\n",
       "      <th>2</th>\n",
       "      <td>Data Scientist</td>\n",
       "      <td>Amity University</td>\n",
       "      <td>Ghaziabad, Faridabad, Delhi / NCR</td>\n",
       "      <td>6-8 Yrs</td>\n",
       "    </tr>\n",
       "    <tr>\n",
       "      <th>3</th>\n",
       "      <td>Data Scientist - Python &amp; Machine Learning</td>\n",
       "      <td>FUTURES AND CAREERS</td>\n",
       "      <td>Hyderabad/Secunderabad, Pune, Bangalore/Bengal...</td>\n",
       "      <td>2-7 Yrs</td>\n",
       "    </tr>\n",
       "    <tr>\n",
       "      <th>4</th>\n",
       "      <td>Data Scientist - Python &amp; Machine Learning</td>\n",
       "      <td>FUTURES AND CAREERS</td>\n",
       "      <td>Hyderabad/Secunderabad, Bangalore/Bengaluru, D...</td>\n",
       "      <td>2-7 Yrs</td>\n",
       "    </tr>\n",
       "    <tr>\n",
       "      <th>5</th>\n",
       "      <td>Hiring For Data Scientist</td>\n",
       "      <td>Max Bupa Health Insurance Company Limited</td>\n",
       "      <td>Gurgaon/Gurugram, Delhi / NCR</td>\n",
       "      <td>1-6 Yrs</td>\n",
       "    </tr>\n",
       "    <tr>\n",
       "      <th>6</th>\n",
       "      <td>Data Scientist - Machine Learning/ NLP</td>\n",
       "      <td>TalPro</td>\n",
       "      <td>Gurgaon/Gurugram</td>\n",
       "      <td>2-6 Yrs</td>\n",
       "    </tr>\n",
       "    <tr>\n",
       "      <th>7</th>\n",
       "      <td>Data Scientist - Python / Machine Learning / T...</td>\n",
       "      <td>FUTURES AND CAREERS</td>\n",
       "      <td>Hyderabad/Secunderabad, Bangalore/Bengaluru, D...</td>\n",
       "      <td>3-8 Yrs</td>\n",
       "    </tr>\n",
       "    <tr>\n",
       "      <th>8</th>\n",
       "      <td>Data Scientist - Python &amp; Machine Learning (IS...</td>\n",
       "      <td>FUTURES AND CAREERS</td>\n",
       "      <td>Hyderabad/Secunderabad, Bangalore/Bengaluru, D...</td>\n",
       "      <td>3-8 Yrs</td>\n",
       "    </tr>\n",
       "    <tr>\n",
       "      <th>9</th>\n",
       "      <td>GCP Presales AIML Architect &amp; Data Scientist (...</td>\n",
       "      <td>Lecan Solutions Pvt Ltd</td>\n",
       "      <td>Noida</td>\n",
       "      <td>6-11 Yrs</td>\n",
       "    </tr>\n",
       "  </tbody>\n",
       "</table>\n",
       "</div>"
      ],
      "text/plain": [
       "                                               title  \\\n",
       "0  Required- Data Scientist (NLP)-Axis Bank - 6 m...   \n",
       "1  Data Scientist/Data Analyst - Python/Machine L...   \n",
       "2                                     Data Scientist   \n",
       "3         Data Scientist - Python & Machine Learning   \n",
       "4         Data Scientist - Python & Machine Learning   \n",
       "5                          Hiring For Data Scientist   \n",
       "6             Data Scientist - Machine Learning/ NLP   \n",
       "7  Data Scientist - Python / Machine Learning / T...   \n",
       "8  Data Scientist - Python & Machine Learning (IS...   \n",
       "9  GCP Presales AIML Architect & Data Scientist (...   \n",
       "\n",
       "                                     company  \\\n",
       "0                          Axis Bank Limited   \n",
       "1                             Change leaders   \n",
       "2                           Amity University   \n",
       "3                        FUTURES AND CAREERS   \n",
       "4                        FUTURES AND CAREERS   \n",
       "5  Max Bupa Health Insurance Company Limited   \n",
       "6                                     TalPro   \n",
       "7                        FUTURES AND CAREERS   \n",
       "8                        FUTURES AND CAREERS   \n",
       "9                    Lecan Solutions Pvt Ltd   \n",
       "\n",
       "                                            location experience  \n",
       "0  Kolkata, New Delhi, Hyderabad/Secunderabad, Pu...    4-9 Yrs  \n",
       "1                                  Mumbai, Ghaziabad   5-10 Yrs  \n",
       "2                  Ghaziabad, Faridabad, Delhi / NCR    6-8 Yrs  \n",
       "3  Hyderabad/Secunderabad, Pune, Bangalore/Bengal...    2-7 Yrs  \n",
       "4  Hyderabad/Secunderabad, Bangalore/Bengaluru, D...    2-7 Yrs  \n",
       "5                      Gurgaon/Gurugram, Delhi / NCR    1-6 Yrs  \n",
       "6                                   Gurgaon/Gurugram    2-6 Yrs  \n",
       "7  Hyderabad/Secunderabad, Bangalore/Bengaluru, D...    3-8 Yrs  \n",
       "8  Hyderabad/Secunderabad, Bangalore/Bengaluru, D...    3-8 Yrs  \n",
       "9                                              Noida   6-11 Yrs  "
      ]
     },
     "execution_count": 24,
     "metadata": {},
     "output_type": "execute_result"
    }
   ],
   "source": [
    "jobs1"
   ]
  },
  {
   "cell_type": "markdown",
   "metadata": {},
   "source": [
    "# selenimum assignment 4"
   ]
  },
  {
   "cell_type": "code",
   "execution_count": 34,
   "metadata": {},
   "outputs": [],
   "source": [
    "url12=\"https://www.glassdoor.co.in/index.htm\""
   ]
  },
  {
   "cell_type": "code",
   "execution_count": 35,
   "metadata": {},
   "outputs": [],
   "source": [
    "driver.get(url12)"
   ]
  },
  {
   "cell_type": "code",
   "execution_count": 36,
   "metadata": {},
   "outputs": [],
   "source": [
    "#finding element for job search\n",
    "search_job1=driver.find_element_by_id(\"sc.keyword\")\n",
    "search_job1.send_keys(\"Data Scientist\")\n",
    "search_loc1=driver.find_element_by_id(\"sc.location\")\n",
    "search_loc1.send_keys(\"Noida\")"
   ]
  },
  {
   "cell_type": "code",
   "execution_count": 37,
   "metadata": {},
   "outputs": [],
   "source": [
    "search_btn=driver.find_element_by_xpath(\"//button[@class='gd-ui-button ml-std col-auto SearchStyles__newSearchButton css-iixdfr']/span[1]\")\n",
    "search_btn.click()"
   ]
  },
  {
   "cell_type": "code",
   "execution_count": 44,
   "metadata": {},
   "outputs": [],
   "source": [
    "company_names2=[]\n",
    "posting_dates=[]\n",
    "ratings=[]"
   ]
  },
  {
   "cell_type": "code",
   "execution_count": 41,
   "metadata": {},
   "outputs": [
    {
     "data": {
      "text/plain": [
       "[<selenium.webdriver.remote.webelement.WebElement (session=\"c574ddd833b2e33b650bc8518cb0a36b\", element=\"bba4ebcd-9373-4a8d-8e4d-b95b5b8f9025\")>,\n",
       " <selenium.webdriver.remote.webelement.WebElement (session=\"c574ddd833b2e33b650bc8518cb0a36b\", element=\"2e1c74b4-fca1-45c8-820f-24c81757f411\")>,\n",
       " <selenium.webdriver.remote.webelement.WebElement (session=\"c574ddd833b2e33b650bc8518cb0a36b\", element=\"8aadde1b-9b0b-41d4-a06d-e23cf7bc46cc\")>,\n",
       " <selenium.webdriver.remote.webelement.WebElement (session=\"c574ddd833b2e33b650bc8518cb0a36b\", element=\"e9e4453a-a218-4a75-9ee9-0c3a7ab238a8\")>,\n",
       " <selenium.webdriver.remote.webelement.WebElement (session=\"c574ddd833b2e33b650bc8518cb0a36b\", element=\"06764606-4263-41cb-81c3-22625758e494\")>,\n",
       " <selenium.webdriver.remote.webelement.WebElement (session=\"c574ddd833b2e33b650bc8518cb0a36b\", element=\"0029019c-8a6b-46f9-b2c1-8f6593a144ec\")>,\n",
       " <selenium.webdriver.remote.webelement.WebElement (session=\"c574ddd833b2e33b650bc8518cb0a36b\", element=\"c34761d8-f29c-46ae-83fb-3c3bffc4bed6\")>,\n",
       " <selenium.webdriver.remote.webelement.WebElement (session=\"c574ddd833b2e33b650bc8518cb0a36b\", element=\"ce63904b-631d-46b6-9c35-5b0737c83323\")>,\n",
       " <selenium.webdriver.remote.webelement.WebElement (session=\"c574ddd833b2e33b650bc8518cb0a36b\", element=\"ca1d667f-f67a-4c2d-8818-cb62b4a6f950\")>,\n",
       " <selenium.webdriver.remote.webelement.WebElement (session=\"c574ddd833b2e33b650bc8518cb0a36b\", element=\"dfec2c84-4162-4adc-a2d4-262c6a9d0953\")>]"
      ]
     },
     "execution_count": 41,
     "metadata": {},
     "output_type": "execute_result"
    }
   ],
   "source": [
    "#lets extract all the tags having the company-names\n",
    "companies_tags2=driver.find_elements_by_xpath(\"//a[@class=' css-l2wjgv e1n63ojh0 jobLink']/span[1]\")\n",
    "companies_tags2[0:10]"
   ]
  },
  {
   "cell_type": "code",
   "execution_count": 49,
   "metadata": {},
   "outputs": [
    {
     "data": {
      "text/plain": [
       "['Ericsson-Worldwide',\n",
       " 'Elsevier',\n",
       " 'Biz2Credit Inc',\n",
       " 'Adobe',\n",
       " 'Mahindra Comviva',\n",
       " '',\n",
       " 'Salasar New Age Technologies',\n",
       " 'Microsoft',\n",
       " 'UnitedHealth Group',\n",
       " 'xtLytics']"
      ]
     },
     "execution_count": 49,
     "metadata": {},
     "output_type": "execute_result"
    }
   ],
   "source": [
    "#we will run the loop to extract the text from the above tags extracted\n",
    "for i in companies_tags2:\n",
    "    company_name2=i.text\n",
    "    company_names2.append(company_name2)\n",
    "company_names2[0:10]"
   ]
  },
  {
   "cell_type": "code",
   "execution_count": 43,
   "metadata": {},
   "outputs": [
    {
     "data": {
      "text/plain": [
       "[<selenium.webdriver.remote.webelement.WebElement (session=\"c574ddd833b2e33b650bc8518cb0a36b\", element=\"3f1821a4-a729-481a-91ba-8450572b699a\")>,\n",
       " <selenium.webdriver.remote.webelement.WebElement (session=\"c574ddd833b2e33b650bc8518cb0a36b\", element=\"93bea2c8-5612-4d98-ae12-653445a5a4ed\")>,\n",
       " <selenium.webdriver.remote.webelement.WebElement (session=\"c574ddd833b2e33b650bc8518cb0a36b\", element=\"b800ec42-6950-416a-8eb5-20ba46c14592\")>,\n",
       " <selenium.webdriver.remote.webelement.WebElement (session=\"c574ddd833b2e33b650bc8518cb0a36b\", element=\"38569759-2a12-49a6-a331-2267e73641d5\")>,\n",
       " <selenium.webdriver.remote.webelement.WebElement (session=\"c574ddd833b2e33b650bc8518cb0a36b\", element=\"0e040aae-f67f-4b5b-8903-8fbabc602015\")>,\n",
       " <selenium.webdriver.remote.webelement.WebElement (session=\"c574ddd833b2e33b650bc8518cb0a36b\", element=\"122dd293-ab61-4836-a4bb-2b7697b06bd1\")>,\n",
       " <selenium.webdriver.remote.webelement.WebElement (session=\"c574ddd833b2e33b650bc8518cb0a36b\", element=\"f8a84bd6-ae72-4c9d-b721-0aa56b8f8fb9\")>,\n",
       " <selenium.webdriver.remote.webelement.WebElement (session=\"c574ddd833b2e33b650bc8518cb0a36b\", element=\"94313866-7359-433a-be36-d9eed73524a3\")>,\n",
       " <selenium.webdriver.remote.webelement.WebElement (session=\"c574ddd833b2e33b650bc8518cb0a36b\", element=\"b5f0e3ad-33c8-4cb6-8073-40f7005932da\")>,\n",
       " <selenium.webdriver.remote.webelement.WebElement (session=\"c574ddd833b2e33b650bc8518cb0a36b\", element=\"1fe58a40-13ad-4c92-b74f-dad8aed52c1d\")>]"
      ]
     },
     "execution_count": 43,
     "metadata": {},
     "output_type": "execute_result"
    }
   ],
   "source": [
    "posting_tags=driver.find_elements_by_xpath(\"//div[@class='d-flex align-items-end pl-std css-mi55ob']\")\n",
    "posting_tags[0:10]"
   ]
  },
  {
   "cell_type": "code",
   "execution_count": 45,
   "metadata": {},
   "outputs": [
    {
     "data": {
      "text/plain": [
       "['24h', '5d', '24h', '7d', '13d', '5d', '3d', '10d', '25d', '6d']"
      ]
     },
     "execution_count": 45,
     "metadata": {},
     "output_type": "execute_result"
    }
   ],
   "source": [
    "for i in posting_tags:\n",
    "    posting_date=i.text\n",
    "    posting_dates.append(posting_date)\n",
    "posting_dates[0:10]"
   ]
  },
  {
   "cell_type": "code",
   "execution_count": 46,
   "metadata": {},
   "outputs": [
    {
     "data": {
      "text/plain": [
       "[<selenium.webdriver.remote.webelement.WebElement (session=\"c574ddd833b2e33b650bc8518cb0a36b\", element=\"05b5c310-6f72-496c-92d7-3995600cb4a6\")>,\n",
       " <selenium.webdriver.remote.webelement.WebElement (session=\"c574ddd833b2e33b650bc8518cb0a36b\", element=\"4bde384e-4113-4c28-894b-f4269edec8b6\")>,\n",
       " <selenium.webdriver.remote.webelement.WebElement (session=\"c574ddd833b2e33b650bc8518cb0a36b\", element=\"ba43ef28-de46-481d-9c1b-750025d5d102\")>,\n",
       " <selenium.webdriver.remote.webelement.WebElement (session=\"c574ddd833b2e33b650bc8518cb0a36b\", element=\"b6d64264-224d-4ab5-ab2d-4e78503cc86f\")>,\n",
       " <selenium.webdriver.remote.webelement.WebElement (session=\"c574ddd833b2e33b650bc8518cb0a36b\", element=\"7ca0c996-0440-4ec0-bc54-03b060f38168\")>,\n",
       " <selenium.webdriver.remote.webelement.WebElement (session=\"c574ddd833b2e33b650bc8518cb0a36b\", element=\"697e2150-32f0-47a0-afcd-98228e08e38b\")>,\n",
       " <selenium.webdriver.remote.webelement.WebElement (session=\"c574ddd833b2e33b650bc8518cb0a36b\", element=\"ec7510f0-24c1-4cc9-9e43-626bb8a3db20\")>,\n",
       " <selenium.webdriver.remote.webelement.WebElement (session=\"c574ddd833b2e33b650bc8518cb0a36b\", element=\"c4a2bb81-90b4-468e-8522-3ffbf5b9f9dd\")>,\n",
       " <selenium.webdriver.remote.webelement.WebElement (session=\"c574ddd833b2e33b650bc8518cb0a36b\", element=\"26ec6993-bfcd-42e3-81c0-20a129831893\")>,\n",
       " <selenium.webdriver.remote.webelement.WebElement (session=\"c574ddd833b2e33b650bc8518cb0a36b\", element=\"a8d4189a-4601-4106-8aee-dd50436cab85\")>]"
      ]
     },
     "execution_count": 46,
     "metadata": {},
     "output_type": "execute_result"
    }
   ],
   "source": [
    "ratings_tags=driver.find_elements_by_xpath(\"//span[@class='css-19pjha7 e1cjmv6j1']\")\n",
    "ratings_tags[0:10]"
   ]
  },
  {
   "cell_type": "code",
   "execution_count": 47,
   "metadata": {},
   "outputs": [
    {
     "data": {
      "text/plain": [
       "['4.1', '4.3', '3.8', '4.4', '3.4', '3.6', '4.4', '3.6', '3.0', '3.9']"
      ]
     },
     "execution_count": 47,
     "metadata": {},
     "output_type": "execute_result"
    }
   ],
   "source": [
    "for i in ratings_tags:\n",
    "    rating=i.text\n",
    "    ratings.append(rating)\n",
    "ratings[0:10]"
   ]
  },
  {
   "cell_type": "code",
   "execution_count": 50,
   "metadata": {},
   "outputs": [
    {
     "data": {
      "text/html": [
       "<div>\n",
       "<style scoped>\n",
       "    .dataframe tbody tr th:only-of-type {\n",
       "        vertical-align: middle;\n",
       "    }\n",
       "\n",
       "    .dataframe tbody tr th {\n",
       "        vertical-align: top;\n",
       "    }\n",
       "\n",
       "    .dataframe thead th {\n",
       "        text-align: right;\n",
       "    }\n",
       "</style>\n",
       "<table border=\"1\" class=\"dataframe\">\n",
       "  <thead>\n",
       "    <tr style=\"text-align: right;\">\n",
       "      <th></th>\n",
       "      <th>company</th>\n",
       "      <th>posting date</th>\n",
       "      <th>ratings</th>\n",
       "    </tr>\n",
       "  </thead>\n",
       "  <tbody>\n",
       "    <tr>\n",
       "      <th>0</th>\n",
       "      <td>Ericsson-Worldwide</td>\n",
       "      <td>24h</td>\n",
       "      <td>4.1</td>\n",
       "    </tr>\n",
       "    <tr>\n",
       "      <th>1</th>\n",
       "      <td>Elsevier</td>\n",
       "      <td>5d</td>\n",
       "      <td>4.3</td>\n",
       "    </tr>\n",
       "    <tr>\n",
       "      <th>2</th>\n",
       "      <td>Biz2Credit Inc</td>\n",
       "      <td>24h</td>\n",
       "      <td>3.8</td>\n",
       "    </tr>\n",
       "    <tr>\n",
       "      <th>3</th>\n",
       "      <td>Adobe</td>\n",
       "      <td>7d</td>\n",
       "      <td>4.4</td>\n",
       "    </tr>\n",
       "    <tr>\n",
       "      <th>4</th>\n",
       "      <td>Mahindra Comviva</td>\n",
       "      <td>13d</td>\n",
       "      <td>3.4</td>\n",
       "    </tr>\n",
       "    <tr>\n",
       "      <th>5</th>\n",
       "      <td></td>\n",
       "      <td>5d</td>\n",
       "      <td>3.6</td>\n",
       "    </tr>\n",
       "    <tr>\n",
       "      <th>6</th>\n",
       "      <td>Salasar New Age Technologies</td>\n",
       "      <td>3d</td>\n",
       "      <td>4.4</td>\n",
       "    </tr>\n",
       "    <tr>\n",
       "      <th>7</th>\n",
       "      <td>Microsoft</td>\n",
       "      <td>10d</td>\n",
       "      <td>3.6</td>\n",
       "    </tr>\n",
       "    <tr>\n",
       "      <th>8</th>\n",
       "      <td>UnitedHealth Group</td>\n",
       "      <td>25d</td>\n",
       "      <td>3.0</td>\n",
       "    </tr>\n",
       "    <tr>\n",
       "      <th>9</th>\n",
       "      <td>xtLytics</td>\n",
       "      <td>6d</td>\n",
       "      <td>3.9</td>\n",
       "    </tr>\n",
       "  </tbody>\n",
       "</table>\n",
       "</div>"
      ],
      "text/plain": [
       "                        company posting date ratings\n",
       "0            Ericsson-Worldwide          24h     4.1\n",
       "1                      Elsevier           5d     4.3\n",
       "2                Biz2Credit Inc          24h     3.8\n",
       "3                         Adobe           7d     4.4\n",
       "4              Mahindra Comviva          13d     3.4\n",
       "5                                         5d     3.6\n",
       "6  Salasar New Age Technologies           3d     4.4\n",
       "7                     Microsoft          10d     3.6\n",
       "8            UnitedHealth Group          25d     3.0\n",
       "9                      xtLytics           6d     3.9"
      ]
     },
     "execution_count": 50,
     "metadata": {},
     "output_type": "execute_result"
    }
   ],
   "source": [
    "import pandas as pd\n",
    "jobs2=pd.DataFrame({})\n",
    "jobs2['company']=company_names2[0:10]\n",
    "jobs2['posting date']=posting_dates[0:10]\n",
    "jobs2['ratings']=ratings[0:10]\n",
    "jobs2"
   ]
  },
  {
   "cell_type": "markdown",
   "metadata": {},
   "source": [
    "# selenium assignment 5"
   ]
  },
  {
   "cell_type": "code",
   "execution_count": 1,
   "metadata": {},
   "outputs": [],
   "source": [
    "url13=\"https://www.glassdoor.co.in/Salaries/index.htm\""
   ]
  },
  {
   "cell_type": "code",
   "execution_count": 4,
   "metadata": {},
   "outputs": [],
   "source": [
    "driver.get(url13)"
   ]
  },
  {
   "cell_type": "code",
   "execution_count": 5,
   "metadata": {},
   "outputs": [],
   "source": [
    "#finding element for job search\n",
    "search_job=driver.find_element_by_id(\"KeywordSearch\")\n",
    "search_job.send_keys(\"Data Scientist\")\n",
    "search_loc=driver.find_element_by_id(\"LocationSearch\")\n",
    "search_loc.send_keys(\"Noida\")"
   ]
  },
  {
   "cell_type": "code",
   "execution_count": 6,
   "metadata": {},
   "outputs": [],
   "source": [
    "search_btn=driver.find_element_by_id(\"HeroSearchButton\")\n",
    "search_btn.click()"
   ]
  },
  {
   "cell_type": "code",
   "execution_count": 18,
   "metadata": {},
   "outputs": [],
   "source": [
    "company_names3=[]\n",
    "min_salarys=[]\n",
    "max_salarys=[]\n",
    "avg_salarys=[]\n",
    "no_of_salaries=[]"
   ]
  },
  {
   "cell_type": "code",
   "execution_count": 22,
   "metadata": {},
   "outputs": [
    {
     "data": {
      "text/plain": [
       "[<selenium.webdriver.remote.webelement.WebElement (session=\"0bf0f7fac6388473386885b2303d40cd\", element=\"35e59f66-4b76-483f-a046-60e0b6c2e499\")>,\n",
       " <selenium.webdriver.remote.webelement.WebElement (session=\"0bf0f7fac6388473386885b2303d40cd\", element=\"34896175-1abd-4608-82b3-8747ec754909\")>,\n",
       " <selenium.webdriver.remote.webelement.WebElement (session=\"0bf0f7fac6388473386885b2303d40cd\", element=\"d6312b14-e34d-4050-b947-5a36668775ef\")>,\n",
       " <selenium.webdriver.remote.webelement.WebElement (session=\"0bf0f7fac6388473386885b2303d40cd\", element=\"bd871d93-fa90-44b1-801f-e3760826a80b\")>,\n",
       " <selenium.webdriver.remote.webelement.WebElement (session=\"0bf0f7fac6388473386885b2303d40cd\", element=\"7a2e8252-9b5b-4a65-a5e7-c888ea97ee66\")>,\n",
       " <selenium.webdriver.remote.webelement.WebElement (session=\"0bf0f7fac6388473386885b2303d40cd\", element=\"dbd8de92-6c49-4c23-ac05-87c42d998967\")>,\n",
       " <selenium.webdriver.remote.webelement.WebElement (session=\"0bf0f7fac6388473386885b2303d40cd\", element=\"ff8c0274-dd92-4549-9d2d-9e8dab167b19\")>,\n",
       " <selenium.webdriver.remote.webelement.WebElement (session=\"0bf0f7fac6388473386885b2303d40cd\", element=\"6ae8f9a4-c242-4f2a-8c11-c3874e1becfa\")>,\n",
       " <selenium.webdriver.remote.webelement.WebElement (session=\"0bf0f7fac6388473386885b2303d40cd\", element=\"af51a366-dd07-49bb-96d8-f1f694f7d771\")>,\n",
       " <selenium.webdriver.remote.webelement.WebElement (session=\"0bf0f7fac6388473386885b2303d40cd\", element=\"01337285-dee2-4753-a252-34809a7dea89\")>]"
      ]
     },
     "execution_count": 22,
     "metadata": {},
     "output_type": "execute_result"
    }
   ],
   "source": [
    "#lets extract all the tags having the company-names\n",
    "companies_tags3=driver.find_elements_by_xpath(\"//div[@class='d-flex']/div[2]/p[2]\")\n",
    "companies_tags3[0:10]"
   ]
  },
  {
   "cell_type": "code",
   "execution_count": 23,
   "metadata": {},
   "outputs": [
    {
     "data": {
      "text/plain": [
       "['Tata Consultancy Services',\n",
       " 'Accenture',\n",
       " 'Delhivery',\n",
       " 'IBM',\n",
       " 'Ericsson-Worldwide',\n",
       " 'UnitedHealth Group',\n",
       " 'Valiance Solutions',\n",
       " 'Innovaccer',\n",
       " 'ZS Associates',\n",
       " 'EXL Service']"
      ]
     },
     "execution_count": 23,
     "metadata": {},
     "output_type": "execute_result"
    }
   ],
   "source": [
    "#we will run the loop to extract the text from the above tags extracted\n",
    "for i in companies_tags3:\n",
    "    company_name3=i.text\n",
    "    company_names3.append(company_name3)\n",
    "company_names3[0:10]"
   ]
  },
  {
   "cell_type": "code",
   "execution_count": 24,
   "metadata": {},
   "outputs": [
    {
     "data": {
      "text/plain": [
       "[<selenium.webdriver.remote.webelement.WebElement (session=\"0bf0f7fac6388473386885b2303d40cd\", element=\"b915e12c-d3e4-453b-872a-7e8964aed4fb\")>,\n",
       " <selenium.webdriver.remote.webelement.WebElement (session=\"0bf0f7fac6388473386885b2303d40cd\", element=\"eb780acf-8a48-4544-8238-181f7b49d004\")>,\n",
       " <selenium.webdriver.remote.webelement.WebElement (session=\"0bf0f7fac6388473386885b2303d40cd\", element=\"112848b4-b7de-446e-9ba3-747ff4729aa1\")>,\n",
       " <selenium.webdriver.remote.webelement.WebElement (session=\"0bf0f7fac6388473386885b2303d40cd\", element=\"d95fd300-f94f-4b05-b57b-6303b714653e\")>,\n",
       " <selenium.webdriver.remote.webelement.WebElement (session=\"0bf0f7fac6388473386885b2303d40cd\", element=\"bbe3f7c0-3d9a-4017-a22c-b451e64e0a43\")>,\n",
       " <selenium.webdriver.remote.webelement.WebElement (session=\"0bf0f7fac6388473386885b2303d40cd\", element=\"a52da753-025c-46d3-b77c-a6fd03ef729f\")>,\n",
       " <selenium.webdriver.remote.webelement.WebElement (session=\"0bf0f7fac6388473386885b2303d40cd\", element=\"77e2322d-0452-4803-89da-8277f9e6b772\")>,\n",
       " <selenium.webdriver.remote.webelement.WebElement (session=\"0bf0f7fac6388473386885b2303d40cd\", element=\"909ae330-4355-4f6c-b3e7-a6b0c1eecf2e\")>,\n",
       " <selenium.webdriver.remote.webelement.WebElement (session=\"0bf0f7fac6388473386885b2303d40cd\", element=\"f31c113e-afdc-4843-8cfe-e651d962fc68\")>,\n",
       " <selenium.webdriver.remote.webelement.WebElement (session=\"0bf0f7fac6388473386885b2303d40cd\", element=\"725a08e3-1b54-4273-bd4c-53c8f94e7fd9\")>]"
      ]
     },
     "execution_count": 24,
     "metadata": {},
     "output_type": "execute_result"
    }
   ],
   "source": [
    "min_salary_tags=driver.find_elements_by_xpath(\"//div[@class='common__RangeBarStyle__values d-flex justify-content-between ']/span[1]\")\n",
    "min_salary_tags[0:10]"
   ]
  },
  {
   "cell_type": "code",
   "execution_count": 25,
   "metadata": {},
   "outputs": [
    {
     "data": {
      "text/plain": [
       "['₹336L',\n",
       " '₹579L',\n",
       " '₹452L',\n",
       " '₹589L',\n",
       " '₹350L',\n",
       " '₹1,050L',\n",
       " '₹504L',\n",
       " '₹623L',\n",
       " '₹203L',\n",
       " '₹578L']"
      ]
     },
     "execution_count": 25,
     "metadata": {},
     "output_type": "execute_result"
    }
   ],
   "source": [
    "#we will run the loop to extract the text from the above tags extracted\n",
    "for i in min_salary_tags:\n",
    "    min_salary=i.text\n",
    "    min_salarys.append(min_salary)\n",
    "min_salarys[0:10]"
   ]
  },
  {
   "cell_type": "code",
   "execution_count": 26,
   "metadata": {},
   "outputs": [
    {
     "data": {
      "text/plain": [
       "[<selenium.webdriver.remote.webelement.WebElement (session=\"0bf0f7fac6388473386885b2303d40cd\", element=\"9590dfe4-2654-4f27-b42a-c6e77d811f0a\")>,\n",
       " <selenium.webdriver.remote.webelement.WebElement (session=\"0bf0f7fac6388473386885b2303d40cd\", element=\"610f2f90-c512-4ec0-8ecd-9bf44e845c6e\")>,\n",
       " <selenium.webdriver.remote.webelement.WebElement (session=\"0bf0f7fac6388473386885b2303d40cd\", element=\"c1404e05-b4d8-4096-b852-56d84c29cbb8\")>,\n",
       " <selenium.webdriver.remote.webelement.WebElement (session=\"0bf0f7fac6388473386885b2303d40cd\", element=\"ede6123e-c5bd-4d8f-ac9b-6de65de9e4e0\")>,\n",
       " <selenium.webdriver.remote.webelement.WebElement (session=\"0bf0f7fac6388473386885b2303d40cd\", element=\"ea7b4b72-a6a6-4a77-ae24-cec7d733f3bc\")>,\n",
       " <selenium.webdriver.remote.webelement.WebElement (session=\"0bf0f7fac6388473386885b2303d40cd\", element=\"7589a81b-079e-40f7-8dbc-be8e2bc02ede\")>,\n",
       " <selenium.webdriver.remote.webelement.WebElement (session=\"0bf0f7fac6388473386885b2303d40cd\", element=\"223a11fd-99f7-4441-a6b7-659b5c03751c\")>,\n",
       " <selenium.webdriver.remote.webelement.WebElement (session=\"0bf0f7fac6388473386885b2303d40cd\", element=\"a2b9eaf9-45b9-4865-86b1-032adcd806af\")>,\n",
       " <selenium.webdriver.remote.webelement.WebElement (session=\"0bf0f7fac6388473386885b2303d40cd\", element=\"1c0d693b-5858-41e5-88b8-0ffac6752a91\")>,\n",
       " <selenium.webdriver.remote.webelement.WebElement (session=\"0bf0f7fac6388473386885b2303d40cd\", element=\"a52e21f7-60ad-414b-b72d-98b85502df2b\")>]"
      ]
     },
     "execution_count": 26,
     "metadata": {},
     "output_type": "execute_result"
    }
   ],
   "source": [
    "max_salary_tags=driver.find_elements_by_xpath(\"//div[@class='common__RangeBarStyle__values d-flex justify-content-between ']/span[2]\")\n",
    "max_salary_tags[0:10]"
   ]
  },
  {
   "cell_type": "code",
   "execution_count": 27,
   "metadata": {},
   "outputs": [
    {
     "data": {
      "text/plain": [
       "['₹1,080L',\n",
       " '₹2,222L',\n",
       " '₹11,669L',\n",
       " '₹2,741L',\n",
       " '₹1,619L',\n",
       " '₹1,500L',\n",
       " '₹1,471L',\n",
       " '₹1,702L',\n",
       " '₹1,817L',\n",
       " '₹1,500L']"
      ]
     },
     "execution_count": 27,
     "metadata": {},
     "output_type": "execute_result"
    }
   ],
   "source": [
    "#we will run the loop to extract the text from the above tags extracted\n",
    "for i in max_salary_tags:\n",
    "    max_salary=i.text\n",
    "    max_salarys.append(max_salary)\n",
    "max_salarys[0:10]"
   ]
  },
  {
   "cell_type": "code",
   "execution_count": 28,
   "metadata": {},
   "outputs": [
    {
     "data": {
      "text/plain": [
       "[<selenium.webdriver.remote.webelement.WebElement (session=\"0bf0f7fac6388473386885b2303d40cd\", element=\"0ce73000-0eae-4ab7-b19d-94be199286f3\")>,\n",
       " <selenium.webdriver.remote.webelement.WebElement (session=\"0bf0f7fac6388473386885b2303d40cd\", element=\"72b1ebcd-9603-4341-a0e1-ab3f6575e7ec\")>,\n",
       " <selenium.webdriver.remote.webelement.WebElement (session=\"0bf0f7fac6388473386885b2303d40cd\", element=\"d1fad58e-d3e3-4152-9630-ad0e49be445c\")>,\n",
       " <selenium.webdriver.remote.webelement.WebElement (session=\"0bf0f7fac6388473386885b2303d40cd\", element=\"5eff7ed4-f4ca-4a83-89dd-62bd8de68dd2\")>,\n",
       " <selenium.webdriver.remote.webelement.WebElement (session=\"0bf0f7fac6388473386885b2303d40cd\", element=\"1470d35f-b679-49b0-b9e6-227de93d5e57\")>,\n",
       " <selenium.webdriver.remote.webelement.WebElement (session=\"0bf0f7fac6388473386885b2303d40cd\", element=\"e2e24831-e0e7-49a7-8f9e-8be51ac97687\")>,\n",
       " <selenium.webdriver.remote.webelement.WebElement (session=\"0bf0f7fac6388473386885b2303d40cd\", element=\"b380789a-e45d-48ab-a96a-4f5d2aa48b0f\")>,\n",
       " <selenium.webdriver.remote.webelement.WebElement (session=\"0bf0f7fac6388473386885b2303d40cd\", element=\"d435f046-3e05-4fa5-b9aa-dcdc3e62a605\")>,\n",
       " <selenium.webdriver.remote.webelement.WebElement (session=\"0bf0f7fac6388473386885b2303d40cd\", element=\"29c10729-1632-4d5a-8b44-7473ad57fff6\")>,\n",
       " <selenium.webdriver.remote.webelement.WebElement (session=\"0bf0f7fac6388473386885b2303d40cd\", element=\"0628b023-624b-4b48-aaf7-aff28289b44c\")>]"
      ]
     },
     "execution_count": 28,
     "metadata": {},
     "output_type": "execute_result"
    }
   ],
   "source": [
    "avg_salary_tags=driver.find_elements_by_xpath(\"//div[@class='col-2 d-none d-md-flex flex-row justify-content-end']\")\n",
    "avg_salary_tags[0:10]"
   ]
  },
  {
   "cell_type": "code",
   "execution_count": 29,
   "metadata": {},
   "outputs": [
    {
     "data": {
      "text/plain": [
       "['₹ 6,01,000\\n/yr',\n",
       " '₹ 11,51,207\\n/yr',\n",
       " '₹ 12,34,207\\n/yr',\n",
       " '₹ 7,63,825\\n/yr',\n",
       " '₹ 7,32,209\\n/yr',\n",
       " '₹ 13,88,910\\n/yr',\n",
       " '₹ 8,18,515\\n/yr',\n",
       " '₹ 12,01,403\\n/yr',\n",
       " '₹ 10,00,000\\n/yr',\n",
       " '₹ 11,90,000\\n/yr']"
      ]
     },
     "execution_count": 29,
     "metadata": {},
     "output_type": "execute_result"
    }
   ],
   "source": [
    "#we will run the loop to extract the text from the above tags extracted\n",
    "for i in avg_salary_tags:\n",
    "    avg_salary=i.text\n",
    "    avg_salarys.append(avg_salary)\n",
    "avg_salarys[0:10]"
   ]
  },
  {
   "cell_type": "code",
   "execution_count": 30,
   "metadata": {},
   "outputs": [
    {
     "data": {
      "text/plain": [
       "[<selenium.webdriver.remote.webelement.WebElement (session=\"0bf0f7fac6388473386885b2303d40cd\", element=\"8b64a49c-b0b6-4b2d-8cfb-da7201f1388c\")>,\n",
       " <selenium.webdriver.remote.webelement.WebElement (session=\"0bf0f7fac6388473386885b2303d40cd\", element=\"2394cdb9-131b-42bf-954f-adffdf30bbf0\")>,\n",
       " <selenium.webdriver.remote.webelement.WebElement (session=\"0bf0f7fac6388473386885b2303d40cd\", element=\"4f108145-1f6e-46e7-9595-a9d4f77b29ef\")>,\n",
       " <selenium.webdriver.remote.webelement.WebElement (session=\"0bf0f7fac6388473386885b2303d40cd\", element=\"3298c7b8-30ba-4f09-98a0-02881d6a13e5\")>,\n",
       " <selenium.webdriver.remote.webelement.WebElement (session=\"0bf0f7fac6388473386885b2303d40cd\", element=\"ff754973-2969-4f21-8fba-317108c25a9f\")>,\n",
       " <selenium.webdriver.remote.webelement.WebElement (session=\"0bf0f7fac6388473386885b2303d40cd\", element=\"17d5b8f4-73a7-40d1-8701-5ed46b624fbe\")>,\n",
       " <selenium.webdriver.remote.webelement.WebElement (session=\"0bf0f7fac6388473386885b2303d40cd\", element=\"fa198a5f-b544-47a0-b1aa-0732dfaf672e\")>,\n",
       " <selenium.webdriver.remote.webelement.WebElement (session=\"0bf0f7fac6388473386885b2303d40cd\", element=\"d73d0e0d-eafd-4d22-a106-0931072aa71f\")>,\n",
       " <selenium.webdriver.remote.webelement.WebElement (session=\"0bf0f7fac6388473386885b2303d40cd\", element=\"02438c51-2370-445b-bab6-5114eb8061e6\")>,\n",
       " <selenium.webdriver.remote.webelement.WebElement (session=\"0bf0f7fac6388473386885b2303d40cd\", element=\"d0ccf2a0-d999-4a0f-b7f5-974bb518faff\")>]"
      ]
     },
     "execution_count": 30,
     "metadata": {},
     "output_type": "execute_result"
    }
   ],
   "source": [
    "no_of_salary_tags=driver.find_elements_by_xpath(\"//p[@class='css-1uyte9r css-1kuy7z7 m-0 ']\")\n",
    "no_of_salary_tags[0:10]"
   ]
  },
  {
   "cell_type": "code",
   "execution_count": 31,
   "metadata": {},
   "outputs": [
    {
     "data": {
      "text/plain": [
       "['14 salaries',\n",
       " '14 salaries',\n",
       " '14 salaries',\n",
       " '13 salaries',\n",
       " '12 salaries',\n",
       " '10 salaries',\n",
       " '9 salaries',\n",
       " '8 salaries',\n",
       " '7 salaries',\n",
       " '7 salaries']"
      ]
     },
     "execution_count": 31,
     "metadata": {},
     "output_type": "execute_result"
    }
   ],
   "source": [
    "#we will run the loop to extract the text from the above tags extracted\n",
    "for i in no_of_salary_tags:\n",
    "    no_of_salary=i.text\n",
    "    no_of_salaries.append(no_of_salary)\n",
    "no_of_salaries[0:10]"
   ]
  },
  {
   "cell_type": "code",
   "execution_count": 32,
   "metadata": {},
   "outputs": [
    {
     "data": {
      "text/html": [
       "<div>\n",
       "<style scoped>\n",
       "    .dataframe tbody tr th:only-of-type {\n",
       "        vertical-align: middle;\n",
       "    }\n",
       "\n",
       "    .dataframe tbody tr th {\n",
       "        vertical-align: top;\n",
       "    }\n",
       "\n",
       "    .dataframe thead th {\n",
       "        text-align: right;\n",
       "    }\n",
       "</style>\n",
       "<table border=\"1\" class=\"dataframe\">\n",
       "  <thead>\n",
       "    <tr style=\"text-align: right;\">\n",
       "      <th></th>\n",
       "      <th>company name</th>\n",
       "      <th>min salary</th>\n",
       "      <th>max salary</th>\n",
       "      <th>no.of salary</th>\n",
       "    </tr>\n",
       "  </thead>\n",
       "  <tbody>\n",
       "    <tr>\n",
       "      <th>0</th>\n",
       "      <td>Tata Consultancy Services</td>\n",
       "      <td>₹336L</td>\n",
       "      <td>₹1,080L</td>\n",
       "      <td>14 salaries</td>\n",
       "    </tr>\n",
       "    <tr>\n",
       "      <th>1</th>\n",
       "      <td>Accenture</td>\n",
       "      <td>₹579L</td>\n",
       "      <td>₹2,222L</td>\n",
       "      <td>14 salaries</td>\n",
       "    </tr>\n",
       "    <tr>\n",
       "      <th>2</th>\n",
       "      <td>Delhivery</td>\n",
       "      <td>₹452L</td>\n",
       "      <td>₹11,669L</td>\n",
       "      <td>14 salaries</td>\n",
       "    </tr>\n",
       "    <tr>\n",
       "      <th>3</th>\n",
       "      <td>IBM</td>\n",
       "      <td>₹589L</td>\n",
       "      <td>₹2,741L</td>\n",
       "      <td>13 salaries</td>\n",
       "    </tr>\n",
       "    <tr>\n",
       "      <th>4</th>\n",
       "      <td>Ericsson-Worldwide</td>\n",
       "      <td>₹350L</td>\n",
       "      <td>₹1,619L</td>\n",
       "      <td>12 salaries</td>\n",
       "    </tr>\n",
       "    <tr>\n",
       "      <th>5</th>\n",
       "      <td>UnitedHealth Group</td>\n",
       "      <td>₹1,050L</td>\n",
       "      <td>₹1,500L</td>\n",
       "      <td>10 salaries</td>\n",
       "    </tr>\n",
       "    <tr>\n",
       "      <th>6</th>\n",
       "      <td>Valiance Solutions</td>\n",
       "      <td>₹504L</td>\n",
       "      <td>₹1,471L</td>\n",
       "      <td>9 salaries</td>\n",
       "    </tr>\n",
       "    <tr>\n",
       "      <th>7</th>\n",
       "      <td>Innovaccer</td>\n",
       "      <td>₹623L</td>\n",
       "      <td>₹1,702L</td>\n",
       "      <td>8 salaries</td>\n",
       "    </tr>\n",
       "    <tr>\n",
       "      <th>8</th>\n",
       "      <td>ZS Associates</td>\n",
       "      <td>₹203L</td>\n",
       "      <td>₹1,817L</td>\n",
       "      <td>7 salaries</td>\n",
       "    </tr>\n",
       "    <tr>\n",
       "      <th>9</th>\n",
       "      <td>EXL Service</td>\n",
       "      <td>₹578L</td>\n",
       "      <td>₹1,500L</td>\n",
       "      <td>7 salaries</td>\n",
       "    </tr>\n",
       "  </tbody>\n",
       "</table>\n",
       "</div>"
      ],
      "text/plain": [
       "                company name min salary max salary no.of salary\n",
       "0  Tata Consultancy Services      ₹336L    ₹1,080L  14 salaries\n",
       "1                  Accenture      ₹579L    ₹2,222L  14 salaries\n",
       "2                  Delhivery      ₹452L   ₹11,669L  14 salaries\n",
       "3                        IBM      ₹589L    ₹2,741L  13 salaries\n",
       "4         Ericsson-Worldwide      ₹350L    ₹1,619L  12 salaries\n",
       "5         UnitedHealth Group    ₹1,050L    ₹1,500L  10 salaries\n",
       "6         Valiance Solutions      ₹504L    ₹1,471L   9 salaries\n",
       "7                 Innovaccer      ₹623L    ₹1,702L   8 salaries\n",
       "8              ZS Associates      ₹203L    ₹1,817L   7 salaries\n",
       "9                EXL Service      ₹578L    ₹1,500L   7 salaries"
      ]
     },
     "execution_count": 32,
     "metadata": {},
     "output_type": "execute_result"
    }
   ],
   "source": [
    "import pandas as pd\n",
    "salaries=pd.DataFrame({})\n",
    "salaries['company name']=company_names3[0:10]\n",
    "salaries['min salary']=min_salarys[0:10]\n",
    "salaries['max salary']=max_salarys[0:10]\n",
    "salaries['no.of salary']=no_of_salaries[0:10]\n",
    "salaries"
   ]
  },
  {
   "cell_type": "markdown",
   "metadata": {},
   "source": [
    "# selenium assignment 6"
   ]
  },
  {
   "cell_type": "code",
   "execution_count": 18,
   "metadata": {},
   "outputs": [],
   "source": [
    "url14=\"https://www.flipkart.com/search?q=sunglasses&sid=26x&as=on&as-show=on&otracker=AS_QueryStore_OrganicAutoSuggest_1_4_na_na_na&otracker1=AS_QueryStore_OrganicAutoSuggest_1_4_na_na_na&as-pos=1&as-type=RECENT&suggestionId=sunglasses%7CSunglasses&requestId=6f620000-eabe-45ff-8321-cac957352f0a&as-searchtext=sung\""
   ]
  },
  {
   "cell_type": "code",
   "execution_count": 19,
   "metadata": {},
   "outputs": [],
   "source": [
    "driver.get(url14)"
   ]
  },
  {
   "cell_type": "code",
   "execution_count": 20,
   "metadata": {},
   "outputs": [],
   "source": [
    "brand=[]\n",
    "product_des=[]\n",
    "price=[]\n",
    "discount=[]"
   ]
  },
  {
   "cell_type": "code",
   "execution_count": 21,
   "metadata": {},
   "outputs": [],
   "source": [
    "import time"
   ]
  },
  {
   "cell_type": "code",
   "execution_count": 25,
   "metadata": {},
   "outputs": [],
   "source": [
    "for i in range(0,2):\n",
    "    for j in driver.find_elements_by_xpath(\"//div[@class='_2WkVRV']\"):\n",
    "        brand.append(j.text)\n",
    "    for k in driver.find_elements_by_xpath(\"//a[@class='IRpwTa']\"):\n",
    "        product_des.append(k.text)\n",
    "    for l in driver.find_elements_by_xpath(\"//div[@class='_30jeq3']\"):\n",
    "        price.append(l.text)\n",
    "    for m in driver.find_elements_by_xpath(\"//div[@class='_3Ay6Sb']/span[1]\"):\n",
    "        discount.append(m.text)\n",
    "    time.sleep(3)\n",
    "    url15=driver.find_element_by_xpath(\"//a[@class='_1LKTO3']\").get_attribute(\"href\")\n",
    "    driver.get(url15)"
   ]
  },
  {
   "cell_type": "code",
   "execution_count": 26,
   "metadata": {},
   "outputs": [
    {
     "data": {
      "text/plain": [
       "['Aislin',\n",
       " 'NuVew',\n",
       " 'Fastrack',\n",
       " 'Fastrack',\n",
       " 'PIRASO',\n",
       " 'Fastrack',\n",
       " 'ROZZETTA CRAFT',\n",
       " 'Singco India',\n",
       " 'Fastrack',\n",
       " 'PIRASO',\n",
       " 'Fastrack',\n",
       " 'phenomenal',\n",
       " 'DEIXELS',\n",
       " 'ROYAL SON',\n",
       " 'ROZZETTA CRAFT',\n",
       " 'Singco India',\n",
       " 'HIPPON',\n",
       " 'Fastrack',\n",
       " 'Fastrack',\n",
       " 'Aislin',\n",
       " 'DEIXELS',\n",
       " 'SRPM',\n",
       " 'DEIXELS',\n",
       " 'Aislin',\n",
       " 'Silver Kartz',\n",
       " 'Fastrack',\n",
       " 'PIRASO',\n",
       " 'Fastrack',\n",
       " 'Fastrack',\n",
       " 'ROYAL SON',\n",
       " 'Silver Kartz',\n",
       " 'Fastrack',\n",
       " 'Singco India',\n",
       " 'ROYAL SON',\n",
       " 'NuVew',\n",
       " 'ROZZETTA CRAFT',\n",
       " 'Fastrack',\n",
       " 'GANSTA',\n",
       " 'ROYAL SON',\n",
       " 'Aislin',\n",
       " 'Fastrack',\n",
       " 'hipe',\n",
       " 'PIRASO',\n",
       " 'Aislin',\n",
       " 'ROYAL SON',\n",
       " 'phenomenal',\n",
       " 'ROZZETTA CRAFT',\n",
       " 'ROYAL SON',\n",
       " 'NuVew',\n",
       " 'ROYAL SON',\n",
       " 'ROYAL SON',\n",
       " 'Aislin',\n",
       " 'GANSTA',\n",
       " 'Aislin',\n",
       " 'hipe',\n",
       " 'GANSTA',\n",
       " 'Silver Kartz',\n",
       " 'BKGE',\n",
       " 'Aislin',\n",
       " 'ROZZETTA CRAFT',\n",
       " 'ROZZETTA CRAFT',\n",
       " 'GANSTA',\n",
       " 'Aislin',\n",
       " 'ROYAL SON',\n",
       " 'BKGE',\n",
       " 'NuVew',\n",
       " 'Aislin',\n",
       " 'Badfella',\n",
       " 'hipe',\n",
       " 'Aislin',\n",
       " 'Fastrack',\n",
       " 'Fastrack',\n",
       " 'NuVew',\n",
       " 'ROYAL SON',\n",
       " 'Silver Kartz',\n",
       " 'ROYAL SON',\n",
       " 'ROYAL SON',\n",
       " 'PIRASO',\n",
       " 'Aislin',\n",
       " 'Aislin',\n",
       " 'Aislin',\n",
       " 'NuVew',\n",
       " 'Fastrack',\n",
       " 'Fastrack',\n",
       " 'PIRASO',\n",
       " 'Fastrack',\n",
       " 'ROZZETTA CRAFT',\n",
       " 'Singco India',\n",
       " 'Fastrack',\n",
       " 'PIRASO',\n",
       " 'Fastrack',\n",
       " 'phenomenal',\n",
       " 'DEIXELS',\n",
       " 'Aislin',\n",
       " 'ROZZETTA CRAFT',\n",
       " 'Singco India',\n",
       " 'HIPPON',\n",
       " 'Fastrack',\n",
       " 'Fastrack',\n",
       " 'Aislin',\n",
       " 'DEIXELS',\n",
       " 'SRPM',\n",
       " 'DEIXELS',\n",
       " 'Aislin',\n",
       " 'Silver Kartz',\n",
       " 'Fastrack',\n",
       " 'PIRASO',\n",
       " 'Fastrack',\n",
       " 'Fastrack',\n",
       " 'ROYAL SON',\n",
       " 'Silver Kartz',\n",
       " 'Fastrack',\n",
       " 'Singco India',\n",
       " 'ROYAL SON',\n",
       " 'NuVew',\n",
       " 'ROZZETTA CRAFT',\n",
       " 'Fastrack',\n",
       " 'GANSTA',\n",
       " 'ROYAL SON',\n",
       " 'ROYAL SON']"
      ]
     },
     "execution_count": 26,
     "metadata": {},
     "output_type": "execute_result"
    }
   ],
   "source": [
    "brand"
   ]
  },
  {
   "cell_type": "code",
   "execution_count": 27,
   "metadata": {},
   "outputs": [
    {
     "data": {
      "text/plain": [
       "120"
      ]
     },
     "execution_count": 27,
     "metadata": {},
     "output_type": "execute_result"
    }
   ],
   "source": [
    "len(brand)"
   ]
  },
  {
   "cell_type": "code",
   "execution_count": 28,
   "metadata": {},
   "outputs": [
    {
     "data": {
      "text/plain": [
       "['UV Protection Wayfarer, Rectangular Sunglasses (55)',\n",
       " 'UV Protection Aviator Sunglasses (57)',\n",
       " 'UV Protection Wayfarer Sunglasses (Free Size)',\n",
       " 'Mirrored, UV Protection Wayfarer Sunglasses (Free Size)',\n",
       " 'UV Protection Aviator Sunglasses (54)',\n",
       " 'UV Protection Wayfarer Sunglasses (Free Size)',\n",
       " 'UV Protection Retro Square Sunglasses (Free Size)',\n",
       " 'UV Protection, Polarized Aviator Sunglasses (Free Size)',\n",
       " 'Gradient, UV Protection Wayfarer Sunglasses (Free Size)',\n",
       " 'UV Protection Aviator Sunglasses (54)',\n",
       " 'Gradient, UV Protection Wayfarer Sunglasses (Free Size)',\n",
       " 'UV Protection, Mirrored Retro Square Sunglasses (53)',\n",
       " 'UV Protection Aviator, Wayfarer Sunglasses (Free Size)',\n",
       " 'UV Protection Wayfarer Sunglasses (55)',\n",
       " 'UV Protection, Gradient Rectangular Sunglasses (Free Si...',\n",
       " 'UV Protection Aviator Sunglasses (Free Size)',\n",
       " 'UV Protection Wayfarer Sunglasses (55)',\n",
       " 'UV Protection Shield Sunglasses (Free Size)',\n",
       " 'UV Protection Wayfarer Sunglasses (56)',\n",
       " 'UV Protection, Gradient Wayfarer, Clubmaster Sunglasses...',\n",
       " 'UV Protection Wayfarer Sunglasses (Free Size)',\n",
       " 'UV Protection Round Sunglasses (53)',\n",
       " 'UV Protection Round Sunglasses (Free Size)',\n",
       " 'UV Protection, Gradient Cat-eye Sunglasses (58)',\n",
       " 'UV Protection Wayfarer Sunglasses (Free Size)',\n",
       " 'UV Protection Wayfarer Sunglasses (Free Size)',\n",
       " 'UV Protection Wayfarer Sunglasses (32)',\n",
       " 'UV Protection Wayfarer Sunglasses (Free Size)',\n",
       " 'Gradient, UV Protection Wayfarer Sunglasses (Free Size)',\n",
       " 'Polarized Retro Square Sunglasses (52)',\n",
       " 'UV Protection Oval Sunglasses (56)',\n",
       " 'UV Protection Wayfarer Sunglasses (57)',\n",
       " 'UV Protection Round Sunglasses (Free Size)',\n",
       " 'UV Protection Aviator Sunglasses (58)',\n",
       " 'UV Protection Retro Square Sunglasses (Free Size)',\n",
       " 'UV Protection Aviator Sunglasses (58)',\n",
       " 'UV Protection, Gradient Wayfarer Sunglasses (53)',\n",
       " 'Mirrored Aviator Sunglasses (55)',\n",
       " 'UV Protection, Gradient Butterfly, Wayfarer Sunglasses ...',\n",
       " 'UV Protection Aviator Sunglasses (Free Size)',\n",
       " 'Mirrored, Gradient, UV Protection, Night Vision, Riding...',\n",
       " 'UV Protection Aviator Sunglasses (54)',\n",
       " 'UV Protection Wayfarer, Rectangular Sunglasses (55)',\n",
       " 'Mirrored Aviator Sunglasses (58)',\n",
       " 'UV Protection, Mirrored Retro Square Sunglasses (53)',\n",
       " 'UV Protection, Riding Glasses Rectangular Sunglasses (F...',\n",
       " 'Mirrored Aviator Sunglasses (Free Size)',\n",
       " 'UV Protection, Mirrored, Gradient Wayfarer Sunglasses (...',\n",
       " 'Mirrored Aviator Sunglasses (55)',\n",
       " 'UV Protection Rectangular Sunglasses (58)',\n",
       " 'UV Protection, Others Wayfarer, Rectangular Sunglasses ...',\n",
       " 'UV Protection Aviator Sunglasses (57)',\n",
       " 'UV Protection, Gradient Wayfarer, Clubmaster Sunglasses...',\n",
       " 'Mirrored, UV Protection, Gradient Round Sunglasses (55)',\n",
       " 'UV Protection Aviator Sunglasses (57)',\n",
       " 'UV Protection Oval Sunglasses (56)',\n",
       " 'UV Protection, Polarized Rectangular Sunglasses (53)',\n",
       " 'UV Protection, Gradient Wayfarer, Over-sized Sunglasses...',\n",
       " 'UV Protection Retro Square Sunglasses (Free Size)',\n",
       " 'Gradient, UV Protection Round Sunglasses (Free Size)',\n",
       " 'UV Protection, Mirrored Wayfarer Sunglasses (53)',\n",
       " 'UV Protection, Gradient Oval Sunglasses (58)',\n",
       " 'Polarized Retro Square Sunglasses (52)',\n",
       " 'UV Protection, Polarized Rectangular, Retro Square Sung...',\n",
       " 'UV Protection, Night Vision, Riding Glasses Sports Sung...',\n",
       " 'UV Protection, Gradient Oval Sunglasses (58)',\n",
       " 'Polarized, UV Protection Retro Square Sunglasses (53)',\n",
       " 'Mirrored Wayfarer Sunglasses (55)',\n",
       " 'UV Protection Wayfarer Sunglasses (58)',\n",
       " 'UV Protection, Polarized Wayfarer Sunglasses (56)',\n",
       " 'UV Protection Rectangular Sunglasses (59)',\n",
       " 'UV Protection Aviator Sunglasses (57)',\n",
       " 'UV Protection Aviator Sunglasses (88)',\n",
       " 'Mirrored Aviator Sunglasses (55)',\n",
       " 'UV Protection Wayfarer Sunglasses (55)',\n",
       " 'UV Protection Aviator Sunglasses (50)',\n",
       " 'UV Protection Oval Sunglasses (60)',\n",
       " 'UV Protection, Gradient Butterfly, Wayfarer Sunglasses ...',\n",
       " 'UV Protection Wayfarer, Rectangular Sunglasses (55)',\n",
       " 'UV Protection Aviator Sunglasses (57)',\n",
       " 'UV Protection Wayfarer Sunglasses (Free Size)',\n",
       " 'Mirrored, UV Protection Wayfarer Sunglasses (Free Size)',\n",
       " 'UV Protection Aviator Sunglasses (54)',\n",
       " 'UV Protection Wayfarer Sunglasses (Free Size)',\n",
       " 'UV Protection Retro Square Sunglasses (Free Size)',\n",
       " 'UV Protection, Polarized Aviator Sunglasses (Free Size)',\n",
       " 'Gradient, UV Protection Wayfarer Sunglasses (Free Size)',\n",
       " 'UV Protection Aviator Sunglasses (54)',\n",
       " 'Gradient, UV Protection Wayfarer Sunglasses (Free Size)',\n",
       " 'UV Protection, Mirrored Retro Square Sunglasses (53)',\n",
       " 'UV Protection Aviator, Wayfarer Sunglasses (Free Size)',\n",
       " 'UV Protection, Gradient Wayfarer, Clubmaster Sunglasses...',\n",
       " 'UV Protection, Gradient Rectangular Sunglasses (Free Si...',\n",
       " 'UV Protection Aviator Sunglasses (Free Size)',\n",
       " 'UV Protection Wayfarer Sunglasses (55)',\n",
       " 'UV Protection Shield Sunglasses (Free Size)',\n",
       " 'UV Protection Wayfarer Sunglasses (56)',\n",
       " 'UV Protection, Gradient Cat-eye Sunglasses (58)',\n",
       " 'UV Protection Wayfarer Sunglasses (Free Size)',\n",
       " 'UV Protection Round Sunglasses (53)',\n",
       " 'UV Protection Round Sunglasses (Free Size)',\n",
       " 'UV Protection Round Sunglasses (50)',\n",
       " 'UV Protection Wayfarer Sunglasses (Free Size)',\n",
       " 'UV Protection Wayfarer Sunglasses (Free Size)',\n",
       " 'UV Protection Wayfarer Sunglasses (32)',\n",
       " 'UV Protection Wayfarer Sunglasses (Free Size)',\n",
       " 'Gradient, UV Protection Wayfarer Sunglasses (Free Size)',\n",
       " 'Polarized Retro Square Sunglasses (52)',\n",
       " 'UV Protection Oval Sunglasses (56)',\n",
       " 'UV Protection Wayfarer Sunglasses (57)',\n",
       " 'UV Protection Round Sunglasses (Free Size)',\n",
       " 'UV Protection Wayfarer Sunglasses (55)',\n",
       " 'UV Protection Aviator Sunglasses (58)',\n",
       " 'UV Protection Retro Square Sunglasses (Free Size)',\n",
       " 'UV Protection Aviator Sunglasses (58)',\n",
       " 'UV Protection, Gradient Wayfarer Sunglasses (53)',\n",
       " 'Mirrored Aviator Sunglasses (55)']"
      ]
     },
     "execution_count": 28,
     "metadata": {},
     "output_type": "execute_result"
    }
   ],
   "source": [
    "product_des"
   ]
  },
  {
   "cell_type": "code",
   "execution_count": 29,
   "metadata": {},
   "outputs": [
    {
     "data": {
      "text/plain": [
       "['₹867',\n",
       " '₹195',\n",
       " '₹758',\n",
       " '₹499',\n",
       " '₹225',\n",
       " '₹733',\n",
       " '₹499',\n",
       " '₹202',\n",
       " '₹569',\n",
       " '₹225',\n",
       " '₹674',\n",
       " '₹379',\n",
       " '₹202',\n",
       " '₹265',\n",
       " '₹404',\n",
       " '₹322',\n",
       " '₹251',\n",
       " '₹761',\n",
       " '₹759',\n",
       " '₹358',\n",
       " '₹200',\n",
       " '₹189',\n",
       " '₹189',\n",
       " '₹459',\n",
       " '₹246',\n",
       " '₹759',\n",
       " '₹225',\n",
       " '₹837',\n",
       " '₹674',\n",
       " '₹599',\n",
       " '₹299',\n",
       " '₹559',\n",
       " '₹195',\n",
       " '₹749',\n",
       " '₹209',\n",
       " '₹499',\n",
       " '₹1,091',\n",
       " '₹284',\n",
       " '₹379',\n",
       " '₹545',\n",
       " '₹759',\n",
       " '₹210',\n",
       " '₹250',\n",
       " '₹867',\n",
       " '₹399',\n",
       " '₹379',\n",
       " '₹449',\n",
       " '₹399',\n",
       " '₹318',\n",
       " '₹379',\n",
       " '₹474',\n",
       " '₹788',\n",
       " '₹288',\n",
       " '₹358',\n",
       " '₹210',\n",
       " '₹284',\n",
       " '₹299',\n",
       " '₹389',\n",
       " '₹592',\n",
       " '₹499',\n",
       " '₹449',\n",
       " '₹199',\n",
       " '₹425',\n",
       " '₹599',\n",
       " '₹394',\n",
       " '₹255',\n",
       " '₹472',\n",
       " '₹269',\n",
       " '₹219',\n",
       " '₹425',\n",
       " '₹759',\n",
       " '₹1,097',\n",
       " '₹195',\n",
       " '₹749',\n",
       " '₹255',\n",
       " '₹399',\n",
       " '₹265',\n",
       " '₹349',\n",
       " '₹630',\n",
       " '₹545',\n",
       " '₹867',\n",
       " '₹195',\n",
       " '₹758',\n",
       " '₹499',\n",
       " '₹225',\n",
       " '₹733',\n",
       " '₹499',\n",
       " '₹202',\n",
       " '₹569',\n",
       " '₹225',\n",
       " '₹674',\n",
       " '₹379',\n",
       " '₹202',\n",
       " '₹358',\n",
       " '₹404',\n",
       " '₹322',\n",
       " '₹251',\n",
       " '₹761',\n",
       " '₹759',\n",
       " '₹459',\n",
       " '₹200',\n",
       " '₹189',\n",
       " '₹189',\n",
       " '₹316',\n",
       " '₹246',\n",
       " '₹759',\n",
       " '₹225',\n",
       " '₹837',\n",
       " '₹674',\n",
       " '₹599',\n",
       " '₹299',\n",
       " '₹559',\n",
       " '₹195',\n",
       " '₹265',\n",
       " '₹209',\n",
       " '₹499',\n",
       " '₹1,091',\n",
       " '₹284',\n",
       " '₹379',\n",
       " '₹749']"
      ]
     },
     "execution_count": 29,
     "metadata": {},
     "output_type": "execute_result"
    }
   ],
   "source": [
    "price"
   ]
  },
  {
   "cell_type": "code",
   "execution_count": 30,
   "metadata": {},
   "outputs": [
    {
     "data": {
      "text/plain": [
       "['78% off',\n",
       " '75% off',\n",
       " '15% off',\n",
       " '50% off',\n",
       " '85% off',\n",
       " '18% off',\n",
       " '77% off',\n",
       " '71% off',\n",
       " '43% off',\n",
       " '85% off',\n",
       " '15% off',\n",
       " '81% off',\n",
       " '83% off',\n",
       " '79% off',\n",
       " '79% off',\n",
       " '73% off',\n",
       " '79% off',\n",
       " '15% off',\n",
       " '15% off',\n",
       " '76% off',\n",
       " '59% off',\n",
       " '62% off',\n",
       " '76% off',\n",
       " '69% off',\n",
       " '83% off',\n",
       " '15% off',\n",
       " '85% off',\n",
       " '6% off',\n",
       " '15% off',\n",
       " '60% off',\n",
       " '75% off',\n",
       " '30% off',\n",
       " '80% off',\n",
       " '62% off',\n",
       " '73% off',\n",
       " '77% off',\n",
       " '16% off',\n",
       " '85% off',\n",
       " '74% off',\n",
       " '64% off',\n",
       " '15% off',\n",
       " '85% off',\n",
       " '84% off',\n",
       " '78% off',\n",
       " '73% off',\n",
       " '81% off',\n",
       " '79% off',\n",
       " '73% off',\n",
       " '68% off',\n",
       " '74% off',\n",
       " '68% off',\n",
       " '78% off',\n",
       " '85% off',\n",
       " '76% off',\n",
       " '85% off',\n",
       " '85% off',\n",
       " '75% off',\n",
       " '80% off',\n",
       " '72% off',\n",
       " '77% off',\n",
       " '77% off',\n",
       " '80% off',\n",
       " '72% off',\n",
       " '60% off',\n",
       " '78% off',\n",
       " '67% off',\n",
       " '69% off',\n",
       " '73% off',\n",
       " '78% off',\n",
       " '80% off',\n",
       " '15% off',\n",
       " '15% off',\n",
       " '75% off',\n",
       " '62% off',\n",
       " '78% off',\n",
       " '73% off',\n",
       " '79% off',\n",
       " '78% off',\n",
       " '74% off',\n",
       " '64% off',\n",
       " '78% off',\n",
       " '75% off',\n",
       " '15% off',\n",
       " '50% off',\n",
       " '85% off',\n",
       " '18% off',\n",
       " '77% off',\n",
       " '71% off',\n",
       " '43% off',\n",
       " '85% off',\n",
       " '15% off',\n",
       " '81% off',\n",
       " '83% off',\n",
       " '76% off',\n",
       " '79% off',\n",
       " '73% off',\n",
       " '79% off',\n",
       " '15% off',\n",
       " '15% off',\n",
       " '69% off',\n",
       " '59% off',\n",
       " '62% off',\n",
       " '76% off',\n",
       " '81% off',\n",
       " '83% off',\n",
       " '15% off',\n",
       " '85% off',\n",
       " '6% off',\n",
       " '15% off',\n",
       " '60% off',\n",
       " '75% off',\n",
       " '30% off',\n",
       " '80% off',\n",
       " '79% off',\n",
       " '73% off',\n",
       " '77% off',\n",
       " '16% off',\n",
       " '85% off',\n",
       " '74% off',\n",
       " '62% off']"
      ]
     },
     "execution_count": 30,
     "metadata": {},
     "output_type": "execute_result"
    }
   ],
   "source": [
    "discount"
   ]
  },
  {
   "cell_type": "markdown",
   "metadata": {},
   "source": [
    "# selenium assignment 7"
   ]
  },
  {
   "cell_type": "code",
   "execution_count": 36,
   "metadata": {},
   "outputs": [],
   "source": [
    "url16=\"https://www.flipkart.com/apple-iphone-11-black-64-gb-includes-earpods-power-adapter/product-reviews/itm0f37c2240b217?pid=MOBFKCTSVZAXUHGR&lid=LSTMOBFKCTSVZAXUHGREPBFGI&marketplace=FLIPKART\""
   ]
  },
  {
   "cell_type": "code",
   "execution_count": 37,
   "metadata": {},
   "outputs": [],
   "source": [
    "driver.get(url16)"
   ]
  },
  {
   "cell_type": "code",
   "execution_count": 35,
   "metadata": {},
   "outputs": [],
   "source": [
    "ratings1=[]\n",
    "review_sum=[]\n",
    "full_review=[]"
   ]
  },
  {
   "cell_type": "code",
   "execution_count": 38,
   "metadata": {},
   "outputs": [],
   "source": [
    "for i in range(0,9):\n",
    "    for j in driver.find_elements_by_xpath(\"//div[@class='_3LWZlK _1BLPMq']\"):\n",
    "        ratings1.append(j.text)\n",
    "    for k in driver.find_elements_by_xpath(\"//p[@class='_2-N8zT']\"):\n",
    "        review_sum.append(k.text)\n",
    "    for l in driver.find_elements_by_xpath(\"//div[@class='t-ZTKy']\"):\n",
    "        full_review.append(l.text)\n",
    "    time.sleep(3)\n",
    "    url17=driver.find_element_by_xpath(\"//a[@class='_1LKTO3']\").get_attribute(\"href\")\n",
    "    driver.get(url17)"
   ]
  },
  {
   "cell_type": "code",
   "execution_count": 39,
   "metadata": {},
   "outputs": [
    {
     "data": {
      "text/plain": [
       "['5',\n",
       " '5',\n",
       " '5',\n",
       " '5',\n",
       " '5',\n",
       " '5',\n",
       " '5',\n",
       " '5',\n",
       " '5',\n",
       " '5',\n",
       " '5',\n",
       " '5',\n",
       " '5',\n",
       " '4',\n",
       " '5',\n",
       " '5',\n",
       " '5',\n",
       " '5',\n",
       " '5',\n",
       " '5',\n",
       " '5',\n",
       " '5',\n",
       " '5',\n",
       " '5',\n",
       " '5',\n",
       " '5',\n",
       " '5',\n",
       " '5',\n",
       " '5',\n",
       " '5',\n",
       " '5',\n",
       " '5',\n",
       " '5',\n",
       " '4',\n",
       " '5',\n",
       " '5',\n",
       " '5',\n",
       " '5',\n",
       " '5',\n",
       " '5',\n",
       " '5',\n",
       " '5',\n",
       " '5',\n",
       " '5',\n",
       " '5',\n",
       " '5',\n",
       " '5',\n",
       " '5',\n",
       " '5',\n",
       " '5',\n",
       " '5',\n",
       " '5',\n",
       " '5',\n",
       " '4',\n",
       " '5',\n",
       " '5',\n",
       " '5',\n",
       " '5',\n",
       " '5',\n",
       " '5',\n",
       " '5',\n",
       " '5',\n",
       " '5',\n",
       " '5',\n",
       " '5',\n",
       " '5',\n",
       " '5',\n",
       " '5',\n",
       " '5',\n",
       " '5',\n",
       " '5',\n",
       " '5',\n",
       " '5',\n",
       " '4',\n",
       " '5',\n",
       " '5',\n",
       " '5',\n",
       " '5',\n",
       " '5',\n",
       " '5',\n",
       " '5',\n",
       " '5',\n",
       " '5',\n",
       " '5',\n",
       " '5',\n",
       " '5',\n",
       " '5',\n",
       " '5',\n",
       " '5',\n",
       " '5']"
      ]
     },
     "execution_count": 39,
     "metadata": {},
     "output_type": "execute_result"
    }
   ],
   "source": [
    "ratings1"
   ]
  },
  {
   "cell_type": "code",
   "execution_count": 41,
   "metadata": {},
   "outputs": [
    {
     "data": {
      "text/plain": [
       "['Brilliant',\n",
       " 'Perfect product!',\n",
       " 'Worth every penny',\n",
       " 'Great product',\n",
       " 'Highly recommended',\n",
       " 'Perfect product!',\n",
       " 'Perfect product!',\n",
       " 'Fabulous!',\n",
       " 'Wonderful',\n",
       " 'Worth every penny',\n",
       " 'Simply awesome',\n",
       " 'Worth every penny',\n",
       " 'Perfect product!',\n",
       " 'Nice product',\n",
       " 'Terrific',\n",
       " 'Brilliant',\n",
       " 'Terrific purchase',\n",
       " 'Wonderful',\n",
       " 'Must buy!',\n",
       " 'Mind-blowing purchase',\n",
       " 'Brilliant',\n",
       " 'Perfect product!',\n",
       " 'Worth every penny',\n",
       " 'Great product',\n",
       " 'Highly recommended',\n",
       " 'Perfect product!',\n",
       " 'Perfect product!',\n",
       " 'Fabulous!',\n",
       " 'Wonderful',\n",
       " 'Worth every penny',\n",
       " 'Simply awesome',\n",
       " 'Worth every penny',\n",
       " 'Perfect product!',\n",
       " 'Nice product',\n",
       " 'Terrific',\n",
       " 'Brilliant',\n",
       " 'Terrific purchase',\n",
       " 'Wonderful',\n",
       " 'Must buy!',\n",
       " 'Mind-blowing purchase',\n",
       " 'Brilliant',\n",
       " 'Perfect product!',\n",
       " 'Worth every penny',\n",
       " 'Great product',\n",
       " 'Highly recommended',\n",
       " 'Perfect product!',\n",
       " 'Perfect product!',\n",
       " 'Fabulous!',\n",
       " 'Wonderful',\n",
       " 'Worth every penny',\n",
       " 'Simply awesome',\n",
       " 'Worth every penny',\n",
       " 'Perfect product!',\n",
       " 'Nice product',\n",
       " 'Terrific',\n",
       " 'Brilliant',\n",
       " 'Terrific purchase',\n",
       " 'Wonderful',\n",
       " 'Must buy!',\n",
       " 'Mind-blowing purchase',\n",
       " 'Brilliant',\n",
       " 'Perfect product!',\n",
       " 'Worth every penny',\n",
       " 'Great product',\n",
       " 'Highly recommended',\n",
       " 'Perfect product!',\n",
       " 'Perfect product!',\n",
       " 'Fabulous!',\n",
       " 'Wonderful',\n",
       " 'Worth every penny',\n",
       " 'Simply awesome',\n",
       " 'Worth every penny',\n",
       " 'Perfect product!',\n",
       " 'Nice product',\n",
       " 'Terrific',\n",
       " 'Brilliant',\n",
       " 'Terrific purchase',\n",
       " 'Wonderful',\n",
       " 'Must buy!',\n",
       " 'Mind-blowing purchase',\n",
       " 'Brilliant',\n",
       " 'Perfect product!',\n",
       " 'Worth every penny',\n",
       " 'Great product',\n",
       " 'Highly recommended',\n",
       " 'Perfect product!',\n",
       " 'Perfect product!',\n",
       " 'Fabulous!',\n",
       " 'Wonderful',\n",
       " 'Worth every penny']"
      ]
     },
     "execution_count": 41,
     "metadata": {},
     "output_type": "execute_result"
    }
   ],
   "source": [
    "review_sum"
   ]
  },
  {
   "cell_type": "code",
   "execution_count": 42,
   "metadata": {},
   "outputs": [
    {
     "data": {
      "text/plain": [
       "90"
      ]
     },
     "execution_count": 42,
     "metadata": {},
     "output_type": "execute_result"
    }
   ],
   "source": [
    "len(review_sum)"
   ]
  },
  {
   "cell_type": "code",
   "execution_count": 43,
   "metadata": {},
   "outputs": [
    {
     "data": {
      "text/plain": [
       "['The Best Phone for the Money\\n\\nThe iPhone 11 offers superb cameras, a more durable design and excellent battery life for an affordable price.\\n\\nCompelling ultra-wide camera\\nNew Night mode is excellent\\nLong battery life',\n",
       " 'Amazing phone with great cameras and better battery which gives you the best performance. I just love the camera .',\n",
       " 'Previously I was using one plus 3t it was a great phone\\nAnd then I decided to upgrade I am stuck between Samsung s10 plus or iPhone 11\\nI have seen the specs and everything were good except the display it’s somewhere between 720-1080 and it’s not even an amoled it’s an LCD display\\nBut I decided to go with iPhone because I have never used an IOS device I have Been an android user from the past 9 years I ordered IPhone 11 (128gb) product red\\nMy experience after using 3 weeks\\n1. The delivery ...\\nREAD MORE',\n",
       " 'Amazing Powerful and Durable Gadget.\\n\\nI’m am very happy with the camera picture quality, Amazing face id unlocked in dark room, Strong battery with perfect screen size as you can carry easily in pocket. This is my third iPhone.\\n\\nI shifted from android Samsung Note series to iPhone because of the strong build quality and peace of mind for next 3-4 years.\\n\\nDon’t think to much just go for it and I suggest you to go for minimum 128gb variant or more 256gb.\\n\\nI’ve attached my puppy pics and no fi...\\nREAD MORE',\n",
       " 'iphone 11 is a very good phone to buy only if you can compromise for the display. The display on this is device is pretty good but you can get other options with better displays in this price segment.\\nIf you can survive with an HD+ LCD panel with thicker bezels and a notch up top then this is a very good phone for you.\\nCameras are awesome, battery backup excellent, great performance and a decent premium look. Good job Apple !',\n",
       " 'It’s a must buy who is looking for an upgrade from previous generation of iPhones. If you are using XR then still you can hold on for sometime and upgrade to 2020 model else this phone is a must buy . Camera quality is amazing and wide angle is something to count upon. Performance wise it’s amazing and feels premium while holding in hand. So a big YES for this device. Go for 128 GB variant as the 4K videos will occupy lots of space and the storage can get over very quickly. Try to buy it with...\\nREAD MORE',\n",
       " 'Value for money❤️❤️\\nIts awesome mobile phone in the world ...\\nDisplay was very good and bright ..\\nTrust me freinds you r never regret after Buying..\\nJust go for it....\\nI love this phone and i switch to iphone x to 11',\n",
       " 'This is my first iOS phone. I am very happy with this product. Very much satisfied with this. I love this phone.',\n",
       " '*Review after 10 months of usage*\\nDoesn\\'t seem bulky with decent touch and camera. The \"standard maintained\" quality of IPhone. Go for it, if your budget is not more enough for pro models. It\\'s a value for money among the 11 series Stereo speakers are so good, you will love the stereo sound. Battery backup is not decent but still better than Iphone 7 and 8.Processor is fast, the phone doesn\\'t lag at all even with heavy games, waterproof, faster face id and with no fingerprint scanners. The ca...\\nREAD MORE',\n",
       " 'Best budget Iphone till date ❤️ go for it guys without second thought. Let me explain you guys about Camera, Display, battery, and performance.\\n\\nCamera: at this price range there is no comparison of camera, you’ll love the picture quality as well as video quality. I am a Vlogger I wanted an iPhone with 4k video by front camera and I got this phone and I am more than happy 😃\\n\\nBattery: I use this phone roughly as I am active social media person and I have a youtube channel. so the battery ba...\\nREAD MORE',\n",
       " 'Excellent camera, good performance, no lag. The lcd display is also good.. but difference come when we watch movie in prime and Netflix, the colours are not vibrant.. as we see in amoled display.. and the charger in box is of 5 watts.. takes more than 3 hours to charge from 0 to 100.. so guys be prepare to buy 18 watts charger . Finally I am an android user, it was my first Iapple phone, I promise u guys the iOS is so smooth.. overall the phone is damn good.... close eyes to buy it.. thanks t...\\nREAD MORE',\n",
       " 'It’s been almost a month since I have been using this phone. I upgraded from an iPhone 8. The main issue with my 8 was battery and this phone is just awesome when it comes to battery. It lasts a day and a half for me with my regular use , internet connected always with 4g\\nCan’t move forward without saying this. Battery of this phone is a life saver when I am traveling or at work when I don’t get the option to charge\\nCamera is superb. Front cam selfies and back cam photos are just awesome.\\n...\\nREAD MORE',\n",
       " \"Iphone is just awesome.. battery backup is very very nice.. continuously for 10 hours we can use it.camera is just awesome.. display is just fab.i love it alot..i had to wait 15 days for it as i pre ordered it..overalll it's worth the price..these all images are clicked by my iPhone..and i love it.\",\n",
       " 'Awesome Phone. Slightly high price but worth. Better than iPhone XR.\\nCamera is superb and wide angle camera is very clear.\\n12MP selfie camera is also very good.\\nA13 Chip gives a very good and smooth performance.',\n",
       " 'Really worth of money. i just love it. It is the best phone ever.',\n",
       " 'I have migrated from OP 7pro... and trust me, iPhone 11 is totally worth it.. following are the reasons:-\\n1)there is ABSOLUTELY NO ISSUE WITH THE DISPLAY... its crisp, sharp and I found it to be much much better than OP7 pro. Netflix, Prime video all run crisply... you won’t miss a thing. True Tone works flawlessly...the display brightness is perfect. OP have not calibrated their screens properly.\\n2) iPhone 11 series have really good cameras... others have spoken in depth about them.\\n3) bat...\\nREAD MORE',\n",
       " 'Upgraded from iphone 6 to 11 best phone for iphone users battery is much better than other iphones camera is awesome love to use it.camera is so clear in night.',\n",
       " 'This is my first ever I phone. Before this I was using my google nexus 5. But moving from android to iOS is a great experience. It’s worth at this price. I will highly recommend it if you want to move to iOS. The best part of this phone is it’s camera and it’s battery life. This two things have won my heart. I loved it. Happy to have it in my hand. Still exploring its features. And can’t forget to mention Flipkart service. Very prompt service and fast delivery.',\n",
       " 'It’s an amazing product from apple and the camera is simply superb. Phone is faster.Night shot is simply superb and detailing and colour differentiation from camera is an added advantage\\n\\nThis review I have written from iPhone 11 only and I am glad to say outside.\\n\\nCons wise if we see HD+ display only, no battery percentage indicator as in older iPhone 8.\\nNo assistive touch control button in it\\nNo oleophobic coating on back panel glass and finger prints are visible but since I bought mint gr...\\nREAD MORE',\n",
       " 'This will help you more. See if you are planning to buy iPhone 11. I will say. Yes. But there are some plans I just want to disclose before you buy. 1) If you are an existing iPhone X/XS/XS Max/ XR user, better you guys do not think it to buy. You guys have more or less better gadget. 2) If you are an android user and planning to buy premium phone. I will suggest them to please buy iPhone instead of buying an Android. I bet you will never go back to android after using IOS. Now I want to shar...\\nREAD MORE',\n",
       " 'The Best Phone for the Money\\n\\nThe iPhone 11 offers superb cameras, a more durable design and excellent battery life for an affordable price.\\n\\nCompelling ultra-wide camera\\nNew Night mode is excellent\\nLong battery life',\n",
       " 'Amazing phone with great cameras and better battery which gives you the best performance. I just love the camera .',\n",
       " 'Previously I was using one plus 3t it was a great phone\\nAnd then I decided to upgrade I am stuck between Samsung s10 plus or iPhone 11\\nI have seen the specs and everything were good except the display it’s somewhere between 720-1080 and it’s not even an amoled it’s an LCD display\\nBut I decided to go with iPhone because I have never used an IOS device I have Been an android user from the past 9 years I ordered IPhone 11 (128gb) product red\\nMy experience after using 3 weeks\\n1. The delivery ...\\nREAD MORE',\n",
       " 'Amazing Powerful and Durable Gadget.\\n\\nI’m am very happy with the camera picture quality, Amazing face id unlocked in dark room, Strong battery with perfect screen size as you can carry easily in pocket. This is my third iPhone.\\n\\nI shifted from android Samsung Note series to iPhone because of the strong build quality and peace of mind for next 3-4 years.\\n\\nDon’t think to much just go for it and I suggest you to go for minimum 128gb variant or more 256gb.\\n\\nI’ve attached my puppy pics and no fi...\\nREAD MORE',\n",
       " 'iphone 11 is a very good phone to buy only if you can compromise for the display. The display on this is device is pretty good but you can get other options with better displays in this price segment.\\nIf you can survive with an HD+ LCD panel with thicker bezels and a notch up top then this is a very good phone for you.\\nCameras are awesome, battery backup excellent, great performance and a decent premium look. Good job Apple !',\n",
       " 'It’s a must buy who is looking for an upgrade from previous generation of iPhones. If you are using XR then still you can hold on for sometime and upgrade to 2020 model else this phone is a must buy . Camera quality is amazing and wide angle is something to count upon. Performance wise it’s amazing and feels premium while holding in hand. So a big YES for this device. Go for 128 GB variant as the 4K videos will occupy lots of space and the storage can get over very quickly. Try to buy it with...\\nREAD MORE',\n",
       " 'Value for money❤️❤️\\nIts awesome mobile phone in the world ...\\nDisplay was very good and bright ..\\nTrust me freinds you r never regret after Buying..\\nJust go for it....\\nI love this phone and i switch to iphone x to 11',\n",
       " 'This is my first iOS phone. I am very happy with this product. Very much satisfied with this. I love this phone.',\n",
       " '*Review after 10 months of usage*\\nDoesn\\'t seem bulky with decent touch and camera. The \"standard maintained\" quality of IPhone. Go for it, if your budget is not more enough for pro models. It\\'s a value for money among the 11 series Stereo speakers are so good, you will love the stereo sound. Battery backup is not decent but still better than Iphone 7 and 8.Processor is fast, the phone doesn\\'t lag at all even with heavy games, waterproof, faster face id and with no fingerprint scanners. The ca...\\nREAD MORE',\n",
       " 'Best budget Iphone till date ❤️ go for it guys without second thought. Let me explain you guys about Camera, Display, battery, and performance.\\n\\nCamera: at this price range there is no comparison of camera, you’ll love the picture quality as well as video quality. I am a Vlogger I wanted an iPhone with 4k video by front camera and I got this phone and I am more than happy 😃\\n\\nBattery: I use this phone roughly as I am active social media person and I have a youtube channel. so the battery ba...\\nREAD MORE',\n",
       " 'Excellent camera, good performance, no lag. The lcd display is also good.. but difference come when we watch movie in prime and Netflix, the colours are not vibrant.. as we see in amoled display.. and the charger in box is of 5 watts.. takes more than 3 hours to charge from 0 to 100.. so guys be prepare to buy 18 watts charger . Finally I am an android user, it was my first Iapple phone, I promise u guys the iOS is so smooth.. overall the phone is damn good.... close eyes to buy it.. thanks t...\\nREAD MORE',\n",
       " 'It’s been almost a month since I have been using this phone. I upgraded from an iPhone 8. The main issue with my 8 was battery and this phone is just awesome when it comes to battery. It lasts a day and a half for me with my regular use , internet connected always with 4g\\nCan’t move forward without saying this. Battery of this phone is a life saver when I am traveling or at work when I don’t get the option to charge\\nCamera is superb. Front cam selfies and back cam photos are just awesome.\\n...\\nREAD MORE',\n",
       " \"Iphone is just awesome.. battery backup is very very nice.. continuously for 10 hours we can use it.camera is just awesome.. display is just fab.i love it alot..i had to wait 15 days for it as i pre ordered it..overalll it's worth the price..these all images are clicked by my iPhone..and i love it.\",\n",
       " 'Awesome Phone. Slightly high price but worth. Better than iPhone XR.\\nCamera is superb and wide angle camera is very clear.\\n12MP selfie camera is also very good.\\nA13 Chip gives a very good and smooth performance.',\n",
       " 'Really worth of money. i just love it. It is the best phone ever.',\n",
       " 'I have migrated from OP 7pro... and trust me, iPhone 11 is totally worth it.. following are the reasons:-\\n1)there is ABSOLUTELY NO ISSUE WITH THE DISPLAY... its crisp, sharp and I found it to be much much better than OP7 pro. Netflix, Prime video all run crisply... you won’t miss a thing. True Tone works flawlessly...the display brightness is perfect. OP have not calibrated their screens properly.\\n2) iPhone 11 series have really good cameras... others have spoken in depth about them.\\n3) bat...\\nREAD MORE',\n",
       " 'Upgraded from iphone 6 to 11 best phone for iphone users battery is much better than other iphones camera is awesome love to use it.camera is so clear in night.',\n",
       " 'This is my first ever I phone. Before this I was using my google nexus 5. But moving from android to iOS is a great experience. It’s worth at this price. I will highly recommend it if you want to move to iOS. The best part of this phone is it’s camera and it’s battery life. This two things have won my heart. I loved it. Happy to have it in my hand. Still exploring its features. And can’t forget to mention Flipkart service. Very prompt service and fast delivery.',\n",
       " 'It’s an amazing product from apple and the camera is simply superb. Phone is faster.Night shot is simply superb and detailing and colour differentiation from camera is an added advantage\\n\\nThis review I have written from iPhone 11 only and I am glad to say outside.\\n\\nCons wise if we see HD+ display only, no battery percentage indicator as in older iPhone 8.\\nNo assistive touch control button in it\\nNo oleophobic coating on back panel glass and finger prints are visible but since I bought mint gr...\\nREAD MORE',\n",
       " 'This will help you more. See if you are planning to buy iPhone 11. I will say. Yes. But there are some plans I just want to disclose before you buy. 1) If you are an existing iPhone X/XS/XS Max/ XR user, better you guys do not think it to buy. You guys have more or less better gadget. 2) If you are an android user and planning to buy premium phone. I will suggest them to please buy iPhone instead of buying an Android. I bet you will never go back to android after using IOS. Now I want to shar...\\nREAD MORE',\n",
       " 'The Best Phone for the Money\\n\\nThe iPhone 11 offers superb cameras, a more durable design and excellent battery life for an affordable price.\\n\\nCompelling ultra-wide camera\\nNew Night mode is excellent\\nLong battery life',\n",
       " 'Amazing phone with great cameras and better battery which gives you the best performance. I just love the camera .',\n",
       " 'Previously I was using one plus 3t it was a great phone\\nAnd then I decided to upgrade I am stuck between Samsung s10 plus or iPhone 11\\nI have seen the specs and everything were good except the display it’s somewhere between 720-1080 and it’s not even an amoled it’s an LCD display\\nBut I decided to go with iPhone because I have never used an IOS device I have Been an android user from the past 9 years I ordered IPhone 11 (128gb) product red\\nMy experience after using 3 weeks\\n1. The delivery ...\\nREAD MORE',\n",
       " 'Amazing Powerful and Durable Gadget.\\n\\nI’m am very happy with the camera picture quality, Amazing face id unlocked in dark room, Strong battery with perfect screen size as you can carry easily in pocket. This is my third iPhone.\\n\\nI shifted from android Samsung Note series to iPhone because of the strong build quality and peace of mind for next 3-4 years.\\n\\nDon’t think to much just go for it and I suggest you to go for minimum 128gb variant or more 256gb.\\n\\nI’ve attached my puppy pics and no fi...\\nREAD MORE',\n",
       " 'iphone 11 is a very good phone to buy only if you can compromise for the display. The display on this is device is pretty good but you can get other options with better displays in this price segment.\\nIf you can survive with an HD+ LCD panel with thicker bezels and a notch up top then this is a very good phone for you.\\nCameras are awesome, battery backup excellent, great performance and a decent premium look. Good job Apple !',\n",
       " 'It’s a must buy who is looking for an upgrade from previous generation of iPhones. If you are using XR then still you can hold on for sometime and upgrade to 2020 model else this phone is a must buy . Camera quality is amazing and wide angle is something to count upon. Performance wise it’s amazing and feels premium while holding in hand. So a big YES for this device. Go for 128 GB variant as the 4K videos will occupy lots of space and the storage can get over very quickly. Try to buy it with...\\nREAD MORE',\n",
       " 'Value for money❤️❤️\\nIts awesome mobile phone in the world ...\\nDisplay was very good and bright ..\\nTrust me freinds you r never regret after Buying..\\nJust go for it....\\nI love this phone and i switch to iphone x to 11',\n",
       " 'This is my first iOS phone. I am very happy with this product. Very much satisfied with this. I love this phone.',\n",
       " '*Review after 10 months of usage*\\nDoesn\\'t seem bulky with decent touch and camera. The \"standard maintained\" quality of IPhone. Go for it, if your budget is not more enough for pro models. It\\'s a value for money among the 11 series Stereo speakers are so good, you will love the stereo sound. Battery backup is not decent but still better than Iphone 7 and 8.Processor is fast, the phone doesn\\'t lag at all even with heavy games, waterproof, faster face id and with no fingerprint scanners. The ca...\\nREAD MORE',\n",
       " 'Best budget Iphone till date ❤️ go for it guys without second thought. Let me explain you guys about Camera, Display, battery, and performance.\\n\\nCamera: at this price range there is no comparison of camera, you’ll love the picture quality as well as video quality. I am a Vlogger I wanted an iPhone with 4k video by front camera and I got this phone and I am more than happy 😃\\n\\nBattery: I use this phone roughly as I am active social media person and I have a youtube channel. so the battery ba...\\nREAD MORE',\n",
       " 'Excellent camera, good performance, no lag. The lcd display is also good.. but difference come when we watch movie in prime and Netflix, the colours are not vibrant.. as we see in amoled display.. and the charger in box is of 5 watts.. takes more than 3 hours to charge from 0 to 100.. so guys be prepare to buy 18 watts charger . Finally I am an android user, it was my first Iapple phone, I promise u guys the iOS is so smooth.. overall the phone is damn good.... close eyes to buy it.. thanks t...\\nREAD MORE',\n",
       " 'It’s been almost a month since I have been using this phone. I upgraded from an iPhone 8. The main issue with my 8 was battery and this phone is just awesome when it comes to battery. It lasts a day and a half for me with my regular use , internet connected always with 4g\\nCan’t move forward without saying this. Battery of this phone is a life saver when I am traveling or at work when I don’t get the option to charge\\nCamera is superb. Front cam selfies and back cam photos are just awesome.\\n...\\nREAD MORE',\n",
       " \"Iphone is just awesome.. battery backup is very very nice.. continuously for 10 hours we can use it.camera is just awesome.. display is just fab.i love it alot..i had to wait 15 days for it as i pre ordered it..overalll it's worth the price..these all images are clicked by my iPhone..and i love it.\",\n",
       " 'Awesome Phone. Slightly high price but worth. Better than iPhone XR.\\nCamera is superb and wide angle camera is very clear.\\n12MP selfie camera is also very good.\\nA13 Chip gives a very good and smooth performance.',\n",
       " 'Really worth of money. i just love it. It is the best phone ever.',\n",
       " 'I have migrated from OP 7pro... and trust me, iPhone 11 is totally worth it.. following are the reasons:-\\n1)there is ABSOLUTELY NO ISSUE WITH THE DISPLAY... its crisp, sharp and I found it to be much much better than OP7 pro. Netflix, Prime video all run crisply... you won’t miss a thing. True Tone works flawlessly...the display brightness is perfect. OP have not calibrated their screens properly.\\n2) iPhone 11 series have really good cameras... others have spoken in depth about them.\\n3) bat...\\nREAD MORE',\n",
       " 'Upgraded from iphone 6 to 11 best phone for iphone users battery is much better than other iphones camera is awesome love to use it.camera is so clear in night.',\n",
       " 'This is my first ever I phone. Before this I was using my google nexus 5. But moving from android to iOS is a great experience. It’s worth at this price. I will highly recommend it if you want to move to iOS. The best part of this phone is it’s camera and it’s battery life. This two things have won my heart. I loved it. Happy to have it in my hand. Still exploring its features. And can’t forget to mention Flipkart service. Very prompt service and fast delivery.',\n",
       " 'It’s an amazing product from apple and the camera is simply superb. Phone is faster.Night shot is simply superb and detailing and colour differentiation from camera is an added advantage\\n\\nThis review I have written from iPhone 11 only and I am glad to say outside.\\n\\nCons wise if we see HD+ display only, no battery percentage indicator as in older iPhone 8.\\nNo assistive touch control button in it\\nNo oleophobic coating on back panel glass and finger prints are visible but since I bought mint gr...\\nREAD MORE',\n",
       " 'This will help you more. See if you are planning to buy iPhone 11. I will say. Yes. But there are some plans I just want to disclose before you buy. 1) If you are an existing iPhone X/XS/XS Max/ XR user, better you guys do not think it to buy. You guys have more or less better gadget. 2) If you are an android user and planning to buy premium phone. I will suggest them to please buy iPhone instead of buying an Android. I bet you will never go back to android after using IOS. Now I want to shar...\\nREAD MORE',\n",
       " 'The Best Phone for the Money\\n\\nThe iPhone 11 offers superb cameras, a more durable design and excellent battery life for an affordable price.\\n\\nCompelling ultra-wide camera\\nNew Night mode is excellent\\nLong battery life',\n",
       " 'Amazing phone with great cameras and better battery which gives you the best performance. I just love the camera .',\n",
       " 'Previously I was using one plus 3t it was a great phone\\nAnd then I decided to upgrade I am stuck between Samsung s10 plus or iPhone 11\\nI have seen the specs and everything were good except the display it’s somewhere between 720-1080 and it’s not even an amoled it’s an LCD display\\nBut I decided to go with iPhone because I have never used an IOS device I have Been an android user from the past 9 years I ordered IPhone 11 (128gb) product red\\nMy experience after using 3 weeks\\n1. The delivery ...\\nREAD MORE',\n",
       " 'Amazing Powerful and Durable Gadget.\\n\\nI’m am very happy with the camera picture quality, Amazing face id unlocked in dark room, Strong battery with perfect screen size as you can carry easily in pocket. This is my third iPhone.\\n\\nI shifted from android Samsung Note series to iPhone because of the strong build quality and peace of mind for next 3-4 years.\\n\\nDon’t think to much just go for it and I suggest you to go for minimum 128gb variant or more 256gb.\\n\\nI’ve attached my puppy pics and no fi...\\nREAD MORE',\n",
       " 'iphone 11 is a very good phone to buy only if you can compromise for the display. The display on this is device is pretty good but you can get other options with better displays in this price segment.\\nIf you can survive with an HD+ LCD panel with thicker bezels and a notch up top then this is a very good phone for you.\\nCameras are awesome, battery backup excellent, great performance and a decent premium look. Good job Apple !',\n",
       " 'It’s a must buy who is looking for an upgrade from previous generation of iPhones. If you are using XR then still you can hold on for sometime and upgrade to 2020 model else this phone is a must buy . Camera quality is amazing and wide angle is something to count upon. Performance wise it’s amazing and feels premium while holding in hand. So a big YES for this device. Go for 128 GB variant as the 4K videos will occupy lots of space and the storage can get over very quickly. Try to buy it with...\\nREAD MORE',\n",
       " 'Value for money❤️❤️\\nIts awesome mobile phone in the world ...\\nDisplay was very good and bright ..\\nTrust me freinds you r never regret after Buying..\\nJust go for it....\\nI love this phone and i switch to iphone x to 11',\n",
       " 'This is my first iOS phone. I am very happy with this product. Very much satisfied with this. I love this phone.',\n",
       " '*Review after 10 months of usage*\\nDoesn\\'t seem bulky with decent touch and camera. The \"standard maintained\" quality of IPhone. Go for it, if your budget is not more enough for pro models. It\\'s a value for money among the 11 series Stereo speakers are so good, you will love the stereo sound. Battery backup is not decent but still better than Iphone 7 and 8.Processor is fast, the phone doesn\\'t lag at all even with heavy games, waterproof, faster face id and with no fingerprint scanners. The ca...\\nREAD MORE',\n",
       " 'Best budget Iphone till date ❤️ go for it guys without second thought. Let me explain you guys about Camera, Display, battery, and performance.\\n\\nCamera: at this price range there is no comparison of camera, you’ll love the picture quality as well as video quality. I am a Vlogger I wanted an iPhone with 4k video by front camera and I got this phone and I am more than happy 😃\\n\\nBattery: I use this phone roughly as I am active social media person and I have a youtube channel. so the battery ba...\\nREAD MORE',\n",
       " 'Excellent camera, good performance, no lag. The lcd display is also good.. but difference come when we watch movie in prime and Netflix, the colours are not vibrant.. as we see in amoled display.. and the charger in box is of 5 watts.. takes more than 3 hours to charge from 0 to 100.. so guys be prepare to buy 18 watts charger . Finally I am an android user, it was my first Iapple phone, I promise u guys the iOS is so smooth.. overall the phone is damn good.... close eyes to buy it.. thanks t...\\nREAD MORE',\n",
       " 'It’s been almost a month since I have been using this phone. I upgraded from an iPhone 8. The main issue with my 8 was battery and this phone is just awesome when it comes to battery. It lasts a day and a half for me with my regular use , internet connected always with 4g\\nCan’t move forward without saying this. Battery of this phone is a life saver when I am traveling or at work when I don’t get the option to charge\\nCamera is superb. Front cam selfies and back cam photos are just awesome.\\n...\\nREAD MORE',\n",
       " \"Iphone is just awesome.. battery backup is very very nice.. continuously for 10 hours we can use it.camera is just awesome.. display is just fab.i love it alot..i had to wait 15 days for it as i pre ordered it..overalll it's worth the price..these all images are clicked by my iPhone..and i love it.\",\n",
       " 'Awesome Phone. Slightly high price but worth. Better than iPhone XR.\\nCamera is superb and wide angle camera is very clear.\\n12MP selfie camera is also very good.\\nA13 Chip gives a very good and smooth performance.',\n",
       " 'Really worth of money. i just love it. It is the best phone ever.',\n",
       " 'I have migrated from OP 7pro... and trust me, iPhone 11 is totally worth it.. following are the reasons:-\\n1)there is ABSOLUTELY NO ISSUE WITH THE DISPLAY... its crisp, sharp and I found it to be much much better than OP7 pro. Netflix, Prime video all run crisply... you won’t miss a thing. True Tone works flawlessly...the display brightness is perfect. OP have not calibrated their screens properly.\\n2) iPhone 11 series have really good cameras... others have spoken in depth about them.\\n3) bat...\\nREAD MORE',\n",
       " 'Upgraded from iphone 6 to 11 best phone for iphone users battery is much better than other iphones camera is awesome love to use it.camera is so clear in night.',\n",
       " 'This is my first ever I phone. Before this I was using my google nexus 5. But moving from android to iOS is a great experience. It’s worth at this price. I will highly recommend it if you want to move to iOS. The best part of this phone is it’s camera and it’s battery life. This two things have won my heart. I loved it. Happy to have it in my hand. Still exploring its features. And can’t forget to mention Flipkart service. Very prompt service and fast delivery.',\n",
       " 'It’s an amazing product from apple and the camera is simply superb. Phone is faster.Night shot is simply superb and detailing and colour differentiation from camera is an added advantage\\n\\nThis review I have written from iPhone 11 only and I am glad to say outside.\\n\\nCons wise if we see HD+ display only, no battery percentage indicator as in older iPhone 8.\\nNo assistive touch control button in it\\nNo oleophobic coating on back panel glass and finger prints are visible but since I bought mint gr...\\nREAD MORE',\n",
       " 'This will help you more. See if you are planning to buy iPhone 11. I will say. Yes. But there are some plans I just want to disclose before you buy. 1) If you are an existing iPhone X/XS/XS Max/ XR user, better you guys do not think it to buy. You guys have more or less better gadget. 2) If you are an android user and planning to buy premium phone. I will suggest them to please buy iPhone instead of buying an Android. I bet you will never go back to android after using IOS. Now I want to shar...\\nREAD MORE',\n",
       " 'The Best Phone for the Money\\n\\nThe iPhone 11 offers superb cameras, a more durable design and excellent battery life for an affordable price.\\n\\nCompelling ultra-wide camera\\nNew Night mode is excellent\\nLong battery life',\n",
       " 'Amazing phone with great cameras and better battery which gives you the best performance. I just love the camera .',\n",
       " 'Previously I was using one plus 3t it was a great phone\\nAnd then I decided to upgrade I am stuck between Samsung s10 plus or iPhone 11\\nI have seen the specs and everything were good except the display it’s somewhere between 720-1080 and it’s not even an amoled it’s an LCD display\\nBut I decided to go with iPhone because I have never used an IOS device I have Been an android user from the past 9 years I ordered IPhone 11 (128gb) product red\\nMy experience after using 3 weeks\\n1. The delivery ...\\nREAD MORE',\n",
       " 'Amazing Powerful and Durable Gadget.\\n\\nI’m am very happy with the camera picture quality, Amazing face id unlocked in dark room, Strong battery with perfect screen size as you can carry easily in pocket. This is my third iPhone.\\n\\nI shifted from android Samsung Note series to iPhone because of the strong build quality and peace of mind for next 3-4 years.\\n\\nDon’t think to much just go for it and I suggest you to go for minimum 128gb variant or more 256gb.\\n\\nI’ve attached my puppy pics and no fi...\\nREAD MORE',\n",
       " 'iphone 11 is a very good phone to buy only if you can compromise for the display. The display on this is device is pretty good but you can get other options with better displays in this price segment.\\nIf you can survive with an HD+ LCD panel with thicker bezels and a notch up top then this is a very good phone for you.\\nCameras are awesome, battery backup excellent, great performance and a decent premium look. Good job Apple !',\n",
       " 'It’s a must buy who is looking for an upgrade from previous generation of iPhones. If you are using XR then still you can hold on for sometime and upgrade to 2020 model else this phone is a must buy . Camera quality is amazing and wide angle is something to count upon. Performance wise it’s amazing and feels premium while holding in hand. So a big YES for this device. Go for 128 GB variant as the 4K videos will occupy lots of space and the storage can get over very quickly. Try to buy it with...\\nREAD MORE',\n",
       " 'Value for money❤️❤️\\nIts awesome mobile phone in the world ...\\nDisplay was very good and bright ..\\nTrust me freinds you r never regret after Buying..\\nJust go for it....\\nI love this phone and i switch to iphone x to 11',\n",
       " 'This is my first iOS phone. I am very happy with this product. Very much satisfied with this. I love this phone.',\n",
       " '*Review after 10 months of usage*\\nDoesn\\'t seem bulky with decent touch and camera. The \"standard maintained\" quality of IPhone. Go for it, if your budget is not more enough for pro models. It\\'s a value for money among the 11 series Stereo speakers are so good, you will love the stereo sound. Battery backup is not decent but still better than Iphone 7 and 8.Processor is fast, the phone doesn\\'t lag at all even with heavy games, waterproof, faster face id and with no fingerprint scanners. The ca...\\nREAD MORE',\n",
       " 'Best budget Iphone till date ❤️ go for it guys without second thought. Let me explain you guys about Camera, Display, battery, and performance.\\n\\nCamera: at this price range there is no comparison of camera, you’ll love the picture quality as well as video quality. I am a Vlogger I wanted an iPhone with 4k video by front camera and I got this phone and I am more than happy 😃\\n\\nBattery: I use this phone roughly as I am active social media person and I have a youtube channel. so the battery ba...\\nREAD MORE']"
      ]
     },
     "execution_count": 43,
     "metadata": {},
     "output_type": "execute_result"
    }
   ],
   "source": [
    "full_review"
   ]
  },
  {
   "cell_type": "code",
   "execution_count": 44,
   "metadata": {},
   "outputs": [
    {
     "data": {
      "text/plain": [
       "90"
      ]
     },
     "execution_count": 44,
     "metadata": {},
     "output_type": "execute_result"
    }
   ],
   "source": [
    "len(full_review)"
   ]
  },
  {
   "cell_type": "markdown",
   "metadata": {},
   "source": [
    "# selenium assignment 8"
   ]
  },
  {
   "cell_type": "code",
   "execution_count": 13,
   "metadata": {},
   "outputs": [],
   "source": [
    "url18=\"https://www.flipkart.com/\""
   ]
  },
  {
   "cell_type": "code",
   "execution_count": 14,
   "metadata": {},
   "outputs": [],
   "source": [
    "driver.get(url18)"
   ]
  },
  {
   "cell_type": "code",
   "execution_count": 15,
   "metadata": {},
   "outputs": [],
   "source": [
    "search_sneakers=driver.find_element_by_xpath(\"//input[@class='_3704LK']\")\n",
    "search_sneakers.send_keys(\"sneakers\")"
   ]
  },
  {
   "cell_type": "code",
   "execution_count": 18,
   "metadata": {},
   "outputs": [],
   "source": [
    "search_btn=driver.find_element_by_xpath(\"//button[@class='L0Z3Pu']\")\n",
    "search_btn.click()"
   ]
  },
  {
   "cell_type": "code",
   "execution_count": 19,
   "metadata": {},
   "outputs": [],
   "source": [
    "brand1=[]\n",
    "product_des1=[]\n",
    "price1=[]\n",
    "discount1=[]"
   ]
  },
  {
   "cell_type": "code",
   "execution_count": 20,
   "metadata": {},
   "outputs": [],
   "source": [
    "import time\n",
    "for i in range(0,3):\n",
    "    for j in driver.find_elements_by_xpath(\"//div[@class='_2WkVRV']\"):\n",
    "        brand1.append(j.text)\n",
    "    for k in driver.find_elements_by_xpath(\"//a[@class='IRpwTa']\"):\n",
    "        product_des1.append(k.text)\n",
    "    for l in driver.find_elements_by_xpath(\"//div[@class='_30jeq3']\"):\n",
    "        price1.append(l.text)\n",
    "    for m in driver.find_elements_by_xpath(\"//div[@class='_3Ay6Sb']/span[1]\"):\n",
    "        discount1.append(m.text)\n",
    "    time.sleep(3)\n",
    "    url19=driver.find_element_by_xpath(\"//a[@class='_1LKTO3']\").get_attribute(\"href\")\n",
    "    driver.get(url19)"
   ]
  },
  {
   "cell_type": "code",
   "execution_count": 21,
   "metadata": {},
   "outputs": [
    {
     "data": {
      "text/plain": [
       "120"
      ]
     },
     "execution_count": 21,
     "metadata": {},
     "output_type": "execute_result"
    }
   ],
   "source": [
    "len(brand1)"
   ]
  },
  {
   "cell_type": "markdown",
   "metadata": {},
   "source": [
    "# selenium assignment 9"
   ]
  },
  {
   "cell_type": "code",
   "execution_count": 3,
   "metadata": {},
   "outputs": [],
   "source": [
    "url20=\"https://www.myntra.com/shoes\""
   ]
  },
  {
   "cell_type": "code",
   "execution_count": 4,
   "metadata": {},
   "outputs": [],
   "source": [
    "driver.get(url20)"
   ]
  },
  {
   "cell_type": "code",
   "execution_count": 6,
   "metadata": {},
   "outputs": [],
   "source": [
    "price_filter=driver.find_element_by_xpath(\"//ul[@class='price-list']/li[2]/label[1]\")\n",
    "price_filter.click()"
   ]
  },
  {
   "cell_type": "code",
   "execution_count": 5,
   "metadata": {},
   "outputs": [],
   "source": [
    "color_filter=driver.find_element_by_xpath(\"//li[@class='colour-listItem']/label[1]\")\n",
    "color_filter.click()"
   ]
  },
  {
   "cell_type": "code",
   "execution_count": 7,
   "metadata": {},
   "outputs": [],
   "source": [
    "shoe_brand=[]\n",
    "shoe_desc=[]\n",
    "shoe_price=[]"
   ]
  },
  {
   "cell_type": "code",
   "execution_count": 8,
   "metadata": {},
   "outputs": [],
   "source": [
    "import time\n",
    "for i in range(0,2):\n",
    "    for j in driver.find_elements_by_xpath(\"//h3[@class='product-brand']\"):\n",
    "        shoe_brand.append(j.text)\n",
    "    for k in driver.find_elements_by_xpath(\"//h4[@class='product-product']\"):\n",
    "        shoe_desc.append(k.text)\n",
    "    for l in driver.find_elements_by_xpath(\"//div[@class='product-price']\"):\n",
    "        shoe_price.append(l.text)\n",
    "    time.sleep(3)\n",
    "    url21=driver.find_element_by_xpath(\"//li[@class='pagination-next']/a[1]\").get_attribute(\"href\")\n",
    "    driver.get(url21)"
   ]
  },
  {
   "cell_type": "code",
   "execution_count": 10,
   "metadata": {},
   "outputs": [
    {
     "data": {
      "text/plain": [
       "100"
      ]
     },
     "execution_count": 10,
     "metadata": {},
     "output_type": "execute_result"
    }
   ],
   "source": [
    "len(shoe_desc)"
   ]
  },
  {
   "cell_type": "code",
   "execution_count": 11,
   "metadata": {},
   "outputs": [
    {
     "data": {
      "text/plain": [
       "100"
      ]
     },
     "execution_count": 11,
     "metadata": {},
     "output_type": "execute_result"
    }
   ],
   "source": [
    "len(shoe_price)"
   ]
  },
  {
   "cell_type": "code",
   "execution_count": 9,
   "metadata": {},
   "outputs": [
    {
     "data": {
      "text/plain": [
       "100"
      ]
     },
     "execution_count": 9,
     "metadata": {},
     "output_type": "execute_result"
    }
   ],
   "source": [
    "len(shoe_brand)"
   ]
  },
  {
   "cell_type": "code",
   "execution_count": 12,
   "metadata": {},
   "outputs": [],
   "source": [
    "import pandas as pd\n",
    "shoes=pd.DataFrame({})\n",
    "shoes['Brand']=shoe_brand\n",
    "shoes['Description']=shoe_desc\n",
    "shoes['Price']=shoe_price"
   ]
  },
  {
   "cell_type": "code",
   "execution_count": 13,
   "metadata": {},
   "outputs": [
    {
     "data": {
      "text/html": [
       "<div>\n",
       "<style scoped>\n",
       "    .dataframe tbody tr th:only-of-type {\n",
       "        vertical-align: middle;\n",
       "    }\n",
       "\n",
       "    .dataframe tbody tr th {\n",
       "        vertical-align: top;\n",
       "    }\n",
       "\n",
       "    .dataframe thead th {\n",
       "        text-align: right;\n",
       "    }\n",
       "</style>\n",
       "<table border=\"1\" class=\"dataframe\">\n",
       "  <thead>\n",
       "    <tr style=\"text-align: right;\">\n",
       "      <th></th>\n",
       "      <th>Brand</th>\n",
       "      <th>Description</th>\n",
       "      <th>Price</th>\n",
       "    </tr>\n",
       "  </thead>\n",
       "  <tbody>\n",
       "    <tr>\n",
       "      <th>0</th>\n",
       "      <td>Nike</td>\n",
       "      <td>Men JORDAN DELTA Basketball</td>\n",
       "      <td>Rs. 12495</td>\n",
       "    </tr>\n",
       "    <tr>\n",
       "      <th>1</th>\n",
       "      <td>Nike</td>\n",
       "      <td>Men AF1/1 Sneakers</td>\n",
       "      <td>Rs. 10620Rs. 12495(Rs. 1875 OFF)</td>\n",
       "    </tr>\n",
       "    <tr>\n",
       "      <th>2</th>\n",
       "      <td>Nike</td>\n",
       "      <td>Men AIR ZOOM Running Shoes</td>\n",
       "      <td>Rs. 10796Rs. 13495(Rs. 2699 OFF)</td>\n",
       "    </tr>\n",
       "    <tr>\n",
       "      <th>3</th>\n",
       "      <td>Nike</td>\n",
       "      <td>Women Running Shoes</td>\n",
       "      <td>Rs. 7796Rs. 11995(Rs. 4199 OFF)</td>\n",
       "    </tr>\n",
       "    <tr>\n",
       "      <th>4</th>\n",
       "      <td>Nike</td>\n",
       "      <td>Men REACT MILER Running Shoes</td>\n",
       "      <td>Rs. 8796Rs. 10995(Rs. 2199 OFF)</td>\n",
       "    </tr>\n",
       "    <tr>\n",
       "      <th>...</th>\n",
       "      <td>...</td>\n",
       "      <td>...</td>\n",
       "      <td>...</td>\n",
       "    </tr>\n",
       "    <tr>\n",
       "      <th>95</th>\n",
       "      <td>Ruosh</td>\n",
       "      <td>Men Solid Leather Formal Monks</td>\n",
       "      <td>Rs. 6990</td>\n",
       "    </tr>\n",
       "    <tr>\n",
       "      <th>96</th>\n",
       "      <td>Hush Puppies</td>\n",
       "      <td>Men Leather Derbys</td>\n",
       "      <td>Rs. 7999</td>\n",
       "    </tr>\n",
       "    <tr>\n",
       "      <th>97</th>\n",
       "      <td>Ruosh</td>\n",
       "      <td>Men Textured Leather Monks</td>\n",
       "      <td>Rs. 6990</td>\n",
       "    </tr>\n",
       "    <tr>\n",
       "      <th>98</th>\n",
       "      <td>Hush Puppies</td>\n",
       "      <td>Men Textured Oxfords</td>\n",
       "      <td>Rs. 6999</td>\n",
       "    </tr>\n",
       "    <tr>\n",
       "      <th>99</th>\n",
       "      <td>Bugatti</td>\n",
       "      <td>Women Black Sneakers</td>\n",
       "      <td>Rs. 7999</td>\n",
       "    </tr>\n",
       "  </tbody>\n",
       "</table>\n",
       "<p>100 rows × 3 columns</p>\n",
       "</div>"
      ],
      "text/plain": [
       "           Brand                     Description  \\\n",
       "0           Nike     Men JORDAN DELTA Basketball   \n",
       "1           Nike              Men AF1/1 Sneakers   \n",
       "2           Nike      Men AIR ZOOM Running Shoes   \n",
       "3           Nike             Women Running Shoes   \n",
       "4           Nike   Men REACT MILER Running Shoes   \n",
       "..           ...                             ...   \n",
       "95         Ruosh  Men Solid Leather Formal Monks   \n",
       "96  Hush Puppies              Men Leather Derbys   \n",
       "97         Ruosh      Men Textured Leather Monks   \n",
       "98  Hush Puppies            Men Textured Oxfords   \n",
       "99       Bugatti            Women Black Sneakers   \n",
       "\n",
       "                               Price  \n",
       "0                          Rs. 12495  \n",
       "1   Rs. 10620Rs. 12495(Rs. 1875 OFF)  \n",
       "2   Rs. 10796Rs. 13495(Rs. 2699 OFF)  \n",
       "3    Rs. 7796Rs. 11995(Rs. 4199 OFF)  \n",
       "4    Rs. 8796Rs. 10995(Rs. 2199 OFF)  \n",
       "..                               ...  \n",
       "95                          Rs. 6990  \n",
       "96                          Rs. 7999  \n",
       "97                          Rs. 6990  \n",
       "98                          Rs. 6999  \n",
       "99                          Rs. 7999  \n",
       "\n",
       "[100 rows x 3 columns]"
      ]
     },
     "execution_count": 13,
     "metadata": {},
     "output_type": "execute_result"
    }
   ],
   "source": [
    "shoes"
   ]
  },
  {
   "cell_type": "markdown",
   "metadata": {},
   "source": [
    "# selenium assignment 10"
   ]
  },
  {
   "cell_type": "code",
   "execution_count": 35,
   "metadata": {},
   "outputs": [],
   "source": [
    "url22=\"https://www.amazon.in/\""
   ]
  },
  {
   "cell_type": "code",
   "execution_count": 36,
   "metadata": {},
   "outputs": [],
   "source": [
    "driver.get(url22)"
   ]
  },
  {
   "cell_type": "code",
   "execution_count": 37,
   "metadata": {},
   "outputs": [],
   "source": [
    "search_laptop=driver.find_element_by_id(\"twotabsearchtextbox\")\n",
    "search_laptop.send_keys(\"Laptop\")"
   ]
  },
  {
   "cell_type": "code",
   "execution_count": 38,
   "metadata": {},
   "outputs": [],
   "source": [
    "search_btn2=driver.find_element_by_id(\"nav-search-submit-button\")\n",
    "search_btn2.click()"
   ]
  },
  {
   "cell_type": "code",
   "execution_count": 39,
   "metadata": {},
   "outputs": [],
   "source": [
    "laptop_titles=[]\n",
    "laptop_prices=[]"
   ]
  },
  {
   "cell_type": "code",
   "execution_count": 41,
   "metadata": {},
   "outputs": [],
   "source": [
    "cpu_filter=driver.find_element_by_xpath(\"//ul[@class='a-unordered-list a-nostyle a-vertical a-spacing-medium']/li[15]/span[1]/a[1]/div[1]\")\n",
    "cpu_filter.click()"
   ]
  },
  {
   "cell_type": "code",
   "execution_count": 40,
   "metadata": {},
   "outputs": [],
   "source": [
    "cpu_filter1=driver.find_element_by_xpath(\"//ul[@class='a-unordered-list a-nostyle a-vertical a-spacing-medium']/li[16]/span[1]/a[1]/div[1]\")\n",
    "cpu_filter1.click()"
   ]
  },
  {
   "cell_type": "code",
   "execution_count": 42,
   "metadata": {},
   "outputs": [
    {
     "data": {
      "text/plain": [
       "[<selenium.webdriver.remote.webelement.WebElement (session=\"9eb83e511a07954812bb40ec0eaf611e\", element=\"91fd3016-3333-4a41-8a5f-c7d8b63bf5e9\")>,\n",
       " <selenium.webdriver.remote.webelement.WebElement (session=\"9eb83e511a07954812bb40ec0eaf611e\", element=\"8bb6da4a-680e-4d3d-add8-f4d140864dab\")>,\n",
       " <selenium.webdriver.remote.webelement.WebElement (session=\"9eb83e511a07954812bb40ec0eaf611e\", element=\"fa95cff8-316c-4927-8825-71b027c82846\")>,\n",
       " <selenium.webdriver.remote.webelement.WebElement (session=\"9eb83e511a07954812bb40ec0eaf611e\", element=\"143e3278-683a-4fbc-bad4-7cd71ffb2d31\")>,\n",
       " <selenium.webdriver.remote.webelement.WebElement (session=\"9eb83e511a07954812bb40ec0eaf611e\", element=\"11056b1a-097d-4421-aefa-26edd2c32dc0\")>,\n",
       " <selenium.webdriver.remote.webelement.WebElement (session=\"9eb83e511a07954812bb40ec0eaf611e\", element=\"0d2f6e06-7898-40c9-b43d-8e6cb6c9569b\")>,\n",
       " <selenium.webdriver.remote.webelement.WebElement (session=\"9eb83e511a07954812bb40ec0eaf611e\", element=\"10f9769c-a37f-48f5-9d33-43fd9ec4d917\")>,\n",
       " <selenium.webdriver.remote.webelement.WebElement (session=\"9eb83e511a07954812bb40ec0eaf611e\", element=\"ba101bad-a3d6-4b22-b7a4-a835491db06f\")>,\n",
       " <selenium.webdriver.remote.webelement.WebElement (session=\"9eb83e511a07954812bb40ec0eaf611e\", element=\"2dec895b-cb24-4623-b8b6-63c978e7af57\")>,\n",
       " <selenium.webdriver.remote.webelement.WebElement (session=\"9eb83e511a07954812bb40ec0eaf611e\", element=\"63dc5fb7-eb49-42c0-bcb7-b26d9ef22cf0\")>]"
      ]
     },
     "execution_count": 42,
     "metadata": {},
     "output_type": "execute_result"
    }
   ],
   "source": [
    "#lets extract all the tags having the laptop-titles\n",
    "laptop_tags=driver.find_elements_by_xpath(\"//h2[@class='a-size-mini a-spacing-none a-color-base s-line-clamp-2']\")\n",
    "laptop_tags[0:10]"
   ]
  },
  {
   "cell_type": "code",
   "execution_count": 43,
   "metadata": {},
   "outputs": [
    {
     "data": {
      "text/plain": [
       "['Lenovo IdeaPad Flex 5 11th Gen Intel Core i7 14-inch FHD IPS 2-in-1 Touchscreen Laptop (16GB/512GB SSD/Win 10/Office 2019/Lenovo Digital Pen Stylus/Fingerprint Reader/Graphite Grey/1.5Kg), 82HS0092IN',\n",
       " 'DELL Inspiron G3 3590 15.6-inch Laptop (9th Gen Core i7-9570H/8GB/512GB SSD/ Nvidia GTX 1660Ti 6GB Graphics /Windows 10 Home+ MS Office), Black',\n",
       " 'HP Envy 11th Gen Core i7 Processor 13.3-inch FHD Touchscreen Laptop (16GB/1TB SSD/Win 10/NVIDIA MX450 2GB/Natural Silver/1.3 kg), 13-ba1018TX',\n",
       " 'Dell Alienware m15(R3) 15.6-inch FHD Gaming Laptop (10th Gen Core i7-10750H/16GB/512GB SSD/Windows 10 Home & MS Office/6GB NVIDIA GTX 1660 Ti Graphics), Lunar Light',\n",
       " 'Mi Notebook Horizon Edition 14 Intel Core i5-10210U 10th Gen Thin and Light Laptop(8GB/512GB SSD/Windows 10/Nvidia MX350 2GB Graphics/Grey/1.35Kg), XMA1904-AR+Webcam',\n",
       " 'Asus ROG Zephyrus S Ultra Slim Gaming Laptop, 15.6\" 144Hz IPS Type FHD, GeForce RTX 2070, Intel Core i7-8750H, 16GB DDR4, 512GB PCIe NVMe SSD, Aura Sync RGB, Windows 10, GX531GW-AS76',\n",
       " \"(Renewed) HP EliteBook 820 G4 Laptop (CORE I5 7TH GEN/8GB/512GB SSD/WEBCAM/12.5'' TOUCH/WIN 10 PRO)\",\n",
       " 'Lenovo Legion 5Pi 10th Gen Intel Core i7 15.6\" FHD Gaming Laptop (16GB/1TB SSD/Windows 10/MS Office 2019/144 Hz/NVIDIA RTX 2060 6GB GDDR6/with M300 RGB Gaming Mouse/Iron Grey/2.3Kg), 82AW005SIN',\n",
       " 'HP 14 Thin & Light 14-inch FHD Laptop (11th Gen Intel i7-1165G7/8GB/512GB SSD/Windows 10/MS Office 2019/Alexa Built-in/Pale Gold/1.47 kg), 14s-dr2007TU',\n",
       " 'ASUS ROG Zephyrus M15 (2020), 15.6\" 4K UHD, Intel Core i7-10750H 10th Gen, RTX 2060 GDDR6 6GB Graphics, Gaming Laptop (16GB RAM/1TB NVMe SSD/Windows 10/Prism Black/1.9 Kg), GU502LV-HC140T']"
      ]
     },
     "execution_count": 43,
     "metadata": {},
     "output_type": "execute_result"
    }
   ],
   "source": [
    "#we will run the loop to extract the text from the above tags extracted\n",
    "for i in laptop_tags:\n",
    "    laptop_title=i.text\n",
    "    laptop_titles.append(laptop_title)\n",
    "laptop_titles[0:10]"
   ]
  },
  {
   "cell_type": "code",
   "execution_count": 49,
   "metadata": {},
   "outputs": [],
   "source": [
    "from selenium.common.exceptions import NoSuchElementException\n",
    "Ratings=[]"
   ]
  },
  {
   "cell_type": "code",
   "execution_count": 50,
   "metadata": {},
   "outputs": [],
   "source": [
    "urls=driver.find_elements_by_xpath(\"//a[@class='a-link-normal a-text-normal']\")\n",
    "UR=[]\n",
    "for i in urls[:10]:\n",
    "    UR.append(i.get_attribute('href'))# getting the urls of first 10 laptops\n",
    "for url in UR: #loop for every laptop in the list\n",
    "    driver.get(url)\n",
    "    try:\n",
    "        rate=driver.find_element_by_xpath(\"//span[@id='acrCustomerReviewText']\")#locating the ratings link\n",
    "        rate.click()\n",
    "        rating=driver.find_element_by_xpath(\"//span[@class='a-size-medium a-color-base']\") # locating the ratings\n",
    "        Ratings.append(rating.text)\n",
    "        \n",
    "    except NoSuchElementException as e:\n",
    "        Ratings.append('No Ratings')"
   ]
  },
  {
   "cell_type": "code",
   "execution_count": 51,
   "metadata": {},
   "outputs": [
    {
     "data": {
      "text/plain": [
       "[<selenium.webdriver.remote.webelement.WebElement (session=\"9eb83e511a07954812bb40ec0eaf611e\", element=\"93a495d4-ef25-47c4-a71e-ade615d5a244\")>,\n",
       " <selenium.webdriver.remote.webelement.WebElement (session=\"9eb83e511a07954812bb40ec0eaf611e\", element=\"d01b07f3-0229-4091-97b8-498f0cc4c5b2\")>,\n",
       " <selenium.webdriver.remote.webelement.WebElement (session=\"9eb83e511a07954812bb40ec0eaf611e\", element=\"30a5d283-d7ed-4b34-893e-d38bb9ee076b\")>,\n",
       " <selenium.webdriver.remote.webelement.WebElement (session=\"9eb83e511a07954812bb40ec0eaf611e\", element=\"7c82e8a1-e346-45db-92a2-f7623234726e\")>,\n",
       " <selenium.webdriver.remote.webelement.WebElement (session=\"9eb83e511a07954812bb40ec0eaf611e\", element=\"e9b87935-9491-4ed3-be37-e944765aa6e2\")>,\n",
       " <selenium.webdriver.remote.webelement.WebElement (session=\"9eb83e511a07954812bb40ec0eaf611e\", element=\"7ff0791b-fbcb-41f6-8f2d-d4aa529c7bb6\")>,\n",
       " <selenium.webdriver.remote.webelement.WebElement (session=\"9eb83e511a07954812bb40ec0eaf611e\", element=\"a60a851e-5509-4b13-b45d-2508706aa7d7\")>,\n",
       " <selenium.webdriver.remote.webelement.WebElement (session=\"9eb83e511a07954812bb40ec0eaf611e\", element=\"73027b92-5774-4636-9e57-3ab43ded2b43\")>,\n",
       " <selenium.webdriver.remote.webelement.WebElement (session=\"9eb83e511a07954812bb40ec0eaf611e\", element=\"6bdf9dc8-be26-40d6-9982-95a3f77e5f31\")>,\n",
       " <selenium.webdriver.remote.webelement.WebElement (session=\"9eb83e511a07954812bb40ec0eaf611e\", element=\"e22338f3-2a82-4826-91d9-8af4ad0155ea\")>]"
      ]
     },
     "execution_count": 51,
     "metadata": {},
     "output_type": "execute_result"
    }
   ],
   "source": [
    "laptop_price_tags=driver.find_elements_by_xpath(\"//span[@class='a-price-whole']\")\n",
    "laptop_price_tags[0:10]"
   ]
  },
  {
   "cell_type": "code",
   "execution_count": 52,
   "metadata": {},
   "outputs": [
    {
     "data": {
      "text/plain": [
       "['86,990',\n",
       " '1,04,500',\n",
       " '1,32,519',\n",
       " '1,98,590',\n",
       " '49,999',\n",
       " '40,790',\n",
       " '1,35,490',\n",
       " '76,500',\n",
       " '1,46,500',\n",
       " '78,990']"
      ]
     },
     "execution_count": 52,
     "metadata": {},
     "output_type": "execute_result"
    }
   ],
   "source": [
    "for i in laptop_price_tags:\n",
    "    laptop_price=i.text\n",
    "    laptop_prices.append(laptop_price)\n",
    "laptop_prices[0:10]"
   ]
  },
  {
   "cell_type": "code",
   "execution_count": 53,
   "metadata": {},
   "outputs": [
    {
     "ename": "ValueError",
     "evalue": "Length of values does not match length of index",
     "output_type": "error",
     "traceback": [
      "\u001b[1;31m---------------------------------------------------------------------------\u001b[0m",
      "\u001b[1;31mValueError\u001b[0m                                Traceback (most recent call last)",
      "\u001b[1;32m<ipython-input-53-56b3657b8eb6>\u001b[0m in \u001b[0;36m<module>\u001b[1;34m\u001b[0m\n\u001b[0;32m      2\u001b[0m \u001b[0mlaptops\u001b[0m\u001b[1;33m=\u001b[0m\u001b[0mpd\u001b[0m\u001b[1;33m.\u001b[0m\u001b[0mDataFrame\u001b[0m\u001b[1;33m(\u001b[0m\u001b[1;33m{\u001b[0m\u001b[1;33m}\u001b[0m\u001b[1;33m)\u001b[0m\u001b[1;33m\u001b[0m\u001b[1;33m\u001b[0m\u001b[0m\n\u001b[0;32m      3\u001b[0m \u001b[0mlaptops\u001b[0m\u001b[1;33m[\u001b[0m\u001b[1;34m'title'\u001b[0m\u001b[1;33m]\u001b[0m\u001b[1;33m=\u001b[0m\u001b[0mlaptop_titles\u001b[0m\u001b[1;33m[\u001b[0m\u001b[1;36m0\u001b[0m\u001b[1;33m:\u001b[0m\u001b[1;36m10\u001b[0m\u001b[1;33m]\u001b[0m\u001b[1;33m\u001b[0m\u001b[1;33m\u001b[0m\u001b[0m\n\u001b[1;32m----> 4\u001b[1;33m \u001b[0mlaptops\u001b[0m\u001b[1;33m[\u001b[0m\u001b[1;34m'ratings'\u001b[0m\u001b[1;33m]\u001b[0m\u001b[1;33m=\u001b[0m\u001b[0mRatings\u001b[0m\u001b[1;33m[\u001b[0m\u001b[1;36m0\u001b[0m\u001b[1;33m:\u001b[0m\u001b[1;36m10\u001b[0m\u001b[1;33m]\u001b[0m\u001b[1;33m\u001b[0m\u001b[1;33m\u001b[0m\u001b[0m\n\u001b[0m\u001b[0;32m      5\u001b[0m \u001b[0mlaptops\u001b[0m\u001b[1;33m[\u001b[0m\u001b[1;34m'Price'\u001b[0m\u001b[1;33m]\u001b[0m\u001b[1;33m=\u001b[0m\u001b[0mlaptop_prices\u001b[0m\u001b[1;33m[\u001b[0m\u001b[1;36m0\u001b[0m\u001b[1;33m:\u001b[0m\u001b[1;36m10\u001b[0m\u001b[1;33m]\u001b[0m\u001b[1;33m\u001b[0m\u001b[1;33m\u001b[0m\u001b[0m\n",
      "\u001b[1;32m~\\anaconda3\\lib\\site-packages\\pandas\\core\\frame.py\u001b[0m in \u001b[0;36m__setitem__\u001b[1;34m(self, key, value)\u001b[0m\n\u001b[0;32m   2936\u001b[0m         \u001b[1;32melse\u001b[0m\u001b[1;33m:\u001b[0m\u001b[1;33m\u001b[0m\u001b[1;33m\u001b[0m\u001b[0m\n\u001b[0;32m   2937\u001b[0m             \u001b[1;31m# set column\u001b[0m\u001b[1;33m\u001b[0m\u001b[1;33m\u001b[0m\u001b[1;33m\u001b[0m\u001b[0m\n\u001b[1;32m-> 2938\u001b[1;33m             \u001b[0mself\u001b[0m\u001b[1;33m.\u001b[0m\u001b[0m_set_item\u001b[0m\u001b[1;33m(\u001b[0m\u001b[0mkey\u001b[0m\u001b[1;33m,\u001b[0m \u001b[0mvalue\u001b[0m\u001b[1;33m)\u001b[0m\u001b[1;33m\u001b[0m\u001b[1;33m\u001b[0m\u001b[0m\n\u001b[0m\u001b[0;32m   2939\u001b[0m \u001b[1;33m\u001b[0m\u001b[0m\n\u001b[0;32m   2940\u001b[0m     \u001b[1;32mdef\u001b[0m \u001b[0m_setitem_slice\u001b[0m\u001b[1;33m(\u001b[0m\u001b[0mself\u001b[0m\u001b[1;33m,\u001b[0m \u001b[0mkey\u001b[0m\u001b[1;33m,\u001b[0m \u001b[0mvalue\u001b[0m\u001b[1;33m)\u001b[0m\u001b[1;33m:\u001b[0m\u001b[1;33m\u001b[0m\u001b[1;33m\u001b[0m\u001b[0m\n",
      "\u001b[1;32m~\\anaconda3\\lib\\site-packages\\pandas\\core\\frame.py\u001b[0m in \u001b[0;36m_set_item\u001b[1;34m(self, key, value)\u001b[0m\n\u001b[0;32m   2998\u001b[0m \u001b[1;33m\u001b[0m\u001b[0m\n\u001b[0;32m   2999\u001b[0m         \u001b[0mself\u001b[0m\u001b[1;33m.\u001b[0m\u001b[0m_ensure_valid_index\u001b[0m\u001b[1;33m(\u001b[0m\u001b[0mvalue\u001b[0m\u001b[1;33m)\u001b[0m\u001b[1;33m\u001b[0m\u001b[1;33m\u001b[0m\u001b[0m\n\u001b[1;32m-> 3000\u001b[1;33m         \u001b[0mvalue\u001b[0m \u001b[1;33m=\u001b[0m \u001b[0mself\u001b[0m\u001b[1;33m.\u001b[0m\u001b[0m_sanitize_column\u001b[0m\u001b[1;33m(\u001b[0m\u001b[0mkey\u001b[0m\u001b[1;33m,\u001b[0m \u001b[0mvalue\u001b[0m\u001b[1;33m)\u001b[0m\u001b[1;33m\u001b[0m\u001b[1;33m\u001b[0m\u001b[0m\n\u001b[0m\u001b[0;32m   3001\u001b[0m         \u001b[0mNDFrame\u001b[0m\u001b[1;33m.\u001b[0m\u001b[0m_set_item\u001b[0m\u001b[1;33m(\u001b[0m\u001b[0mself\u001b[0m\u001b[1;33m,\u001b[0m \u001b[0mkey\u001b[0m\u001b[1;33m,\u001b[0m \u001b[0mvalue\u001b[0m\u001b[1;33m)\u001b[0m\u001b[1;33m\u001b[0m\u001b[1;33m\u001b[0m\u001b[0m\n\u001b[0;32m   3002\u001b[0m \u001b[1;33m\u001b[0m\u001b[0m\n",
      "\u001b[1;32m~\\anaconda3\\lib\\site-packages\\pandas\\core\\frame.py\u001b[0m in \u001b[0;36m_sanitize_column\u001b[1;34m(self, key, value, broadcast)\u001b[0m\n\u001b[0;32m   3634\u001b[0m \u001b[1;33m\u001b[0m\u001b[0m\n\u001b[0;32m   3635\u001b[0m             \u001b[1;31m# turn me into an ndarray\u001b[0m\u001b[1;33m\u001b[0m\u001b[1;33m\u001b[0m\u001b[1;33m\u001b[0m\u001b[0m\n\u001b[1;32m-> 3636\u001b[1;33m             \u001b[0mvalue\u001b[0m \u001b[1;33m=\u001b[0m \u001b[0msanitize_index\u001b[0m\u001b[1;33m(\u001b[0m\u001b[0mvalue\u001b[0m\u001b[1;33m,\u001b[0m \u001b[0mself\u001b[0m\u001b[1;33m.\u001b[0m\u001b[0mindex\u001b[0m\u001b[1;33m,\u001b[0m \u001b[0mcopy\u001b[0m\u001b[1;33m=\u001b[0m\u001b[1;32mFalse\u001b[0m\u001b[1;33m)\u001b[0m\u001b[1;33m\u001b[0m\u001b[1;33m\u001b[0m\u001b[0m\n\u001b[0m\u001b[0;32m   3637\u001b[0m             \u001b[1;32mif\u001b[0m \u001b[1;32mnot\u001b[0m \u001b[0misinstance\u001b[0m\u001b[1;33m(\u001b[0m\u001b[0mvalue\u001b[0m\u001b[1;33m,\u001b[0m \u001b[1;33m(\u001b[0m\u001b[0mnp\u001b[0m\u001b[1;33m.\u001b[0m\u001b[0mndarray\u001b[0m\u001b[1;33m,\u001b[0m \u001b[0mIndex\u001b[0m\u001b[1;33m)\u001b[0m\u001b[1;33m)\u001b[0m\u001b[1;33m:\u001b[0m\u001b[1;33m\u001b[0m\u001b[1;33m\u001b[0m\u001b[0m\n\u001b[0;32m   3638\u001b[0m                 \u001b[1;32mif\u001b[0m \u001b[0misinstance\u001b[0m\u001b[1;33m(\u001b[0m\u001b[0mvalue\u001b[0m\u001b[1;33m,\u001b[0m \u001b[0mlist\u001b[0m\u001b[1;33m)\u001b[0m \u001b[1;32mand\u001b[0m \u001b[0mlen\u001b[0m\u001b[1;33m(\u001b[0m\u001b[0mvalue\u001b[0m\u001b[1;33m)\u001b[0m \u001b[1;33m>\u001b[0m \u001b[1;36m0\u001b[0m\u001b[1;33m:\u001b[0m\u001b[1;33m\u001b[0m\u001b[1;33m\u001b[0m\u001b[0m\n",
      "\u001b[1;32m~\\anaconda3\\lib\\site-packages\\pandas\\core\\internals\\construction.py\u001b[0m in \u001b[0;36msanitize_index\u001b[1;34m(data, index, copy)\u001b[0m\n\u001b[0;32m    609\u001b[0m \u001b[1;33m\u001b[0m\u001b[0m\n\u001b[0;32m    610\u001b[0m     \u001b[1;32mif\u001b[0m \u001b[0mlen\u001b[0m\u001b[1;33m(\u001b[0m\u001b[0mdata\u001b[0m\u001b[1;33m)\u001b[0m \u001b[1;33m!=\u001b[0m \u001b[0mlen\u001b[0m\u001b[1;33m(\u001b[0m\u001b[0mindex\u001b[0m\u001b[1;33m)\u001b[0m\u001b[1;33m:\u001b[0m\u001b[1;33m\u001b[0m\u001b[1;33m\u001b[0m\u001b[0m\n\u001b[1;32m--> 611\u001b[1;33m         \u001b[1;32mraise\u001b[0m \u001b[0mValueError\u001b[0m\u001b[1;33m(\u001b[0m\u001b[1;34m\"Length of values does not match length of index\"\u001b[0m\u001b[1;33m)\u001b[0m\u001b[1;33m\u001b[0m\u001b[1;33m\u001b[0m\u001b[0m\n\u001b[0m\u001b[0;32m    612\u001b[0m \u001b[1;33m\u001b[0m\u001b[0m\n\u001b[0;32m    613\u001b[0m     \u001b[1;32mif\u001b[0m \u001b[0misinstance\u001b[0m\u001b[1;33m(\u001b[0m\u001b[0mdata\u001b[0m\u001b[1;33m,\u001b[0m \u001b[0mABCIndexClass\u001b[0m\u001b[1;33m)\u001b[0m \u001b[1;32mand\u001b[0m \u001b[1;32mnot\u001b[0m \u001b[0mcopy\u001b[0m\u001b[1;33m:\u001b[0m\u001b[1;33m\u001b[0m\u001b[1;33m\u001b[0m\u001b[0m\n",
      "\u001b[1;31mValueError\u001b[0m: Length of values does not match length of index"
     ]
    }
   ],
   "source": [
    "import pandas as pd\n",
    "laptops=pd.DataFrame({})\n",
    "laptops['title']=laptop_titles[0:10]\n",
    "laptops['ratings']=Ratings[0:10]\n",
    "laptops['Price']=laptop_prices[0:10]"
   ]
  },
  {
   "cell_type": "code",
   "execution_count": null,
   "metadata": {},
   "outputs": [],
   "source": []
  }
 ],
 "metadata": {
  "kernelspec": {
   "display_name": "Python 3",
   "language": "python",
   "name": "python3"
  },
  "language_info": {
   "codemirror_mode": {
    "name": "ipython",
    "version": 3
   },
   "file_extension": ".py",
   "mimetype": "text/x-python",
   "name": "python",
   "nbconvert_exporter": "python",
   "pygments_lexer": "ipython3",
   "version": "3.8.3"
  }
 },
 "nbformat": 4,
 "nbformat_minor": 4
}
