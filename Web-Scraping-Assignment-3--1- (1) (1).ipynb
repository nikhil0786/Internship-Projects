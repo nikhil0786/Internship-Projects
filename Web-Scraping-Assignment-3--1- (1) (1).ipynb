{
 "cells": [
  {
   "cell_type": "code",
   "execution_count": 13,
   "metadata": {},
   "outputs": [],
   "source": [
    "#importing the required libraries\n",
    "import selenium\n",
    "import pandas as pd\n",
    "from selenium import webdriver\n",
    "import time"
   ]
  },
  {
   "cell_type": "code",
   "execution_count": 14,
   "metadata": {},
   "outputs": [],
   "source": [
    "from selenium.common.exceptions import NoSuchElementException"
   ]
  },
  {
   "cell_type": "code",
   "execution_count": 15,
   "metadata": {},
   "outputs": [],
   "source": [
    "#let connect with the driver\n",
    "driver = webdriver.Chrome(r\"C:\\Users\\Nikhil\\Downloads\\chromedriver_win32\\chromedriver.exe\")"
   ]
  },
  {
   "cell_type": "code",
   "execution_count": 4,
   "metadata": {},
   "outputs": [],
   "source": [
    "url=\"https://www.amazon.in/\""
   ]
  },
  {
   "cell_type": "code",
   "execution_count": 6,
   "metadata": {},
   "outputs": [],
   "source": [
    "driver.get(url)"
   ]
  },
  {
   "cell_type": "code",
   "execution_count": 7,
   "metadata": {},
   "outputs": [],
   "source": [
    "search=driver.find_element_by_id(\"twotabsearchtextbox\")\n",
    "search.send_keys(\"guitars\")"
   ]
  },
  {
   "cell_type": "code",
   "execution_count": 8,
   "metadata": {},
   "outputs": [],
   "source": [
    "search_btn=driver.find_element_by_id(\"nav-search-submit-button\")\n",
    "search_btn.click()"
   ]
  },
  {
   "cell_type": "code",
   "execution_count": 9,
   "metadata": {},
   "outputs": [],
   "source": [
    "product_name=[]\n",
    "ratings_number=[]\n",
    "price=[]\n",
    "product_list=[]\n",
    "Ratings=[]"
   ]
  },
  {
   "cell_type": "code",
   "execution_count": 10,
   "metadata": {},
   "outputs": [],
   "source": [
    "UR=[]\n",
    "for i in range(0,2):\n",
    "    urls=driver.find_elements_by_xpath(\"//a[@class='a-link-normal a-text-normal']\")\n",
    "    for i in urls:\n",
    "        UR.append(i.get_attribute('href'))# getting the urls \n",
    "    \n",
    "    time.sleep(3)\n",
    "    \n",
    "    url21=driver.find_element_by_xpath(\"//div[@class='a-text-center']/ul/li[7]/a\").get_attribute(\"href\")\n",
    "    time.sleep(2)\n",
    "    driver.get(url21)    "
   ]
  },
  {
   "cell_type": "code",
   "execution_count": 11,
   "metadata": {},
   "outputs": [],
   "source": [
    "for url in UR: #loop for every laptop in the list\n",
    "        driver.get(url)\n",
    "        try:\n",
    "            rate=driver.find_element_by_xpath(\"//span[@id='acrCustomerReviewText']\")#locating the ratings link\n",
    "            rate.click()\n",
    "            rating=driver.find_element_by_xpath(\"//span[@class='a-size-medium a-color-base']\") # locating the ratings\n",
    "            Ratings.append(rating.text)\n",
    "        \n",
    "        except NoSuchElementException as e:\n",
    "            Ratings.append('No Ratings')"
   ]
  },
  {
   "cell_type": "code",
   "execution_count": 12,
   "metadata": {
    "scrolled": true
   },
   "outputs": [
    {
     "data": {
      "text/plain": [
       "['3.9 out of 5',\n",
       " '4 out of 5',\n",
       " '3.9 out of 5',\n",
       " '3.9 out of 5',\n",
       " '3.9 out of 5',\n",
       " '4 out of 5',\n",
       " '3.8 out of 5',\n",
       " '4.3 out of 5',\n",
       " '4 out of 5',\n",
       " '3.9 out of 5',\n",
       " '3.9 out of 5',\n",
       " '3.6 out of 5',\n",
       " '3.8 out of 5',\n",
       " '3.8 out of 5',\n",
       " '3.9 out of 5',\n",
       " '3.9 out of 5',\n",
       " '4 out of 5',\n",
       " '3.9 out of 5',\n",
       " '4 out of 5',\n",
       " '3.9 out of 5',\n",
       " '4.1 out of 5',\n",
       " '2.7 out of 5',\n",
       " '3.7 out of 5',\n",
       " '3.9 out of 5',\n",
       " 'No Ratings',\n",
       " 'No Ratings',\n",
       " '1 out of 5',\n",
       " '3.3 out of 5',\n",
       " 'No Ratings',\n",
       " '4 out of 5',\n",
       " 'No Ratings',\n",
       " 'No Ratings',\n",
       " 'No Ratings',\n",
       " '2.9 out of 5',\n",
       " 'No Ratings',\n",
       " 'No Ratings',\n",
       " 'No Ratings',\n",
       " 'No Ratings',\n",
       " 'No Ratings',\n",
       " '3 out of 5',\n",
       " '3.8 out of 5',\n",
       " 'No Ratings',\n",
       " '2.9 out of 5',\n",
       " '3.5 out of 5',\n",
       " '3.5 out of 5',\n",
       " 'No Ratings',\n",
       " '3.2 out of 5',\n",
       " '2.3 out of 5',\n",
       " 'No Ratings',\n",
       " '4.1 out of 5',\n",
       " '4 out of 5',\n",
       " '3.5 out of 5',\n",
       " 'No Ratings',\n",
       " '3.9 out of 5',\n",
       " 'No Ratings',\n",
       " '3.1 out of 5',\n",
       " '4.2 out of 5',\n",
       " 'No Ratings',\n",
       " 'No Ratings',\n",
       " 'No Ratings',\n",
       " 'No Ratings',\n",
       " '3.8 out of 5',\n",
       " '5 out of 5',\n",
       " '3.7 out of 5',\n",
       " '5 out of 5',\n",
       " '3.2 out of 5',\n",
       " 'No Ratings',\n",
       " '3.9 out of 5',\n",
       " 'No Ratings',\n",
       " 'No Ratings',\n",
       " 'No Ratings',\n",
       " '4.3 out of 5',\n",
       " '3.5 out of 5',\n",
       " 'No Ratings',\n",
       " 'No Ratings',\n",
       " 'No Ratings',\n",
       " 'No Ratings',\n",
       " '4 out of 5',\n",
       " '4.2 out of 5',\n",
       " 'No Ratings',\n",
       " 'No Ratings',\n",
       " 'No Ratings',\n",
       " 'No Ratings',\n",
       " '5 out of 5',\n",
       " '3.6 out of 5',\n",
       " '2.9 out of 5',\n",
       " '3.5 out of 5',\n",
       " '3.1 out of 5',\n",
       " '3.5 out of 5',\n",
       " '3.9 out of 5',\n",
       " '4.5 out of 5',\n",
       " 'No Ratings',\n",
       " 'No Ratings',\n",
       " '4.5 out of 5',\n",
       " 'No Ratings',\n",
       " 'No Ratings',\n",
       " '4 out of 5',\n",
       " '3.7 out of 5',\n",
       " 'No Ratings',\n",
       " '4.1 out of 5',\n",
       " '5 out of 5']"
      ]
     },
     "execution_count": 12,
     "metadata": {},
     "output_type": "execute_result"
    }
   ],
   "source": [
    "Ratings"
   ]
  },
  {
   "cell_type": "code",
   "execution_count": 13,
   "metadata": {},
   "outputs": [
    {
     "data": {
      "text/plain": [
       "101"
      ]
     },
     "execution_count": 13,
     "metadata": {},
     "output_type": "execute_result"
    }
   ],
   "source": [
    "len(Ratings)"
   ]
  },
  {
   "cell_type": "code",
   "execution_count": 14,
   "metadata": {},
   "outputs": [],
   "source": [
    "for url in UR: #loop for every guitar in the list\n",
    "        driver.get(url)\n",
    "        try:\n",
    "            name=driver.find_element_by_xpath(\"//span[@id='productTitle']\") # locating the name\n",
    "            product_name.append(name.text)\n",
    "        \n",
    "        except NoSuchElementException as e:\n",
    "            product_name.append('No name')"
   ]
  },
  {
   "cell_type": "code",
   "execution_count": 15,
   "metadata": {},
   "outputs": [
    {
     "data": {
      "text/plain": [
       "101"
      ]
     },
     "execution_count": 15,
     "metadata": {},
     "output_type": "execute_result"
    }
   ],
   "source": [
    "len(product_name)"
   ]
  },
  {
   "cell_type": "code",
   "execution_count": 16,
   "metadata": {},
   "outputs": [],
   "source": [
    "for url in UR: #loop for every guitars in the list\n",
    "        driver.get(url)\n",
    "        try:\n",
    "            prices=driver.find_element_by_xpath(\"//span[@id='priceblock_ourprice']\") # locating the prices\n",
    "            price.append(prices.text)\n",
    "        \n",
    "        except NoSuchElementException as e:\n",
    "            price.append('No price')"
   ]
  },
  {
   "cell_type": "code",
   "execution_count": 17,
   "metadata": {},
   "outputs": [
    {
     "data": {
      "text/plain": [
       "101"
      ]
     },
     "execution_count": 17,
     "metadata": {},
     "output_type": "execute_result"
    }
   ],
   "source": [
    "len(price)"
   ]
  },
  {
   "cell_type": "code",
   "execution_count": 18,
   "metadata": {},
   "outputs": [],
   "source": [
    "availabilities=[]"
   ]
  },
  {
   "cell_type": "code",
   "execution_count": 19,
   "metadata": {},
   "outputs": [],
   "source": [
    "for url in UR: #loop for every guitar in the list\n",
    "        driver.get(url)\n",
    "        try:\n",
    "            availability=driver.find_element_by_xpath(\"//div[@id='availability_feature_div']/span[1]\") # locating the availabilities\n",
    "            availabilities.append(availability.text)\n",
    "        \n",
    "        except NoSuchElementException as e:\n",
    "            availabilities.append('No price')"
   ]
  },
  {
   "cell_type": "code",
   "execution_count": 20,
   "metadata": {},
   "outputs": [
    {
     "data": {
      "text/plain": [
       "101"
      ]
     },
     "execution_count": 20,
     "metadata": {},
     "output_type": "execute_result"
    }
   ],
   "source": [
    "len(availabilities)"
   ]
  },
  {
   "cell_type": "code",
   "execution_count": 21,
   "metadata": {},
   "outputs": [],
   "source": [
    "exp_delivery=[]"
   ]
  },
  {
   "cell_type": "code",
   "execution_count": 22,
   "metadata": {},
   "outputs": [],
   "source": [
    "for url in UR: #loop for every guitar in the list\n",
    "        driver.get(url)\n",
    "        try:\n",
    "            delivery=driver.find_element_by_xpath(\"//div[@id='ddmDeliveryMessage']/a[1]\") # locating the expected delivery\n",
    "            exp_delivery.append(delivery.text)\n",
    "        \n",
    "        except NoSuchElementException as e:\n",
    "            exp_delivery.append('--')"
   ]
  },
  {
   "cell_type": "code",
   "execution_count": 23,
   "metadata": {},
   "outputs": [
    {
     "data": {
      "text/plain": [
       "101"
      ]
     },
     "execution_count": 23,
     "metadata": {},
     "output_type": "execute_result"
    }
   ],
   "source": [
    "len(exp_delivery)"
   ]
  },
  {
   "cell_type": "code",
   "execution_count": 24,
   "metadata": {},
   "outputs": [],
   "source": [
    "Return=[]"
   ]
  },
  {
   "cell_type": "code",
   "execution_count": 25,
   "metadata": {},
   "outputs": [],
   "source": [
    "for url in UR: #loop for every guitar in the list\n",
    "        driver.get(url)\n",
    "        try:\n",
    "            exchange=driver.find_element_by_xpath(\"//div[@class='a-section a-spacing-none icon-content']/a[1]\") # locating the expected delivery\n",
    "            Return.append(exchange.text)\n",
    "        \n",
    "        except NoSuchElementException as e:\n",
    "            Return.append('--')"
   ]
  },
  {
   "cell_type": "code",
   "execution_count": 26,
   "metadata": {},
   "outputs": [
    {
     "data": {
      "text/plain": [
       "101"
      ]
     },
     "execution_count": 26,
     "metadata": {},
     "output_type": "execute_result"
    }
   ],
   "source": [
    "len(Return)"
   ]
  },
  {
   "cell_type": "code",
   "execution_count": 27,
   "metadata": {},
   "outputs": [],
   "source": [
    "import pandas as pd\n",
    "guitars=pd.DataFrame({})\n",
    "guitars['product name']=product_name[0:10]\n",
    "guitars['ratings']=Ratings[0:10]\n",
    "guitars['return']=Return[0:10]\n",
    "guitars['exp_delivery']=exp_delivery[0:10]\n",
    "guitars['availability']=availabilities[0:10]\n",
    "guitars['price']=price[0:10]"
   ]
  },
  {
   "cell_type": "code",
   "execution_count": 28,
   "metadata": {},
   "outputs": [
    {
     "data": {
      "text/html": [
       "<div>\n",
       "<style scoped>\n",
       "    .dataframe tbody tr th:only-of-type {\n",
       "        vertical-align: middle;\n",
       "    }\n",
       "\n",
       "    .dataframe tbody tr th {\n",
       "        vertical-align: top;\n",
       "    }\n",
       "\n",
       "    .dataframe thead th {\n",
       "        text-align: right;\n",
       "    }\n",
       "</style>\n",
       "<table border=\"1\" class=\"dataframe\">\n",
       "  <thead>\n",
       "    <tr style=\"text-align: right;\">\n",
       "      <th></th>\n",
       "      <th>product name</th>\n",
       "      <th>ratings</th>\n",
       "      <th>return</th>\n",
       "      <th>exp_delivery</th>\n",
       "      <th>availability</th>\n",
       "      <th>price</th>\n",
       "    </tr>\n",
       "  </thead>\n",
       "  <tbody>\n",
       "    <tr>\n",
       "      <th>0</th>\n",
       "      <td>Juârez Acoustic Guitar, 38 Inch Cutaway, 038C ...</td>\n",
       "      <td>3.9 out of 5</td>\n",
       "      <td>Pay on Delivery</td>\n",
       "      <td>--</td>\n",
       "      <td>No price</td>\n",
       "      <td>₹ 2,499.00</td>\n",
       "    </tr>\n",
       "    <tr>\n",
       "      <th>1</th>\n",
       "      <td>Juarez JRZ38C Acoustic Guitar, 38 Inch Cutaway...</td>\n",
       "      <td>4 out of 5</td>\n",
       "      <td>Pay on Delivery</td>\n",
       "      <td>--</td>\n",
       "      <td>No price</td>\n",
       "      <td>₹ 2,499.00</td>\n",
       "    </tr>\n",
       "    <tr>\n",
       "      <th>2</th>\n",
       "      <td>Intern INT-38C Acoustic Guitar Kit, With Bag, ...</td>\n",
       "      <td>3.9 out of 5</td>\n",
       "      <td>Pay on Delivery</td>\n",
       "      <td>--</td>\n",
       "      <td>No price</td>\n",
       "      <td>₹ 2,490.00</td>\n",
       "    </tr>\n",
       "    <tr>\n",
       "      <th>3</th>\n",
       "      <td>Juârez Acoustic Guitar, 38 Inch Cutaway, 038C ...</td>\n",
       "      <td>3.9 out of 5</td>\n",
       "      <td>Pay on Delivery</td>\n",
       "      <td>--</td>\n",
       "      <td>No price</td>\n",
       "      <td>₹ 2,499.00</td>\n",
       "    </tr>\n",
       "    <tr>\n",
       "      <th>4</th>\n",
       "      <td>Intern INT-38C Acoustic Guitar Kit, With Bag, ...</td>\n",
       "      <td>3.9 out of 5</td>\n",
       "      <td>Pay on Delivery</td>\n",
       "      <td>--</td>\n",
       "      <td>No price</td>\n",
       "      <td>₹ 2,490.00</td>\n",
       "    </tr>\n",
       "    <tr>\n",
       "      <th>5</th>\n",
       "      <td>JUAREZ JRZ38C Right Handed Acoustic Guitar (Su...</td>\n",
       "      <td>4 out of 5</td>\n",
       "      <td>Pay on Delivery</td>\n",
       "      <td>--</td>\n",
       "      <td>No price</td>\n",
       "      <td>₹ 2,499.00</td>\n",
       "    </tr>\n",
       "    <tr>\n",
       "      <th>6</th>\n",
       "      <td>Vault EA40 Premium 41 inch Spruce-Top Cutaway ...</td>\n",
       "      <td>3.8 out of 5</td>\n",
       "      <td>7 Days Replacement</td>\n",
       "      <td>--</td>\n",
       "      <td>No price</td>\n",
       "      <td>₹ 7,149.00</td>\n",
       "    </tr>\n",
       "    <tr>\n",
       "      <th>7</th>\n",
       "      <td>Ibanez MD39C-NT Acoustic Guitar (Natural)</td>\n",
       "      <td>4.3 out of 5</td>\n",
       "      <td>Pay on Delivery</td>\n",
       "      <td>--</td>\n",
       "      <td>No price</td>\n",
       "      <td>₹ 6,947.00</td>\n",
       "    </tr>\n",
       "    <tr>\n",
       "      <th>8</th>\n",
       "      <td>JUAREZ JRZ38C Right Handed Acoustic Guitar (Su...</td>\n",
       "      <td>4 out of 5</td>\n",
       "      <td>Pay on Delivery</td>\n",
       "      <td>--</td>\n",
       "      <td>No price</td>\n",
       "      <td>₹ 2,499.00</td>\n",
       "    </tr>\n",
       "    <tr>\n",
       "      <th>9</th>\n",
       "      <td>JUAREZ JRZ38C Right Handed Acoustic Guitar wit...</td>\n",
       "      <td>3.9 out of 5</td>\n",
       "      <td>Pay on Delivery</td>\n",
       "      <td>--</td>\n",
       "      <td>No price</td>\n",
       "      <td>₹ 2,499.00</td>\n",
       "    </tr>\n",
       "  </tbody>\n",
       "</table>\n",
       "</div>"
      ],
      "text/plain": [
       "                                        product name       ratings  \\\n",
       "0  Juârez Acoustic Guitar, 38 Inch Cutaway, 038C ...  3.9 out of 5   \n",
       "1  Juarez JRZ38C Acoustic Guitar, 38 Inch Cutaway...    4 out of 5   \n",
       "2  Intern INT-38C Acoustic Guitar Kit, With Bag, ...  3.9 out of 5   \n",
       "3  Juârez Acoustic Guitar, 38 Inch Cutaway, 038C ...  3.9 out of 5   \n",
       "4  Intern INT-38C Acoustic Guitar Kit, With Bag, ...  3.9 out of 5   \n",
       "5  JUAREZ JRZ38C Right Handed Acoustic Guitar (Su...    4 out of 5   \n",
       "6  Vault EA40 Premium 41 inch Spruce-Top Cutaway ...  3.8 out of 5   \n",
       "7          Ibanez MD39C-NT Acoustic Guitar (Natural)  4.3 out of 5   \n",
       "8  JUAREZ JRZ38C Right Handed Acoustic Guitar (Su...    4 out of 5   \n",
       "9  JUAREZ JRZ38C Right Handed Acoustic Guitar wit...  3.9 out of 5   \n",
       "\n",
       "               return exp_delivery availability       price  \n",
       "0     Pay on Delivery           --     No price  ₹ 2,499.00  \n",
       "1     Pay on Delivery           --     No price  ₹ 2,499.00  \n",
       "2     Pay on Delivery           --     No price  ₹ 2,490.00  \n",
       "3     Pay on Delivery           --     No price  ₹ 2,499.00  \n",
       "4     Pay on Delivery           --     No price  ₹ 2,490.00  \n",
       "5     Pay on Delivery           --     No price  ₹ 2,499.00  \n",
       "6  7 Days Replacement           --     No price  ₹ 7,149.00  \n",
       "7     Pay on Delivery           --     No price  ₹ 6,947.00  \n",
       "8     Pay on Delivery           --     No price  ₹ 2,499.00  \n",
       "9     Pay on Delivery           --     No price  ₹ 2,499.00  "
      ]
     },
     "execution_count": 28,
     "metadata": {},
     "output_type": "execute_result"
    }
   ],
   "source": [
    "guitars"
   ]
  },
  {
   "cell_type": "markdown",
   "metadata": {},
   "source": [
    "# question 3"
   ]
  },
  {
   "cell_type": "code",
   "execution_count": 4,
   "metadata": {},
   "outputs": [],
   "source": [
    "url1=\"https://images.google.com/?gws_rd=ssl\""
   ]
  },
  {
   "cell_type": "code",
   "execution_count": 5,
   "metadata": {},
   "outputs": [],
   "source": [
    "driver.get(url1)"
   ]
  },
  {
   "cell_type": "code",
   "execution_count": 6,
   "metadata": {},
   "outputs": [],
   "source": [
    "search=driver.find_element_by_xpath(\"//input[@class='gLFyf gsfi']\")\n",
    "search.send_keys(\"fruits\")"
   ]
  },
  {
   "cell_type": "code",
   "execution_count": 7,
   "metadata": {},
   "outputs": [],
   "source": [
    "search_btn=driver.find_element_by_xpath(\"//button[@class='Tg7LZd']\")\n",
    "search_btn.click()"
   ]
  },
  {
   "cell_type": "code",
   "execution_count": 8,
   "metadata": {},
   "outputs": [],
   "source": [
    "imgs=[]"
   ]
  },
  {
   "cell_type": "code",
   "execution_count": 18,
   "metadata": {},
   "outputs": [],
   "source": [
    "\n",
    "try:\n",
    "    \n",
    "        image=driver.find_element_by_xpath(\"//a[@class='wXeWr islib nfEiy mM5pbd']\")\n",
    "        image.click()\n",
    "        img=driver.find_element_by_xpath(\"//a[@class='eHAdSb']/img[1]\") # locating the ratings\n",
    "        imgs.append(i.get_attribute('src'))\n",
    "        \n",
    "except NoSuchElementException as e:\n",
    "        imgs.append('No img')"
   ]
  },
  {
   "cell_type": "code",
   "execution_count": 19,
   "metadata": {},
   "outputs": [
    {
     "data": {
      "text/plain": [
       "[None, 'No img', None, 'No img', None]"
      ]
     },
     "execution_count": 19,
     "metadata": {},
     "output_type": "execute_result"
    }
   ],
   "source": [
    "imgs"
   ]
  },
  {
   "cell_type": "code",
   "execution_count": 21,
   "metadata": {},
   "outputs": [
    {
     "data": {
      "text/plain": [
       "[<selenium.webdriver.remote.webelement.WebElement (session=\"cfea76d607c79d3bd5fc03e161d76ad3\", element=\"29b5ddb6-f5d5-4095-a28a-951561537f7c\")>,\n",
       " <selenium.webdriver.remote.webelement.WebElement (session=\"cfea76d607c79d3bd5fc03e161d76ad3\", element=\"536918a5-12ef-46fc-8187-766dbcf58829\")>]"
      ]
     },
     "execution_count": 21,
     "metadata": {},
     "output_type": "execute_result"
    }
   ],
   "source": [
    "img_tags=driver.find_elements_by_xpath(\"//a[@class='eHAdSb']/img[1]\")\n",
    "img_tags[0:100]"
   ]
  },
  {
   "cell_type": "code",
   "execution_count": null,
   "metadata": {},
   "outputs": [],
   "source": []
  },
  {
   "cell_type": "markdown",
   "metadata": {},
   "source": [
    "# question 4"
   ]
  },
  {
   "cell_type": "code",
   "execution_count": 12,
   "metadata": {},
   "outputs": [],
   "source": [
    "url=\"https://www.flipkart.com/\""
   ]
  },
  {
   "cell_type": "code",
   "execution_count": 15,
   "metadata": {},
   "outputs": [],
   "source": [
    "driver.get(url)"
   ]
  },
  {
   "cell_type": "code",
   "execution_count": 19,
   "metadata": {},
   "outputs": [],
   "source": [
    "search=driver.find_element_by_xpath(\"//div[@class='_3OO5Xc']/input\")\n",
    "search.send_keys(\"iphone 11\")"
   ]
  },
  {
   "cell_type": "code",
   "execution_count": 20,
   "metadata": {},
   "outputs": [],
   "source": [
    "search_btn=driver.find_element_by_xpath(\"//button[@class='L0Z3Pu']\")\n",
    "search_btn.click()"
   ]
  },
  {
   "cell_type": "code",
   "execution_count": 21,
   "metadata": {},
   "outputs": [],
   "source": [
    "brand=[]\n",
    "highlights=[]\n",
    "price=[]\n",
    "color=[]"
   ]
  },
  {
   "cell_type": "code",
   "execution_count": 25,
   "metadata": {},
   "outputs": [],
   "source": [
    "UR=[]\n",
    "for i in range(0,1):\n",
    "    urls=driver.find_elements_by_xpath(\"//a[@class='_1fQZEK']\")\n",
    "    for i in urls:\n",
    "        UR.append(i.get_attribute('href'))# getting the urls \n",
    "    \n"
   ]
  },
  {
   "cell_type": "code",
   "execution_count": 26,
   "metadata": {},
   "outputs": [],
   "source": [
    "for url in UR: #loop for every laptop in the list\n",
    "        driver.get(url)\n",
    "        try:\n",
    "            name=driver.find_element_by_xpath(\"//h1[@class='yhB1nd']/span[1]\") # locating the ratings\n",
    "            brand.append(name.text)\n",
    "        \n",
    "        except NoSuchElementException as e:\n",
    "            brand.append('No name')"
   ]
  },
  {
   "cell_type": "code",
   "execution_count": 27,
   "metadata": {},
   "outputs": [
    {
     "data": {
      "text/plain": [
       "['APPLE iPhone 11 (Black, 64 GB)',\n",
       " 'APPLE iPhone 11 (White, 64 GB)',\n",
       " 'APPLE iPhone 11 (Purple, 64 GB)',\n",
       " 'APPLE iPhone 11 (Red, 64 GB)',\n",
       " 'APPLE iPhone 11 (Black, 128 GB)',\n",
       " 'APPLE iPhone 11 (Green, 64 GB)',\n",
       " 'APPLE iPhone 11 (Red, 128 GB)',\n",
       " 'Apple iPhone 11 (Black, 64 GB) (Includes EarPods, Power Adapter)',\n",
       " 'APPLE iPhone 11 (White, 128 GB)',\n",
       " 'APPLE iPhone 11 (Yellow, 64 GB)',\n",
       " 'Apple iPhone 11 (White, 64 GB) (Includes EarPods, Power Adapter)',\n",
       " 'Apple iPhone 11 (Purple, 64 GB) (Includes EarPods, Power Adapter)',\n",
       " 'Apple iPhone 11 (Purple, 128 GB) (Includes EarPods, Power Adapter)',\n",
       " 'APPLE iPhone 11 (Green, 128 GB)',\n",
       " 'APPLE iPhone 11 (Yellow, 128 GB)',\n",
       " 'APPLE iPhone 11 (Purple, 128 GB)',\n",
       " 'Apple iPhone 11 (Red, 64 GB) (Includes EarPods, Power Adapter)',\n",
       " 'Apple iPhone 11 (White, 128 GB) (Includes EarPods, Power Adapter)',\n",
       " 'Apple iPhone 11 (Yellow, 128 GB) (Includes EarPods, Power Adapter)',\n",
       " 'Apple iPhone 11 (Black, 128 GB) (Includes EarPods, Power Adapter)',\n",
       " 'Apple iPhone 11 (Green, 64 GB) (Includes EarPods, Power Adapter)',\n",
       " 'Apple iPhone 11 (Black, 256 GB) (Includes EarPods, Power Adapter)',\n",
       " 'Apple iPhone 11 (Yellow, 64 GB) (Includes EarPods, Power Adapter)',\n",
       " 'Apple iPhone 11 (Green, 256 GB) (Includes EarPods, Power Adapter)']"
      ]
     },
     "execution_count": 27,
     "metadata": {},
     "output_type": "execute_result"
    }
   ],
   "source": [
    "brand"
   ]
  },
  {
   "cell_type": "code",
   "execution_count": 28,
   "metadata": {},
   "outputs": [
    {
     "data": {
      "text/plain": [
       "24"
      ]
     },
     "execution_count": 28,
     "metadata": {},
     "output_type": "execute_result"
    }
   ],
   "source": [
    "len(brand)"
   ]
  },
  {
   "cell_type": "code",
   "execution_count": 29,
   "metadata": {},
   "outputs": [],
   "source": [
    "for url in UR: #loop for every laptop in the list\n",
    "        driver.get(url)\n",
    "        try:\n",
    "            prices=driver.find_element_by_xpath(\"//div[@class='_25b18c']/div[1]\") # locating the ratings\n",
    "            price.append(prices.text)\n",
    "        \n",
    "        except NoSuchElementException as e:\n",
    "            price.append('No price')"
   ]
  },
  {
   "cell_type": "code",
   "execution_count": 30,
   "metadata": {},
   "outputs": [
    {
     "data": {
      "text/plain": [
       "['₹46,999',\n",
       " '₹51,999',\n",
       " '₹51,999',\n",
       " '₹46,999',\n",
       " '₹56,999',\n",
       " '₹51,999',\n",
       " '₹56,999',\n",
       " '₹46,999',\n",
       " '₹56,999',\n",
       " '₹51,999',\n",
       " '₹51,999',\n",
       " '₹51,999',\n",
       " '₹56,999',\n",
       " '₹56,999',\n",
       " '₹56,999',\n",
       " '₹56,999',\n",
       " '₹46,999',\n",
       " '₹56,999',\n",
       " '₹56,999',\n",
       " '₹56,999',\n",
       " '₹51,999',\n",
       " '₹66,999',\n",
       " '₹51,999',\n",
       " '₹66,999']"
      ]
     },
     "execution_count": 30,
     "metadata": {},
     "output_type": "execute_result"
    }
   ],
   "source": [
    "price"
   ]
  },
  {
   "cell_type": "code",
   "execution_count": 31,
   "metadata": {},
   "outputs": [
    {
     "data": {
      "text/plain": [
       "24"
      ]
     },
     "execution_count": 31,
     "metadata": {},
     "output_type": "execute_result"
    }
   ],
   "source": [
    "len(price)"
   ]
  },
  {
   "cell_type": "code",
   "execution_count": 32,
   "metadata": {},
   "outputs": [],
   "source": [
    "for url in UR: #loop for every laptop in the list\n",
    "        driver.get(url)\n",
    "        try:\n",
    "            highlight=driver.find_element_by_xpath(\"//div[@class='_1AtVbE col-6-12']/div[1]\") # locating the ratings\n",
    "            highlights.append(highlight.text)\n",
    "        \n",
    "        except NoSuchElementException as e:\n",
    "            highlights.append('No highlights')"
   ]
  },
  {
   "cell_type": "code",
   "execution_count": 33,
   "metadata": {},
   "outputs": [
    {
     "data": {
      "text/plain": [
       "['Highlights\\n64 GB ROM\\n15.49 cm (6.1 inch) Liquid Retina HD Display\\n12MP + 12MP | 12MP Front Camera\\nA13 Bionic Chip Processor',\n",
       " 'Highlights\\n64 GB ROM\\n15.49 cm (6.1 inch) Liquid Retina HD Display\\n12MP + 12MP | 12MP Front Camera\\nA13 Bionic Chip Processor',\n",
       " 'Highlights\\n64 GB ROM\\n15.49 cm (6.1 inch) Liquid Retina HD Display\\n12MP + 12MP | 12MP Front Camera\\nA13 Bionic Chip Processor',\n",
       " 'Highlights\\n64 GB ROM\\n15.49 cm (6.1 inch) Liquid Retina HD Display\\n12MP + 12MP | 12MP Front Camera\\nA13 Bionic Chip Processor',\n",
       " 'Highlights\\n128 GB ROM\\n15.49 cm (6.1 inch) Liquid Retina HD Display\\n12MP + 12MP | 12MP Front Camera\\nA13 Bionic Chip Processor',\n",
       " 'Highlights\\n64 GB ROM\\n15.49 cm (6.1 inch) Liquid Retina HD Display\\n12MP + 12MP | 12MP Front Camera\\nA13 Bionic Chip Processor',\n",
       " 'Highlights\\n128 GB ROM\\n15.49 cm (6.1 inch) Liquid Retina HD Display\\n12MP + 12MP | 12MP Front Camera\\nA13 Bionic Chip Processor',\n",
       " 'Highlights\\n64 GB ROM\\n15.49 cm (6.1 inch) Liquid Retina HD Display\\n12MP + 12MP | 12MP Front Camera\\nA13 Bionic Chip Processor',\n",
       " 'Highlights\\n128 GB ROM\\n15.49 cm (6.1 inch) Liquid Retina HD Display\\n12MP + 12MP | 12MP Front Camera\\nA13 Bionic Chip Processor',\n",
       " 'Highlights\\n64 GB ROM\\n15.49 cm (6.1 inch) Liquid Retina HD Display\\n12MP + 12MP | 12MP Front Camera\\nA13 Bionic Chip Processor',\n",
       " 'Highlights\\n64 GB ROM\\n15.49 cm (6.1 inch) Liquid Retina HD Display\\n12MP + 12MP | 12MP Front Camera\\nA13 Bionic Chip Processor',\n",
       " 'Highlights\\n64 GB ROM\\n15.49 cm (6.1 inch) Liquid Retina HD Display\\n12MP + 12MP | 12MP Front Camera\\nA13 Bionic Chip Processor',\n",
       " 'Highlights\\n128 GB ROM\\n15.49 cm (6.1 inch) Liquid Retina HD Display\\n12MP + 12MP | 12MP Front Camera\\nA13 Bionic Chip Processor',\n",
       " 'Highlights\\n128 GB ROM\\n15.49 cm (6.1 inch) Liquid Retina HD Display\\n12MP + 12MP | 12MP Front Camera\\nA13 Bionic Chip Processor',\n",
       " 'Highlights\\n128 GB ROM\\n15.49 cm (6.1 inch) Liquid Retina HD Display\\n12MP + 12MP | 12MP Front Camera\\nA13 Bionic Chip Processor',\n",
       " 'Highlights\\n128 GB ROM\\n15.49 cm (6.1 inch) Liquid Retina HD Display\\n12MP + 12MP | 12MP Front Camera\\nA13 Bionic Chip Processor',\n",
       " 'Highlights\\n64 GB ROM\\n15.49 cm (6.1 inch) Liquid Retina HD Display\\n12MP + 12MP | 12MP Front Camera\\nA13 Bionic Chip Processor',\n",
       " 'Highlights\\n128 GB ROM\\n15.49 cm (6.1 inch) Liquid Retina HD Display\\n12MP + 12MP | 12MP Front Camera\\nA13 Bionic Chip Processor',\n",
       " 'Highlights\\n128 GB ROM\\n15.49 cm (6.1 inch) Liquid Retina HD Display\\n12MP + 12MP | 12MP Front Camera\\nA13 Bionic Chip Processor',\n",
       " 'Highlights\\n128 GB ROM\\n15.49 cm (6.1 inch) Liquid Retina HD Display\\n12MP + 12MP | 12MP Front Camera\\nA13 Bionic Chip Processor',\n",
       " 'Highlights\\n64 GB ROM\\n15.49 cm (6.1 inch) Liquid Retina HD Display\\n12MP + 12MP | 12MP Front Camera\\nA13 Bionic Chip Processor',\n",
       " 'Highlights\\n256 GB ROM\\n15.49 cm (6.1 inch) Liquid Retina HD Display\\n12MP + 12MP | 12MP Front Camera\\nA13 Bionic Chip Processor',\n",
       " 'Highlights\\n64 GB ROM\\n15.49 cm (6.1 inch) Liquid Retina HD Display\\n12MP + 12MP | 12MP Front Camera\\nA13 Bionic Chip Processor',\n",
       " 'Highlights\\n256 GB ROM\\n15.49 cm (6.1 inch) Liquid Retina HD Display\\n12MP + 12MP | 12MP Front Camera\\nA13 Bionic Chip Processor']"
      ]
     },
     "execution_count": 33,
     "metadata": {},
     "output_type": "execute_result"
    }
   ],
   "source": [
    "highlights"
   ]
  },
  {
   "cell_type": "code",
   "execution_count": 34,
   "metadata": {},
   "outputs": [
    {
     "data": {
      "text/plain": [
       "24"
      ]
     },
     "execution_count": 34,
     "metadata": {},
     "output_type": "execute_result"
    }
   ],
   "source": [
    "len(highlights)"
   ]
  },
  {
   "cell_type": "code",
   "execution_count": 48,
   "metadata": {},
   "outputs": [],
   "source": [
    "colurs=[]"
   ]
  },
  {
   "cell_type": "code",
   "execution_count": 49,
   "metadata": {},
   "outputs": [],
   "source": [
    "for url in UR: #loop for every laptop in the list\n",
    "        driver.get(url)\n",
    "        try:\n",
    "            colur=driver.find_element_by_xpath(\"//table[@class='_14cfVK']/tbody[1]/tr[4]/td[2]/ul[1]/li[1]\") # locating the ratings\n",
    "            colurs.append(colur.text)\n",
    "        \n",
    "        except NoSuchElementException as e:\n",
    "            colurs.append('No color')"
   ]
  },
  {
   "cell_type": "code",
   "execution_count": 51,
   "metadata": {},
   "outputs": [
    {
     "data": {
      "text/plain": [
       "['Black',\n",
       " 'White',\n",
       " 'Purple',\n",
       " 'Red',\n",
       " 'Black',\n",
       " 'Green',\n",
       " 'Red',\n",
       " 'Black',\n",
       " 'White',\n",
       " 'Yellow',\n",
       " 'White',\n",
       " 'Purple',\n",
       " 'Purple',\n",
       " 'Green',\n",
       " 'Yellow',\n",
       " 'Purple',\n",
       " 'Red',\n",
       " 'White',\n",
       " 'Yellow',\n",
       " 'Black',\n",
       " 'Green',\n",
       " 'Black',\n",
       " 'Yellow',\n",
       " 'Green']"
      ]
     },
     "execution_count": 51,
     "metadata": {},
     "output_type": "execute_result"
    }
   ],
   "source": [
    "colurs"
   ]
  },
  {
   "cell_type": "code",
   "execution_count": 52,
   "metadata": {},
   "outputs": [
    {
     "data": {
      "text/plain": [
       "24"
      ]
     },
     "execution_count": 52,
     "metadata": {},
     "output_type": "execute_result"
    }
   ],
   "source": [
    "len(colurs)"
   ]
  },
  {
   "cell_type": "code",
   "execution_count": 60,
   "metadata": {},
   "outputs": [],
   "source": [
    "import pandas as pd\n",
    "smartphone=pd.DataFrame({})\n",
    "smartphone['brand name']=brand[0:10]\n",
    "smartphone['price']=price[0:10]\n",
    "smartphone['colors']=colurs[0:10]\n",
    "smartphone['highlights']=highlights[0:10]"
   ]
  },
  {
   "cell_type": "code",
   "execution_count": 61,
   "metadata": {},
   "outputs": [
    {
     "data": {
      "text/html": [
       "<div>\n",
       "<style scoped>\n",
       "    .dataframe tbody tr th:only-of-type {\n",
       "        vertical-align: middle;\n",
       "    }\n",
       "\n",
       "    .dataframe tbody tr th {\n",
       "        vertical-align: top;\n",
       "    }\n",
       "\n",
       "    .dataframe thead th {\n",
       "        text-align: right;\n",
       "    }\n",
       "</style>\n",
       "<table border=\"1\" class=\"dataframe\">\n",
       "  <thead>\n",
       "    <tr style=\"text-align: right;\">\n",
       "      <th></th>\n",
       "      <th>brand name</th>\n",
       "      <th>price</th>\n",
       "      <th>colors</th>\n",
       "      <th>highlights</th>\n",
       "    </tr>\n",
       "  </thead>\n",
       "  <tbody>\n",
       "    <tr>\n",
       "      <th>0</th>\n",
       "      <td>APPLE iPhone 11 (Black, 64 GB)</td>\n",
       "      <td>₹46,999</td>\n",
       "      <td>Black</td>\n",
       "      <td>Highlights\\n64 GB ROM\\n15.49 cm (6.1 inch) Liq...</td>\n",
       "    </tr>\n",
       "    <tr>\n",
       "      <th>1</th>\n",
       "      <td>APPLE iPhone 11 (White, 64 GB)</td>\n",
       "      <td>₹51,999</td>\n",
       "      <td>White</td>\n",
       "      <td>Highlights\\n64 GB ROM\\n15.49 cm (6.1 inch) Liq...</td>\n",
       "    </tr>\n",
       "    <tr>\n",
       "      <th>2</th>\n",
       "      <td>APPLE iPhone 11 (Purple, 64 GB)</td>\n",
       "      <td>₹51,999</td>\n",
       "      <td>Purple</td>\n",
       "      <td>Highlights\\n64 GB ROM\\n15.49 cm (6.1 inch) Liq...</td>\n",
       "    </tr>\n",
       "    <tr>\n",
       "      <th>3</th>\n",
       "      <td>APPLE iPhone 11 (Red, 64 GB)</td>\n",
       "      <td>₹46,999</td>\n",
       "      <td>Red</td>\n",
       "      <td>Highlights\\n64 GB ROM\\n15.49 cm (6.1 inch) Liq...</td>\n",
       "    </tr>\n",
       "    <tr>\n",
       "      <th>4</th>\n",
       "      <td>APPLE iPhone 11 (Black, 128 GB)</td>\n",
       "      <td>₹56,999</td>\n",
       "      <td>Black</td>\n",
       "      <td>Highlights\\n128 GB ROM\\n15.49 cm (6.1 inch) Li...</td>\n",
       "    </tr>\n",
       "    <tr>\n",
       "      <th>5</th>\n",
       "      <td>APPLE iPhone 11 (Green, 64 GB)</td>\n",
       "      <td>₹51,999</td>\n",
       "      <td>Green</td>\n",
       "      <td>Highlights\\n64 GB ROM\\n15.49 cm (6.1 inch) Liq...</td>\n",
       "    </tr>\n",
       "    <tr>\n",
       "      <th>6</th>\n",
       "      <td>APPLE iPhone 11 (Red, 128 GB)</td>\n",
       "      <td>₹56,999</td>\n",
       "      <td>Red</td>\n",
       "      <td>Highlights\\n128 GB ROM\\n15.49 cm (6.1 inch) Li...</td>\n",
       "    </tr>\n",
       "    <tr>\n",
       "      <th>7</th>\n",
       "      <td>Apple iPhone 11 (Black, 64 GB) (Includes EarPo...</td>\n",
       "      <td>₹46,999</td>\n",
       "      <td>Black</td>\n",
       "      <td>Highlights\\n64 GB ROM\\n15.49 cm (6.1 inch) Liq...</td>\n",
       "    </tr>\n",
       "    <tr>\n",
       "      <th>8</th>\n",
       "      <td>APPLE iPhone 11 (White, 128 GB)</td>\n",
       "      <td>₹56,999</td>\n",
       "      <td>White</td>\n",
       "      <td>Highlights\\n128 GB ROM\\n15.49 cm (6.1 inch) Li...</td>\n",
       "    </tr>\n",
       "    <tr>\n",
       "      <th>9</th>\n",
       "      <td>APPLE iPhone 11 (Yellow, 64 GB)</td>\n",
       "      <td>₹51,999</td>\n",
       "      <td>Yellow</td>\n",
       "      <td>Highlights\\n64 GB ROM\\n15.49 cm (6.1 inch) Liq...</td>\n",
       "    </tr>\n",
       "  </tbody>\n",
       "</table>\n",
       "</div>"
      ],
      "text/plain": [
       "                                          brand name    price  colors  \\\n",
       "0                     APPLE iPhone 11 (Black, 64 GB)  ₹46,999   Black   \n",
       "1                     APPLE iPhone 11 (White, 64 GB)  ₹51,999   White   \n",
       "2                    APPLE iPhone 11 (Purple, 64 GB)  ₹51,999  Purple   \n",
       "3                       APPLE iPhone 11 (Red, 64 GB)  ₹46,999     Red   \n",
       "4                    APPLE iPhone 11 (Black, 128 GB)  ₹56,999   Black   \n",
       "5                     APPLE iPhone 11 (Green, 64 GB)  ₹51,999   Green   \n",
       "6                      APPLE iPhone 11 (Red, 128 GB)  ₹56,999     Red   \n",
       "7  Apple iPhone 11 (Black, 64 GB) (Includes EarPo...  ₹46,999   Black   \n",
       "8                    APPLE iPhone 11 (White, 128 GB)  ₹56,999   White   \n",
       "9                    APPLE iPhone 11 (Yellow, 64 GB)  ₹51,999  Yellow   \n",
       "\n",
       "                                          highlights  \n",
       "0  Highlights\\n64 GB ROM\\n15.49 cm (6.1 inch) Liq...  \n",
       "1  Highlights\\n64 GB ROM\\n15.49 cm (6.1 inch) Liq...  \n",
       "2  Highlights\\n64 GB ROM\\n15.49 cm (6.1 inch) Liq...  \n",
       "3  Highlights\\n64 GB ROM\\n15.49 cm (6.1 inch) Liq...  \n",
       "4  Highlights\\n128 GB ROM\\n15.49 cm (6.1 inch) Li...  \n",
       "5  Highlights\\n64 GB ROM\\n15.49 cm (6.1 inch) Liq...  \n",
       "6  Highlights\\n128 GB ROM\\n15.49 cm (6.1 inch) Li...  \n",
       "7  Highlights\\n64 GB ROM\\n15.49 cm (6.1 inch) Liq...  \n",
       "8  Highlights\\n128 GB ROM\\n15.49 cm (6.1 inch) Li...  \n",
       "9  Highlights\\n64 GB ROM\\n15.49 cm (6.1 inch) Liq...  "
      ]
     },
     "execution_count": 61,
     "metadata": {},
     "output_type": "execute_result"
    }
   ],
   "source": [
    "smartphone"
   ]
  },
  {
   "cell_type": "markdown",
   "metadata": {},
   "source": [
    "# question 5"
   ]
  },
  {
   "cell_type": "code",
   "execution_count": 4,
   "metadata": {},
   "outputs": [],
   "source": [
    "url=\"https://www.google.com/maps/@28.5758384,77.320955,15z\""
   ]
  },
  {
   "cell_type": "code",
   "execution_count": 5,
   "metadata": {},
   "outputs": [],
   "source": [
    "driver.get(url)"
   ]
  },
  {
   "cell_type": "code",
   "execution_count": 67,
   "metadata": {},
   "outputs": [],
   "source": [
    "search=driver.find_element_by_id(\"searchboxinput\")\n",
    "search.send_keys(\"Noida\")"
   ]
  },
  {
   "cell_type": "code",
   "execution_count": 69,
   "metadata": {},
   "outputs": [],
   "source": [
    "search_btn=driver.find_element_by_xpath(\"//button[@class='searchbox-searchbutton']\")\n",
    "search_btn.click()"
   ]
  },
  {
   "cell_type": "code",
   "execution_count": 72,
   "metadata": {},
   "outputs": [],
   "source": [
    "city_coordinates=[]"
   ]
  },
  {
   "cell_type": "code",
   "execution_count": 70,
   "metadata": {},
   "outputs": [
    {
     "data": {
      "text/plain": [
       "[<selenium.webdriver.remote.webelement.WebElement (session=\"a33c5cc99ee95f10f5deffa0f096fc7c\", element=\"859f367c-16b1-4c74-9177-3a39230531a7\")>,\n",
       " <selenium.webdriver.remote.webelement.WebElement (session=\"a33c5cc99ee95f10f5deffa0f096fc7c\", element=\"6ce647ed-bf42-4d67-bdce-80da9393b8b8\")>,\n",
       " <selenium.webdriver.remote.webelement.WebElement (session=\"a33c5cc99ee95f10f5deffa0f096fc7c\", element=\"69a87e56-80d0-417a-a26d-3380c2e58971\")>,\n",
       " <selenium.webdriver.remote.webelement.WebElement (session=\"a33c5cc99ee95f10f5deffa0f096fc7c\", element=\"0b89cddf-21bb-458f-a857-a14094ccfc24\")>,\n",
       " <selenium.webdriver.remote.webelement.WebElement (session=\"a33c5cc99ee95f10f5deffa0f096fc7c\", element=\"f1f85ca0-f8bd-4ce6-a606-8dd97106b6a0\")>,\n",
       " <selenium.webdriver.remote.webelement.WebElement (session=\"a33c5cc99ee95f10f5deffa0f096fc7c\", element=\"9f0055cb-9594-4d87-81b1-c9ec6cb43cf6\")>,\n",
       " <selenium.webdriver.remote.webelement.WebElement (session=\"a33c5cc99ee95f10f5deffa0f096fc7c\", element=\"fef4de70-459e-42af-9a7c-71f52da7a9a2\")>,\n",
       " <selenium.webdriver.remote.webelement.WebElement (session=\"a33c5cc99ee95f10f5deffa0f096fc7c\", element=\"a13847d1-2c32-462b-bb25-47b08c26b9fe\")>,\n",
       " <selenium.webdriver.remote.webelement.WebElement (session=\"a33c5cc99ee95f10f5deffa0f096fc7c\", element=\"d0ad17a3-b6c3-41b7-9ea7-4fd4ca3fc49c\")>,\n",
       " <selenium.webdriver.remote.webelement.WebElement (session=\"a33c5cc99ee95f10f5deffa0f096fc7c\", element=\"0b94a3e7-c038-483f-a1f0-f40efa2740c4\")>]"
      ]
     },
     "execution_count": 70,
     "metadata": {},
     "output_type": "execute_result"
    }
   ],
   "source": [
    "city_tags=driver.find_elements_by_xpath(\"//div[@class='action-menu-entry-text-container']/div[1]\")\n",
    "city_tags"
   ]
  },
  {
   "cell_type": "code",
   "execution_count": 73,
   "metadata": {},
   "outputs": [
    {
     "data": {
      "text/plain": [
       "['28.54149, 77.34594',\n",
       " 'Directions from here',\n",
       " 'Directions to here',\n",
       " \"What's here?\",\n",
       " 'Search nearby',\n",
       " 'Print',\n",
       " 'Add a missing place',\n",
       " 'Add your business',\n",
       " 'Report a data problem',\n",
       " 'Measure distance']"
      ]
     },
     "execution_count": 73,
     "metadata": {},
     "output_type": "execute_result"
    }
   ],
   "source": [
    "for i in city_tags:\n",
    "    city_coordinate=i.text\n",
    "    city_coordinates.append(city_coordinate)\n",
    "city_coordinates"
   ]
  },
  {
   "cell_type": "markdown",
   "metadata": {},
   "source": [
    "# question 6"
   ]
  },
  {
   "cell_type": "code",
   "execution_count": 4,
   "metadata": {},
   "outputs": [],
   "source": [
    "driver.get(\"https://trak.in/india-startup-funding-investment-2015/\")"
   ]
  },
  {
   "cell_type": "code",
   "execution_count": 5,
   "metadata": {},
   "outputs": [],
   "source": [
    "sr_no=[]\n",
    "date=[]\n",
    "startup_name=[]\n",
    "industry=[]\n",
    "sub_vertical=[]\n",
    "location=[]\n",
    "investors=[]\n",
    "investment_type=[]\n",
    "amount=[]"
   ]
  },
  {
   "cell_type": "code",
   "execution_count": 6,
   "metadata": {},
   "outputs": [
    {
     "data": {
      "text/plain": [
       "[<selenium.webdriver.remote.webelement.WebElement (session=\"841b62ebdba566518447a0763e1c436a\", element=\"8765f368-2521-46a9-94b1-3edf3f27a9c4\")>,\n",
       " <selenium.webdriver.remote.webelement.WebElement (session=\"841b62ebdba566518447a0763e1c436a\", element=\"299f06c0-dd33-4d33-bf8a-3853cceed083\")>,\n",
       " <selenium.webdriver.remote.webelement.WebElement (session=\"841b62ebdba566518447a0763e1c436a\", element=\"f9e2a3ba-95e5-4e89-a8c6-9288218d4f89\")>,\n",
       " <selenium.webdriver.remote.webelement.WebElement (session=\"841b62ebdba566518447a0763e1c436a\", element=\"836dfbba-e0c5-4b39-b40c-e8d71a4bc36c\")>,\n",
       " <selenium.webdriver.remote.webelement.WebElement (session=\"841b62ebdba566518447a0763e1c436a\", element=\"e8380ac6-258e-4eba-800a-ba99ca789efb\")>,\n",
       " <selenium.webdriver.remote.webelement.WebElement (session=\"841b62ebdba566518447a0763e1c436a\", element=\"9d678aea-eabb-4c0f-9aa9-373c49625d5d\")>,\n",
       " <selenium.webdriver.remote.webelement.WebElement (session=\"841b62ebdba566518447a0763e1c436a\", element=\"54d4776d-c911-4616-8f64-e9cce5feb8cc\")>,\n",
       " <selenium.webdriver.remote.webelement.WebElement (session=\"841b62ebdba566518447a0763e1c436a\", element=\"463160f3-3059-44a5-9321-4243eb762178\")>,\n",
       " <selenium.webdriver.remote.webelement.WebElement (session=\"841b62ebdba566518447a0763e1c436a\", element=\"67b6b4a0-b37a-4e7e-a19b-d12252d046ef\")>,\n",
       " <selenium.webdriver.remote.webelement.WebElement (session=\"841b62ebdba566518447a0763e1c436a\", element=\"268d0884-7f7f-47bc-b056-ff05400aa3df\")>]"
      ]
     },
     "execution_count": 6,
     "metadata": {},
     "output_type": "execute_result"
    }
   ],
   "source": [
    "sr_no_tags=driver.find_elements_by_xpath(\"//table[@id='tablepress-48']/tbody[1]/tr/td[1]\")\n",
    "sr_no_tags"
   ]
  },
  {
   "cell_type": "code",
   "execution_count": 7,
   "metadata": {},
   "outputs": [
    {
     "data": {
      "text/plain": [
       "['1', '2', '3', '4', '5', '6', '7', '8', '9', '10']"
      ]
     },
     "execution_count": 7,
     "metadata": {},
     "output_type": "execute_result"
    }
   ],
   "source": [
    "for i in sr_no_tags:\n",
    "    sr_nos=i.text\n",
    "    sr_no.append(sr_nos)\n",
    "sr_no"
   ]
  },
  {
   "cell_type": "code",
   "execution_count": 8,
   "metadata": {},
   "outputs": [
    {
     "data": {
      "text/plain": [
       "[<selenium.webdriver.remote.webelement.WebElement (session=\"841b62ebdba566518447a0763e1c436a\", element=\"ac8ca4c1-7a8b-4aa4-8c60-8fb026c3ebce\")>,\n",
       " <selenium.webdriver.remote.webelement.WebElement (session=\"841b62ebdba566518447a0763e1c436a\", element=\"27f03aa9-f7aa-4202-bb5b-492d2b135c91\")>,\n",
       " <selenium.webdriver.remote.webelement.WebElement (session=\"841b62ebdba566518447a0763e1c436a\", element=\"723fb8b4-f3f3-4396-b611-32facb467ab4\")>,\n",
       " <selenium.webdriver.remote.webelement.WebElement (session=\"841b62ebdba566518447a0763e1c436a\", element=\"02c3fa50-ad69-4cd2-903e-7016e9bc8735\")>,\n",
       " <selenium.webdriver.remote.webelement.WebElement (session=\"841b62ebdba566518447a0763e1c436a\", element=\"a05a2a4e-fe33-41c6-9757-2ba6771deb6c\")>,\n",
       " <selenium.webdriver.remote.webelement.WebElement (session=\"841b62ebdba566518447a0763e1c436a\", element=\"bbf8ad3e-f71a-4c0d-921b-875dac4516c8\")>,\n",
       " <selenium.webdriver.remote.webelement.WebElement (session=\"841b62ebdba566518447a0763e1c436a\", element=\"c991b6d2-a311-41cc-98ce-34f21b0b8ba3\")>,\n",
       " <selenium.webdriver.remote.webelement.WebElement (session=\"841b62ebdba566518447a0763e1c436a\", element=\"e8e15806-b37e-49cf-8c39-1973d496144a\")>,\n",
       " <selenium.webdriver.remote.webelement.WebElement (session=\"841b62ebdba566518447a0763e1c436a\", element=\"1ba6c1e2-bf06-4792-b72f-d939e82d149a\")>,\n",
       " <selenium.webdriver.remote.webelement.WebElement (session=\"841b62ebdba566518447a0763e1c436a\", element=\"a064db5d-c307-4f90-be1a-5e8b6512131d\")>]"
      ]
     },
     "execution_count": 8,
     "metadata": {},
     "output_type": "execute_result"
    }
   ],
   "source": [
    "date_tags=driver.find_elements_by_xpath(\"//table[@id='tablepress-48']/tbody[1]/tr/td[2]\")\n",
    "date_tags"
   ]
  },
  {
   "cell_type": "code",
   "execution_count": 9,
   "metadata": {},
   "outputs": [
    {
     "data": {
      "text/plain": [
       "['15/07/2020',\n",
       " '16/07/2020',\n",
       " '16/07/2020',\n",
       " '14/07/2020',\n",
       " '13/07/2020',\n",
       " '09/07/2020',\n",
       " '10/07/2020',\n",
       " '15/07/2020',\n",
       " '14/07/2020',\n",
       " '13/07/2020']"
      ]
     },
     "execution_count": 9,
     "metadata": {},
     "output_type": "execute_result"
    }
   ],
   "source": [
    "for i in date_tags:\n",
    "    dates=i.text\n",
    "    date.append(dates)\n",
    "date"
   ]
  },
  {
   "cell_type": "code",
   "execution_count": 10,
   "metadata": {},
   "outputs": [
    {
     "data": {
      "text/plain": [
       "[<selenium.webdriver.remote.webelement.WebElement (session=\"841b62ebdba566518447a0763e1c436a\", element=\"9f86cfa5-2f52-47d7-90be-50fba44abb82\")>,\n",
       " <selenium.webdriver.remote.webelement.WebElement (session=\"841b62ebdba566518447a0763e1c436a\", element=\"5e3eb599-ddde-4d41-93fb-b9e291bd1280\")>,\n",
       " <selenium.webdriver.remote.webelement.WebElement (session=\"841b62ebdba566518447a0763e1c436a\", element=\"3d5714ec-127b-4d36-9d33-a553284b30f7\")>,\n",
       " <selenium.webdriver.remote.webelement.WebElement (session=\"841b62ebdba566518447a0763e1c436a\", element=\"ab039687-54f5-4590-aed4-bb5e7517b9e8\")>,\n",
       " <selenium.webdriver.remote.webelement.WebElement (session=\"841b62ebdba566518447a0763e1c436a\", element=\"f5bed0ca-b7c1-4799-b201-6fe2b0debed8\")>,\n",
       " <selenium.webdriver.remote.webelement.WebElement (session=\"841b62ebdba566518447a0763e1c436a\", element=\"5362edac-7532-4738-b142-98cf85655a6e\")>,\n",
       " <selenium.webdriver.remote.webelement.WebElement (session=\"841b62ebdba566518447a0763e1c436a\", element=\"14f715d2-d05a-427c-a1e0-aebfb4219921\")>,\n",
       " <selenium.webdriver.remote.webelement.WebElement (session=\"841b62ebdba566518447a0763e1c436a\", element=\"6c5688b1-3f3b-4f65-8e11-3ae07cf7252a\")>,\n",
       " <selenium.webdriver.remote.webelement.WebElement (session=\"841b62ebdba566518447a0763e1c436a\", element=\"a41d0094-61ae-45f0-8981-95461679c2ba\")>,\n",
       " <selenium.webdriver.remote.webelement.WebElement (session=\"841b62ebdba566518447a0763e1c436a\", element=\"b09bf6aa-84f2-4890-b4c0-312d36390ebf\")>]"
      ]
     },
     "execution_count": 10,
     "metadata": {},
     "output_type": "execute_result"
    }
   ],
   "source": [
    "name_tags=driver.find_elements_by_xpath(\"//table[@id='tablepress-48']/tbody[1]/tr/td[3]\")\n",
    "name_tags"
   ]
  },
  {
   "cell_type": "code",
   "execution_count": 11,
   "metadata": {},
   "outputs": [
    {
     "data": {
      "text/plain": [
       "['Flipkart',\n",
       " 'Vedantu',\n",
       " 'Crio',\n",
       " 'goDutch',\n",
       " 'Mystifly',\n",
       " 'JetSynthesys',\n",
       " 'gigIndia',\n",
       " 'PumPumPum',\n",
       " 'FLYX',\n",
       " 'Open Appliances Pvt. Ltd.']"
      ]
     },
     "execution_count": 11,
     "metadata": {},
     "output_type": "execute_result"
    }
   ],
   "source": [
    "for i in name_tags:\n",
    "    name=i.text\n",
    "    startup_name.append(name)\n",
    "startup_name"
   ]
  },
  {
   "cell_type": "code",
   "execution_count": 12,
   "metadata": {},
   "outputs": [
    {
     "data": {
      "text/plain": [
       "[<selenium.webdriver.remote.webelement.WebElement (session=\"841b62ebdba566518447a0763e1c436a\", element=\"0feabcb6-73ad-4162-ab90-652105442a22\")>,\n",
       " <selenium.webdriver.remote.webelement.WebElement (session=\"841b62ebdba566518447a0763e1c436a\", element=\"7dac7be8-7c7f-485d-8a37-9d5eeb3e6077\")>,\n",
       " <selenium.webdriver.remote.webelement.WebElement (session=\"841b62ebdba566518447a0763e1c436a\", element=\"5b4c54b8-6793-4fd0-b385-e20daa13558e\")>,\n",
       " <selenium.webdriver.remote.webelement.WebElement (session=\"841b62ebdba566518447a0763e1c436a\", element=\"6bb73b33-6805-4cda-bd47-38fe2a0d32dc\")>,\n",
       " <selenium.webdriver.remote.webelement.WebElement (session=\"841b62ebdba566518447a0763e1c436a\", element=\"3bcc51b1-2fea-4344-a8ac-86384493b8d4\")>,\n",
       " <selenium.webdriver.remote.webelement.WebElement (session=\"841b62ebdba566518447a0763e1c436a\", element=\"9729d2cb-266b-4be3-8d06-cee6d0f47584\")>,\n",
       " <selenium.webdriver.remote.webelement.WebElement (session=\"841b62ebdba566518447a0763e1c436a\", element=\"cb20436e-5450-4ac7-8776-2ed9209d765d\")>,\n",
       " <selenium.webdriver.remote.webelement.WebElement (session=\"841b62ebdba566518447a0763e1c436a\", element=\"3658ba72-61cc-454c-8f01-0d2e730f282a\")>,\n",
       " <selenium.webdriver.remote.webelement.WebElement (session=\"841b62ebdba566518447a0763e1c436a\", element=\"ddcf1acc-99a6-46d6-b6ee-d1b9ed447b5c\")>,\n",
       " <selenium.webdriver.remote.webelement.WebElement (session=\"841b62ebdba566518447a0763e1c436a\", element=\"83a09323-9541-4901-a809-0926ec0f36c7\")>]"
      ]
     },
     "execution_count": 12,
     "metadata": {},
     "output_type": "execute_result"
    }
   ],
   "source": [
    "industry_tags=driver.find_elements_by_xpath(\"//table[@id='tablepress-48']/tbody[1]/tr/td[4]\")\n",
    "industry_tags"
   ]
  },
  {
   "cell_type": "code",
   "execution_count": 13,
   "metadata": {},
   "outputs": [
    {
     "data": {
      "text/plain": [
       "['E-commerce',\n",
       " 'EduTech',\n",
       " 'EduTech',\n",
       " 'FinTech',\n",
       " 'Airfare Marketplace',\n",
       " 'Gaming and Entertainment',\n",
       " 'Marketplace',\n",
       " 'Automotive Rental',\n",
       " 'OTT Player',\n",
       " 'Information Technology']"
      ]
     },
     "execution_count": 13,
     "metadata": {},
     "output_type": "execute_result"
    }
   ],
   "source": [
    "for i in industry_tags:\n",
    "    industries=i.text\n",
    "    industry.append(industries)\n",
    "industry"
   ]
  },
  {
   "cell_type": "code",
   "execution_count": 14,
   "metadata": {},
   "outputs": [
    {
     "data": {
      "text/plain": [
       "[<selenium.webdriver.remote.webelement.WebElement (session=\"841b62ebdba566518447a0763e1c436a\", element=\"ffee13b3-16af-4076-bca5-25ce30f8e90e\")>,\n",
       " <selenium.webdriver.remote.webelement.WebElement (session=\"841b62ebdba566518447a0763e1c436a\", element=\"b7d08731-bfe7-4316-b896-b5ce7c629f61\")>,\n",
       " <selenium.webdriver.remote.webelement.WebElement (session=\"841b62ebdba566518447a0763e1c436a\", element=\"575b8820-098c-4132-883d-39800a24721a\")>,\n",
       " <selenium.webdriver.remote.webelement.WebElement (session=\"841b62ebdba566518447a0763e1c436a\", element=\"d1802d10-0ece-41c5-92ee-1704a38073eb\")>,\n",
       " <selenium.webdriver.remote.webelement.WebElement (session=\"841b62ebdba566518447a0763e1c436a\", element=\"4c5de34e-d07d-4639-98fc-ad912e187cd4\")>,\n",
       " <selenium.webdriver.remote.webelement.WebElement (session=\"841b62ebdba566518447a0763e1c436a\", element=\"22302c6d-95d9-4613-8bef-f67f69e7d3f1\")>,\n",
       " <selenium.webdriver.remote.webelement.WebElement (session=\"841b62ebdba566518447a0763e1c436a\", element=\"5eda5747-c51c-4e50-a48c-4f5387497819\")>,\n",
       " <selenium.webdriver.remote.webelement.WebElement (session=\"841b62ebdba566518447a0763e1c436a\", element=\"a28333ae-6c2c-40b6-a910-bcf5dd17d09f\")>,\n",
       " <selenium.webdriver.remote.webelement.WebElement (session=\"841b62ebdba566518447a0763e1c436a\", element=\"49831abe-912d-4349-962f-63c830069820\")>,\n",
       " <selenium.webdriver.remote.webelement.WebElement (session=\"841b62ebdba566518447a0763e1c436a\", element=\"cc849ddb-cd30-4e6c-8144-f737f15cfa58\")>]"
      ]
     },
     "execution_count": 14,
     "metadata": {},
     "output_type": "execute_result"
    }
   ],
   "source": [
    "sub_vertical_tags=driver.find_elements_by_xpath(\"//table[@id='tablepress-48']/tbody[1]/tr/td[5]\")\n",
    "sub_vertical_tags"
   ]
  },
  {
   "cell_type": "code",
   "execution_count": 15,
   "metadata": {},
   "outputs": [
    {
     "data": {
      "text/plain": [
       "['E-commerce',\n",
       " 'Online Tutoring',\n",
       " 'Learning Platform for Developers',\n",
       " 'Group Payments',\n",
       " 'Ticketing, Airline Retailing, and Post-Ticketing Services',\n",
       " 'Gaming and Entertainment',\n",
       " 'Crowd Sourcing, Freelance',\n",
       " 'Used Car-leasing platform',\n",
       " 'Streaming Social Network',\n",
       " 'Internet-of-Things Security Solutions']"
      ]
     },
     "execution_count": 15,
     "metadata": {},
     "output_type": "execute_result"
    }
   ],
   "source": [
    "for i in sub_vertical_tags:\n",
    "    sub_verticals=i.text\n",
    "    sub_vertical.append(sub_verticals)\n",
    "sub_vertical"
   ]
  },
  {
   "cell_type": "code",
   "execution_count": 16,
   "metadata": {},
   "outputs": [
    {
     "data": {
      "text/plain": [
       "[<selenium.webdriver.remote.webelement.WebElement (session=\"841b62ebdba566518447a0763e1c436a\", element=\"17ff6f74-b46e-4a51-a6ca-f63290a65ba0\")>,\n",
       " <selenium.webdriver.remote.webelement.WebElement (session=\"841b62ebdba566518447a0763e1c436a\", element=\"58455ffe-55a4-4bb4-a0b0-73fbd5ecf2ba\")>,\n",
       " <selenium.webdriver.remote.webelement.WebElement (session=\"841b62ebdba566518447a0763e1c436a\", element=\"5bcae6be-d244-455b-8c68-8daea103e8c5\")>,\n",
       " <selenium.webdriver.remote.webelement.WebElement (session=\"841b62ebdba566518447a0763e1c436a\", element=\"119aa589-b0d5-45e8-b41f-321b91bf1c19\")>,\n",
       " <selenium.webdriver.remote.webelement.WebElement (session=\"841b62ebdba566518447a0763e1c436a\", element=\"b61b74cd-c706-4b67-be63-092200370eb8\")>,\n",
       " <selenium.webdriver.remote.webelement.WebElement (session=\"841b62ebdba566518447a0763e1c436a\", element=\"2d3cc1fd-9087-417e-ac33-1cac1861b185\")>,\n",
       " <selenium.webdriver.remote.webelement.WebElement (session=\"841b62ebdba566518447a0763e1c436a\", element=\"8f79c3ff-7c76-4fa6-a1e1-cdb9b8ed4383\")>,\n",
       " <selenium.webdriver.remote.webelement.WebElement (session=\"841b62ebdba566518447a0763e1c436a\", element=\"20126ce3-c372-4b99-a506-96a00fb21c8e\")>,\n",
       " <selenium.webdriver.remote.webelement.WebElement (session=\"841b62ebdba566518447a0763e1c436a\", element=\"ab6d22f8-9195-4905-8f26-09b3bdc329d5\")>,\n",
       " <selenium.webdriver.remote.webelement.WebElement (session=\"841b62ebdba566518447a0763e1c436a\", element=\"e2f9e3dd-b5df-4c02-9a73-064ae9b7b77e\")>]"
      ]
     },
     "execution_count": 16,
     "metadata": {},
     "output_type": "execute_result"
    }
   ],
   "source": [
    "location_tags=driver.find_elements_by_xpath(\"//table[@id='tablepress-48']/tbody[1]/tr/td[6]\")\n",
    "location_tags"
   ]
  },
  {
   "cell_type": "code",
   "execution_count": 17,
   "metadata": {},
   "outputs": [
    {
     "data": {
      "text/plain": [
       "['Bangalore',\n",
       " 'Bangalore',\n",
       " 'Bangalore',\n",
       " 'Mumbai',\n",
       " 'Singapore and Bangalore',\n",
       " 'Pune',\n",
       " 'Pune',\n",
       " 'Gurgaon',\n",
       " 'New York and Delhi',\n",
       " 'Bangalore']"
      ]
     },
     "execution_count": 17,
     "metadata": {},
     "output_type": "execute_result"
    }
   ],
   "source": [
    "for i in location_tags:\n",
    "    locations=i.text\n",
    "    location.append(locations)\n",
    "location"
   ]
  },
  {
   "cell_type": "code",
   "execution_count": 18,
   "metadata": {},
   "outputs": [
    {
     "data": {
      "text/plain": [
       "[<selenium.webdriver.remote.webelement.WebElement (session=\"841b62ebdba566518447a0763e1c436a\", element=\"0a871668-f4e1-4d50-9080-f7beb144c659\")>,\n",
       " <selenium.webdriver.remote.webelement.WebElement (session=\"841b62ebdba566518447a0763e1c436a\", element=\"83b7daf9-d8e0-4bfa-856e-4d817e604589\")>,\n",
       " <selenium.webdriver.remote.webelement.WebElement (session=\"841b62ebdba566518447a0763e1c436a\", element=\"1d89846d-8c20-4785-b6e9-3742417aa883\")>,\n",
       " <selenium.webdriver.remote.webelement.WebElement (session=\"841b62ebdba566518447a0763e1c436a\", element=\"162674ed-2809-4f9c-9669-fe681d457381\")>,\n",
       " <selenium.webdriver.remote.webelement.WebElement (session=\"841b62ebdba566518447a0763e1c436a\", element=\"8e065c4a-517a-44b7-9b0b-b93467d9ae5e\")>,\n",
       " <selenium.webdriver.remote.webelement.WebElement (session=\"841b62ebdba566518447a0763e1c436a\", element=\"5885f0e3-a4ba-4d8d-8287-9deb1abb8a68\")>,\n",
       " <selenium.webdriver.remote.webelement.WebElement (session=\"841b62ebdba566518447a0763e1c436a\", element=\"e3f8957a-9beb-469b-8937-7cd5379226ce\")>,\n",
       " <selenium.webdriver.remote.webelement.WebElement (session=\"841b62ebdba566518447a0763e1c436a\", element=\"576c1b84-c579-4c57-a236-a0368bede998\")>,\n",
       " <selenium.webdriver.remote.webelement.WebElement (session=\"841b62ebdba566518447a0763e1c436a\", element=\"5e740337-d290-495a-af0d-8f242ce7e142\")>,\n",
       " <selenium.webdriver.remote.webelement.WebElement (session=\"841b62ebdba566518447a0763e1c436a\", element=\"5f3ee77b-b23e-4ad5-a297-52165a86d961\")>]"
      ]
     },
     "execution_count": 18,
     "metadata": {},
     "output_type": "execute_result"
    }
   ],
   "source": [
    "investors_tags=driver.find_elements_by_xpath(\"//table[@id='tablepress-48']/tbody[1]/tr/td[7]\")\n",
    "investors_tags"
   ]
  },
  {
   "cell_type": "code",
   "execution_count": 19,
   "metadata": {},
   "outputs": [
    {
     "data": {
      "text/plain": [
       "['Walmart Inc',\n",
       " 'Coatue Management',\n",
       " '021 Capital',\n",
       " 'Matrix India,Y Combinator, Global Founders Capital, Soma Capital, and VentureSouq.',\n",
       " 'Recruit Co. Ltd.',\n",
       " 'Adar Poonawalla and Kris Gopalakrishnan.',\n",
       " 'Incubate Fund India and Beyond Next Ventures',\n",
       " 'Early Adapters Syndicate',\n",
       " 'Raj Mishra, founder of AIT Global Inc',\n",
       " 'Unicorn India Ventures']"
      ]
     },
     "execution_count": 19,
     "metadata": {},
     "output_type": "execute_result"
    }
   ],
   "source": [
    "for i in investors_tags:\n",
    "    investor=i.text\n",
    "    investors.append(investor)\n",
    "investors"
   ]
  },
  {
   "cell_type": "code",
   "execution_count": 20,
   "metadata": {},
   "outputs": [
    {
     "data": {
      "text/plain": [
       "[<selenium.webdriver.remote.webelement.WebElement (session=\"841b62ebdba566518447a0763e1c436a\", element=\"009b62ad-a764-48a1-9a5d-230722c7ea36\")>,\n",
       " <selenium.webdriver.remote.webelement.WebElement (session=\"841b62ebdba566518447a0763e1c436a\", element=\"a4b3e616-a6c5-4136-9f42-117368dd031a\")>,\n",
       " <selenium.webdriver.remote.webelement.WebElement (session=\"841b62ebdba566518447a0763e1c436a\", element=\"9125c0e5-1adc-4e73-b577-8ab9680e3cd8\")>,\n",
       " <selenium.webdriver.remote.webelement.WebElement (session=\"841b62ebdba566518447a0763e1c436a\", element=\"81cd2ca6-17d9-4f92-bda1-dbbb5246ae84\")>,\n",
       " <selenium.webdriver.remote.webelement.WebElement (session=\"841b62ebdba566518447a0763e1c436a\", element=\"49d60a10-d680-4a81-9a0c-2c96d61a5c75\")>,\n",
       " <selenium.webdriver.remote.webelement.WebElement (session=\"841b62ebdba566518447a0763e1c436a\", element=\"6e52b0fc-6cad-4c78-bdaf-3ca28ca3cb2e\")>,\n",
       " <selenium.webdriver.remote.webelement.WebElement (session=\"841b62ebdba566518447a0763e1c436a\", element=\"92856ecf-e62f-4482-878a-ba1fc4051277\")>,\n",
       " <selenium.webdriver.remote.webelement.WebElement (session=\"841b62ebdba566518447a0763e1c436a\", element=\"d739ae89-f4b0-481a-933c-e4d9a21b6833\")>,\n",
       " <selenium.webdriver.remote.webelement.WebElement (session=\"841b62ebdba566518447a0763e1c436a\", element=\"a7847137-d9d8-495e-a240-76a21e8e11d0\")>,\n",
       " <selenium.webdriver.remote.webelement.WebElement (session=\"841b62ebdba566518447a0763e1c436a\", element=\"d16be7e4-f723-44cb-96e7-fec2fb994694\")>]"
      ]
     },
     "execution_count": 20,
     "metadata": {},
     "output_type": "execute_result"
    }
   ],
   "source": [
    "invest_type_tags=driver.find_elements_by_xpath(\"//table[@id='tablepress-48']/tbody[1]/tr/td[8]\")\n",
    "invest_type_tags"
   ]
  },
  {
   "cell_type": "code",
   "execution_count": 21,
   "metadata": {},
   "outputs": [
    {
     "data": {
      "text/plain": [
       "['M&A',\n",
       " 'Series D',\n",
       " 'pre-Series A',\n",
       " 'Seed',\n",
       " 'pre-Series B',\n",
       " 'Venture-Series Unknown',\n",
       " 'pre-Series A',\n",
       " 'Seed',\n",
       " 'pre-Seed',\n",
       " 'Venture-Series Unknown']"
      ]
     },
     "execution_count": 21,
     "metadata": {},
     "output_type": "execute_result"
    }
   ],
   "source": [
    "for i in invest_type_tags:\n",
    "    investment_types=i.text\n",
    "    investment_type.append(investment_types)\n",
    "investment_type"
   ]
  },
  {
   "cell_type": "code",
   "execution_count": 22,
   "metadata": {},
   "outputs": [
    {
     "data": {
      "text/plain": [
       "[<selenium.webdriver.remote.webelement.WebElement (session=\"841b62ebdba566518447a0763e1c436a\", element=\"19d84a83-2f12-4a44-a5be-bcdef33e56c8\")>,\n",
       " <selenium.webdriver.remote.webelement.WebElement (session=\"841b62ebdba566518447a0763e1c436a\", element=\"e073a6d7-eb9c-4422-ad54-7a3733577a03\")>,\n",
       " <selenium.webdriver.remote.webelement.WebElement (session=\"841b62ebdba566518447a0763e1c436a\", element=\"bf00f249-b2f4-4c94-8fd2-5c5c0bab462b\")>,\n",
       " <selenium.webdriver.remote.webelement.WebElement (session=\"841b62ebdba566518447a0763e1c436a\", element=\"39b5a52e-8953-456f-81a9-fa80ee4f06e5\")>,\n",
       " <selenium.webdriver.remote.webelement.WebElement (session=\"841b62ebdba566518447a0763e1c436a\", element=\"09af6631-99f6-48a8-a8f4-c49f24f5ce61\")>,\n",
       " <selenium.webdriver.remote.webelement.WebElement (session=\"841b62ebdba566518447a0763e1c436a\", element=\"342f295a-8c31-4520-8853-2ddba9a29606\")>,\n",
       " <selenium.webdriver.remote.webelement.WebElement (session=\"841b62ebdba566518447a0763e1c436a\", element=\"db6ddf50-68e4-4f83-9489-5ee9e3c94f45\")>,\n",
       " <selenium.webdriver.remote.webelement.WebElement (session=\"841b62ebdba566518447a0763e1c436a\", element=\"dcbf4b7f-052f-4f98-b73d-21a58b9dc535\")>,\n",
       " <selenium.webdriver.remote.webelement.WebElement (session=\"841b62ebdba566518447a0763e1c436a\", element=\"9c65ed56-3759-49c6-b6db-130c59c10378\")>,\n",
       " <selenium.webdriver.remote.webelement.WebElement (session=\"841b62ebdba566518447a0763e1c436a\", element=\"b45d26fa-0641-4041-a38c-eb9629fc61e4\")>]"
      ]
     },
     "execution_count": 22,
     "metadata": {},
     "output_type": "execute_result"
    }
   ],
   "source": [
    "amount_tags=driver.find_elements_by_xpath(\"//table[@id='tablepress-48']/tbody[1]/tr/td[9]\")\n",
    "amount_tags"
   ]
  },
  {
   "cell_type": "code",
   "execution_count": 23,
   "metadata": {},
   "outputs": [
    {
     "data": {
      "text/plain": [
       "['1,200,000,000',\n",
       " '100,000,000',\n",
       " '934,160',\n",
       " '1,700,000',\n",
       " '3,300,000',\n",
       " '400,000',\n",
       " '974,200',\n",
       " '292,800',\n",
       " '200,000',\n",
       " '500,000']"
      ]
     },
     "execution_count": 23,
     "metadata": {},
     "output_type": "execute_result"
    }
   ],
   "source": [
    "for i in amount_tags:\n",
    "    amounts=i.text\n",
    "    amount.append(amounts)\n",
    "amount"
   ]
  },
  {
   "cell_type": "code",
   "execution_count": 24,
   "metadata": {},
   "outputs": [],
   "source": [
    "import pandas as pd\n",
    "july_funding=pd.DataFrame({})\n",
    "july_funding['sr_no']=sr_no\n",
    "july_funding['date']=date\n",
    "july_funding['startup_name']=startup_name\n",
    "july_funding['industry']=industry\n",
    "july_funding['sub_vertical']=sub_vertical\n",
    "july_funding['location']=location\n",
    "july_funding['investors']=investors\n",
    "july_funding['investment_type']=investment_type\n",
    "july_funding['amount']=amount"
   ]
  },
  {
   "cell_type": "code",
   "execution_count": 25,
   "metadata": {},
   "outputs": [
    {
     "data": {
      "text/html": [
       "<div>\n",
       "<style scoped>\n",
       "    .dataframe tbody tr th:only-of-type {\n",
       "        vertical-align: middle;\n",
       "    }\n",
       "\n",
       "    .dataframe tbody tr th {\n",
       "        vertical-align: top;\n",
       "    }\n",
       "\n",
       "    .dataframe thead th {\n",
       "        text-align: right;\n",
       "    }\n",
       "</style>\n",
       "<table border=\"1\" class=\"dataframe\">\n",
       "  <thead>\n",
       "    <tr style=\"text-align: right;\">\n",
       "      <th></th>\n",
       "      <th>sr_no</th>\n",
       "      <th>date</th>\n",
       "      <th>startup_name</th>\n",
       "      <th>industry</th>\n",
       "      <th>sub_vertical</th>\n",
       "      <th>location</th>\n",
       "      <th>investors</th>\n",
       "      <th>investment_type</th>\n",
       "      <th>amount</th>\n",
       "    </tr>\n",
       "  </thead>\n",
       "  <tbody>\n",
       "    <tr>\n",
       "      <th>0</th>\n",
       "      <td>1</td>\n",
       "      <td>15/07/2020</td>\n",
       "      <td>Flipkart</td>\n",
       "      <td>E-commerce</td>\n",
       "      <td>E-commerce</td>\n",
       "      <td>Bangalore</td>\n",
       "      <td>Walmart Inc</td>\n",
       "      <td>M&amp;A</td>\n",
       "      <td>1,200,000,000</td>\n",
       "    </tr>\n",
       "    <tr>\n",
       "      <th>1</th>\n",
       "      <td>2</td>\n",
       "      <td>16/07/2020</td>\n",
       "      <td>Vedantu</td>\n",
       "      <td>EduTech</td>\n",
       "      <td>Online Tutoring</td>\n",
       "      <td>Bangalore</td>\n",
       "      <td>Coatue Management</td>\n",
       "      <td>Series D</td>\n",
       "      <td>100,000,000</td>\n",
       "    </tr>\n",
       "    <tr>\n",
       "      <th>2</th>\n",
       "      <td>3</td>\n",
       "      <td>16/07/2020</td>\n",
       "      <td>Crio</td>\n",
       "      <td>EduTech</td>\n",
       "      <td>Learning Platform for Developers</td>\n",
       "      <td>Bangalore</td>\n",
       "      <td>021 Capital</td>\n",
       "      <td>pre-Series A</td>\n",
       "      <td>934,160</td>\n",
       "    </tr>\n",
       "    <tr>\n",
       "      <th>3</th>\n",
       "      <td>4</td>\n",
       "      <td>14/07/2020</td>\n",
       "      <td>goDutch</td>\n",
       "      <td>FinTech</td>\n",
       "      <td>Group Payments</td>\n",
       "      <td>Mumbai</td>\n",
       "      <td>Matrix India,Y Combinator, Global Founders Cap...</td>\n",
       "      <td>Seed</td>\n",
       "      <td>1,700,000</td>\n",
       "    </tr>\n",
       "    <tr>\n",
       "      <th>4</th>\n",
       "      <td>5</td>\n",
       "      <td>13/07/2020</td>\n",
       "      <td>Mystifly</td>\n",
       "      <td>Airfare Marketplace</td>\n",
       "      <td>Ticketing, Airline Retailing, and Post-Ticketi...</td>\n",
       "      <td>Singapore and Bangalore</td>\n",
       "      <td>Recruit Co. Ltd.</td>\n",
       "      <td>pre-Series B</td>\n",
       "      <td>3,300,000</td>\n",
       "    </tr>\n",
       "    <tr>\n",
       "      <th>5</th>\n",
       "      <td>6</td>\n",
       "      <td>09/07/2020</td>\n",
       "      <td>JetSynthesys</td>\n",
       "      <td>Gaming and Entertainment</td>\n",
       "      <td>Gaming and Entertainment</td>\n",
       "      <td>Pune</td>\n",
       "      <td>Adar Poonawalla and Kris Gopalakrishnan.</td>\n",
       "      <td>Venture-Series Unknown</td>\n",
       "      <td>400,000</td>\n",
       "    </tr>\n",
       "    <tr>\n",
       "      <th>6</th>\n",
       "      <td>7</td>\n",
       "      <td>10/07/2020</td>\n",
       "      <td>gigIndia</td>\n",
       "      <td>Marketplace</td>\n",
       "      <td>Crowd Sourcing, Freelance</td>\n",
       "      <td>Pune</td>\n",
       "      <td>Incubate Fund India and Beyond Next Ventures</td>\n",
       "      <td>pre-Series A</td>\n",
       "      <td>974,200</td>\n",
       "    </tr>\n",
       "    <tr>\n",
       "      <th>7</th>\n",
       "      <td>8</td>\n",
       "      <td>15/07/2020</td>\n",
       "      <td>PumPumPum</td>\n",
       "      <td>Automotive Rental</td>\n",
       "      <td>Used Car-leasing platform</td>\n",
       "      <td>Gurgaon</td>\n",
       "      <td>Early Adapters Syndicate</td>\n",
       "      <td>Seed</td>\n",
       "      <td>292,800</td>\n",
       "    </tr>\n",
       "    <tr>\n",
       "      <th>8</th>\n",
       "      <td>9</td>\n",
       "      <td>14/07/2020</td>\n",
       "      <td>FLYX</td>\n",
       "      <td>OTT Player</td>\n",
       "      <td>Streaming Social Network</td>\n",
       "      <td>New York and Delhi</td>\n",
       "      <td>Raj Mishra, founder of AIT Global Inc</td>\n",
       "      <td>pre-Seed</td>\n",
       "      <td>200,000</td>\n",
       "    </tr>\n",
       "    <tr>\n",
       "      <th>9</th>\n",
       "      <td>10</td>\n",
       "      <td>13/07/2020</td>\n",
       "      <td>Open Appliances Pvt. Ltd.</td>\n",
       "      <td>Information Technology</td>\n",
       "      <td>Internet-of-Things Security Solutions</td>\n",
       "      <td>Bangalore</td>\n",
       "      <td>Unicorn India Ventures</td>\n",
       "      <td>Venture-Series Unknown</td>\n",
       "      <td>500,000</td>\n",
       "    </tr>\n",
       "  </tbody>\n",
       "</table>\n",
       "</div>"
      ],
      "text/plain": [
       "  sr_no        date               startup_name                  industry  \\\n",
       "0     1  15/07/2020                   Flipkart                E-commerce   \n",
       "1     2  16/07/2020                    Vedantu                   EduTech   \n",
       "2     3  16/07/2020                       Crio                   EduTech   \n",
       "3     4  14/07/2020                    goDutch                   FinTech   \n",
       "4     5  13/07/2020                   Mystifly       Airfare Marketplace   \n",
       "5     6  09/07/2020               JetSynthesys  Gaming and Entertainment   \n",
       "6     7  10/07/2020                   gigIndia               Marketplace   \n",
       "7     8  15/07/2020                  PumPumPum         Automotive Rental   \n",
       "8     9  14/07/2020                       FLYX                OTT Player   \n",
       "9    10  13/07/2020  Open Appliances Pvt. Ltd.    Information Technology   \n",
       "\n",
       "                                        sub_vertical                 location  \\\n",
       "0                                         E-commerce                Bangalore   \n",
       "1                                    Online Tutoring                Bangalore   \n",
       "2                   Learning Platform for Developers                Bangalore   \n",
       "3                                     Group Payments                   Mumbai   \n",
       "4  Ticketing, Airline Retailing, and Post-Ticketi...  Singapore and Bangalore   \n",
       "5                           Gaming and Entertainment                     Pune   \n",
       "6                          Crowd Sourcing, Freelance                     Pune   \n",
       "7                          Used Car-leasing platform                  Gurgaon   \n",
       "8                           Streaming Social Network       New York and Delhi   \n",
       "9              Internet-of-Things Security Solutions                Bangalore   \n",
       "\n",
       "                                           investors         investment_type  \\\n",
       "0                                        Walmart Inc                     M&A   \n",
       "1                                  Coatue Management                Series D   \n",
       "2                                        021 Capital            pre-Series A   \n",
       "3  Matrix India,Y Combinator, Global Founders Cap...                    Seed   \n",
       "4                                   Recruit Co. Ltd.            pre-Series B   \n",
       "5           Adar Poonawalla and Kris Gopalakrishnan.  Venture-Series Unknown   \n",
       "6       Incubate Fund India and Beyond Next Ventures            pre-Series A   \n",
       "7                           Early Adapters Syndicate                    Seed   \n",
       "8              Raj Mishra, founder of AIT Global Inc                pre-Seed   \n",
       "9                             Unicorn India Ventures  Venture-Series Unknown   \n",
       "\n",
       "          amount  \n",
       "0  1,200,000,000  \n",
       "1    100,000,000  \n",
       "2        934,160  \n",
       "3      1,700,000  \n",
       "4      3,300,000  \n",
       "5        400,000  \n",
       "6        974,200  \n",
       "7        292,800  \n",
       "8        200,000  \n",
       "9        500,000  "
      ]
     },
     "execution_count": 25,
     "metadata": {},
     "output_type": "execute_result"
    }
   ],
   "source": [
    "july_funding"
   ]
  },
  {
   "cell_type": "code",
   "execution_count": 15,
   "metadata": {},
   "outputs": [],
   "source": [
    "sr_no=[]\n",
    "date=[]\n",
    "startup_name=[]\n",
    "industry=[]\n",
    "sub_vertical=[]\n",
    "location=[]\n",
    "investors=[]\n",
    "investment_type=[]\n",
    "amount=[]"
   ]
  },
  {
   "cell_type": "code",
   "execution_count": 16,
   "metadata": {},
   "outputs": [],
   "source": [
    "for j in driver.find_elements_by_xpath(\"//table[@id='tablepress-49']/tbody[1]/tr/td[1]\"):\n",
    "    sr_no.append(j.text)\n",
    "for k in driver.find_elements_by_xpath(\"//table[@id='tablepress-49']/tbody[1]/tr/td[2]\"):\n",
    "    date.append(k.text)\n",
    "for l in driver.find_elements_by_xpath(\"//table[@id='tablepress-49']/tbody[1]/tr/td[3]\"):\n",
    "    startup_name.append(l.text)\n",
    "for m in driver.find_elements_by_xpath(\"//table[@id='tablepress-49']/tbody[1]/tr/td[4]\"):\n",
    "    industry.append(m.text)\n",
    "for n in driver.find_elements_by_xpath(\"//table[@id='tablepress-49']/tbody[1]/tr/td[5]\"):\n",
    "    sub_vertical.append(n.text)\n",
    "for o in driver.find_elements_by_xpath(\"//table[@id='tablepress-49']/tbody[1]/tr/td[6]\"):\n",
    "    location.append(o.text)\n",
    "for p in driver.find_elements_by_xpath(\"//table[@id='tablepress-49']/tbody[1]/tr/td[7]\"):\n",
    "    investors.append(p.text)\n",
    "for q in driver.find_elements_by_xpath(\"//table[@id='tablepress-49']/tbody[1]/tr/td[8]\"):\n",
    "    investment_type.append(q.text)\n",
    "for r in driver.find_elements_by_xpath(\"//table[@id='tablepress-49']/tbody[1]/tr/td[9]\"):\n",
    "    amount.append(r.text)"
   ]
  },
  {
   "cell_type": "code",
   "execution_count": 17,
   "metadata": {},
   "outputs": [
    {
     "data": {
      "text/plain": [
       "['1', '2', '3', '4', '5', '6', '7', '8', '9', '10']"
      ]
     },
     "execution_count": 17,
     "metadata": {},
     "output_type": "execute_result"
    }
   ],
   "source": [
    "sr_no"
   ]
  },
  {
   "cell_type": "code",
   "execution_count": 18,
   "metadata": {},
   "outputs": [],
   "source": [
    "import pandas as pd\n",
    "aug_funding=pd.DataFrame({})\n",
    "aug_funding['sr_no']=sr_no\n",
    "aug_funding['date']=date\n",
    "aug_funding['startup_name']=startup_name\n",
    "aug_funding['industry']=industry\n",
    "aug_funding['sub_vertical']=sub_vertical\n",
    "aug_funding['location']=location\n",
    "aug_funding['investors']=investors\n",
    "aug_funding['investment_type']=investment_type\n",
    "aug_funding['amount']=amount"
   ]
  },
  {
   "cell_type": "code",
   "execution_count": 19,
   "metadata": {},
   "outputs": [
    {
     "data": {
      "text/html": [
       "<div>\n",
       "<style scoped>\n",
       "    .dataframe tbody tr th:only-of-type {\n",
       "        vertical-align: middle;\n",
       "    }\n",
       "\n",
       "    .dataframe tbody tr th {\n",
       "        vertical-align: top;\n",
       "    }\n",
       "\n",
       "    .dataframe thead th {\n",
       "        text-align: right;\n",
       "    }\n",
       "</style>\n",
       "<table border=\"1\" class=\"dataframe\">\n",
       "  <thead>\n",
       "    <tr style=\"text-align: right;\">\n",
       "      <th></th>\n",
       "      <th>sr_no</th>\n",
       "      <th>date</th>\n",
       "      <th>startup_name</th>\n",
       "      <th>industry</th>\n",
       "      <th>sub_vertical</th>\n",
       "      <th>location</th>\n",
       "      <th>investors</th>\n",
       "      <th>investment_type</th>\n",
       "      <th>amount</th>\n",
       "    </tr>\n",
       "  </thead>\n",
       "  <tbody>\n",
       "    <tr>\n",
       "      <th>0</th>\n",
       "      <td>1</td>\n",
       "      <td>15/08/2020</td>\n",
       "      <td>Practo</td>\n",
       "      <td>HealthTech</td>\n",
       "      <td>Health care and Wellness</td>\n",
       "      <td>Bangalore</td>\n",
       "      <td>A1A Company</td>\n",
       "      <td>Series F</td>\n",
       "      <td>32,000,000</td>\n",
       "    </tr>\n",
       "    <tr>\n",
       "      <th>1</th>\n",
       "      <td>2</td>\n",
       "      <td>13/08/2020</td>\n",
       "      <td>Medlife</td>\n",
       "      <td>E-commerce</td>\n",
       "      <td>Online Pharmacy</td>\n",
       "      <td>Bangalore</td>\n",
       "      <td>Prasid Uno Family Trust and SC Credit Fund</td>\n",
       "      <td></td>\n",
       "      <td>23,000,000</td>\n",
       "    </tr>\n",
       "    <tr>\n",
       "      <th>2</th>\n",
       "      <td>3</td>\n",
       "      <td>13/08/2020</td>\n",
       "      <td>HungerBox</td>\n",
       "      <td>FoodTech</td>\n",
       "      <td>Online Food Delivery Service</td>\n",
       "      <td>Bangalore</td>\n",
       "      <td>One97, Sabre Partners Trust, Pratithi Investme...</td>\n",
       "      <td>Series D1</td>\n",
       "      <td>1,560,000</td>\n",
       "    </tr>\n",
       "    <tr>\n",
       "      <th>3</th>\n",
       "      <td>4</td>\n",
       "      <td>04/08/2020</td>\n",
       "      <td>Dunzo</td>\n",
       "      <td>Hyper-local Logistics</td>\n",
       "      <td>Online Delivery Services</td>\n",
       "      <td>Bangalore</td>\n",
       "      <td>Existing Backers</td>\n",
       "      <td>In Progress</td>\n",
       "      <td>30,000,000</td>\n",
       "    </tr>\n",
       "    <tr>\n",
       "      <th>4</th>\n",
       "      <td>5</td>\n",
       "      <td>11/08/2020</td>\n",
       "      <td>Terra.do</td>\n",
       "      <td>EduTech</td>\n",
       "      <td>Online Climate School, E-learning</td>\n",
       "      <td>Stanford, California,</td>\n",
       "      <td>Stanford Angels and Entrepreneurs (India), BEE...</td>\n",
       "      <td>Seed</td>\n",
       "      <td>1,400,000</td>\n",
       "    </tr>\n",
       "    <tr>\n",
       "      <th>5</th>\n",
       "      <td>6</td>\n",
       "      <td>12/08/2020</td>\n",
       "      <td>Classplus</td>\n",
       "      <td>EduTech</td>\n",
       "      <td>E-learning, Online Tutoring</td>\n",
       "      <td>Noida</td>\n",
       "      <td>Falcon Edge</td>\n",
       "      <td>In Progress</td>\n",
       "      <td>upto 15,000,000</td>\n",
       "    </tr>\n",
       "    <tr>\n",
       "      <th>6</th>\n",
       "      <td>7</td>\n",
       "      <td>14/08/2020</td>\n",
       "      <td>Niyo</td>\n",
       "      <td>FinTech</td>\n",
       "      <td>Financial Services</td>\n",
       "      <td>Bangalore</td>\n",
       "      <td>Niyo Solutions Inc.</td>\n",
       "      <td></td>\n",
       "      <td>6,000,000</td>\n",
       "    </tr>\n",
       "    <tr>\n",
       "      <th>7</th>\n",
       "      <td>8</td>\n",
       "      <td>10/08/2020</td>\n",
       "      <td>ZestMoney</td>\n",
       "      <td>FinTech</td>\n",
       "      <td>Financial Services</td>\n",
       "      <td>Bangalore</td>\n",
       "      <td>Primrose Hills Ventures</td>\n",
       "      <td></td>\n",
       "      <td>10,670,000</td>\n",
       "    </tr>\n",
       "    <tr>\n",
       "      <th>8</th>\n",
       "      <td>9</td>\n",
       "      <td>07/08/2020</td>\n",
       "      <td>FreshToHome</td>\n",
       "      <td>E-commerce</td>\n",
       "      <td>Food Delivery</td>\n",
       "      <td>Bangalore</td>\n",
       "      <td>Ascent Capital</td>\n",
       "      <td>Venture</td>\n",
       "      <td>16,200,000</td>\n",
       "    </tr>\n",
       "    <tr>\n",
       "      <th>9</th>\n",
       "      <td>10</td>\n",
       "      <td>13/08/2020</td>\n",
       "      <td>Eduvanz</td>\n",
       "      <td>FinTech</td>\n",
       "      <td>Financial Services</td>\n",
       "      <td>Mumbai</td>\n",
       "      <td>Sequoia India, Unitus</td>\n",
       "      <td>Series A</td>\n",
       "      <td>5,000,000</td>\n",
       "    </tr>\n",
       "  </tbody>\n",
       "</table>\n",
       "</div>"
      ],
      "text/plain": [
       "  sr_no        date startup_name               industry  \\\n",
       "0     1  15/08/2020       Practo             HealthTech   \n",
       "1     2  13/08/2020      Medlife             E-commerce   \n",
       "2     3  13/08/2020    HungerBox               FoodTech   \n",
       "3     4  04/08/2020        Dunzo  Hyper-local Logistics   \n",
       "4     5  11/08/2020     Terra.do                EduTech   \n",
       "5     6  12/08/2020    Classplus                EduTech   \n",
       "6     7  14/08/2020         Niyo                FinTech   \n",
       "7     8  10/08/2020    ZestMoney                FinTech   \n",
       "8     9  07/08/2020  FreshToHome             E-commerce   \n",
       "9    10  13/08/2020      Eduvanz                FinTech   \n",
       "\n",
       "                        sub_vertical               location  \\\n",
       "0           Health care and Wellness              Bangalore   \n",
       "1                    Online Pharmacy              Bangalore   \n",
       "2       Online Food Delivery Service              Bangalore   \n",
       "3           Online Delivery Services              Bangalore   \n",
       "4  Online Climate School, E-learning  Stanford, California,   \n",
       "5        E-learning, Online Tutoring                  Noida   \n",
       "6                 Financial Services              Bangalore   \n",
       "7                 Financial Services              Bangalore   \n",
       "8                      Food Delivery              Bangalore   \n",
       "9                 Financial Services                 Mumbai   \n",
       "\n",
       "                                           investors investment_type  \\\n",
       "0                                        A1A Company        Series F   \n",
       "1         Prasid Uno Family Trust and SC Credit Fund                   \n",
       "2  One97, Sabre Partners Trust, Pratithi Investme...       Series D1   \n",
       "3                                   Existing Backers     In Progress   \n",
       "4  Stanford Angels and Entrepreneurs (India), BEE...            Seed   \n",
       "5                                        Falcon Edge     In Progress   \n",
       "6                                Niyo Solutions Inc.                   \n",
       "7                            Primrose Hills Ventures                   \n",
       "8                                     Ascent Capital         Venture   \n",
       "9                              Sequoia India, Unitus        Series A   \n",
       "\n",
       "            amount  \n",
       "0       32,000,000  \n",
       "1       23,000,000  \n",
       "2        1,560,000  \n",
       "3       30,000,000  \n",
       "4        1,400,000  \n",
       "5  upto 15,000,000  \n",
       "6        6,000,000  \n",
       "7       10,670,000  \n",
       "8       16,200,000  \n",
       "9        5,000,000  "
      ]
     },
     "execution_count": 19,
     "metadata": {},
     "output_type": "execute_result"
    }
   ],
   "source": [
    "aug_funding"
   ]
  },
  {
   "cell_type": "code",
   "execution_count": 5,
   "metadata": {},
   "outputs": [],
   "source": [
    "sr_no=[]\n",
    "date=[]\n",
    "startup_name=[]\n",
    "industry=[]\n",
    "sub_vertical=[]\n",
    "location=[]\n",
    "investors=[]\n",
    "investment_type=[]\n",
    "amount=[]"
   ]
  },
  {
   "cell_type": "code",
   "execution_count": 6,
   "metadata": {},
   "outputs": [],
   "source": [
    "for j in driver.find_elements_by_xpath(\"//table[@id='tablepress-50']/tbody[1]/tr/td[1]\"):\n",
    "    sr_no.append(j.text)\n",
    "for k in driver.find_elements_by_xpath(\"//table[@id='tablepress-50']/tbody[1]/tr/td[2]\"):\n",
    "    date.append(k.text)\n",
    "for l in driver.find_elements_by_xpath(\"//table[@id='tablepress-50']/tbody[1]/tr/td[3]\"):\n",
    "    startup_name.append(l.text)\n",
    "for m in driver.find_elements_by_xpath(\"//table[@id='tablepress-50']/tbody[1]/tr/td[4]\"):\n",
    "    industry.append(m.text)\n",
    "for n in driver.find_elements_by_xpath(\"//table[@id='tablepress-50']/tbody[1]/tr/td[5]\"):\n",
    "    sub_vertical.append(n.text)\n",
    "for o in driver.find_elements_by_xpath(\"//table[@id='tablepress-50']/tbody[1]/tr/td[6]\"):\n",
    "    location.append(o.text)\n",
    "for p in driver.find_elements_by_xpath(\"//table[@id='tablepress-50']/tbody[1]/tr/td[7]\"):\n",
    "    investors.append(p.text)\n",
    "for q in driver.find_elements_by_xpath(\"//table[@id='tablepress-50']/tbody[1]/tr/td[8]\"):\n",
    "    investment_type.append(q.text)\n",
    "for r in driver.find_elements_by_xpath(\"//table[@id='tablepress-50']/tbody[1]/tr/td[9]\"):\n",
    "    amount.append(r.text)"
   ]
  },
  {
   "cell_type": "code",
   "execution_count": 7,
   "metadata": {},
   "outputs": [],
   "source": [
    "import pandas as pd\n",
    "sep_funding=pd.DataFrame({})\n",
    "sep_funding['sr_no']=sr_no\n",
    "sep_funding['date']=date\n",
    "sep_funding['startup_name']=startup_name\n",
    "sep_funding['industry']=industry\n",
    "sep_funding['sub_vertical']=sub_vertical\n",
    "sep_funding['location']=location\n",
    "sep_funding['investors']=investors\n",
    "sep_funding['investment_type']=investment_type\n",
    "sep_funding['amount']=amount"
   ]
  },
  {
   "cell_type": "code",
   "execution_count": 8,
   "metadata": {},
   "outputs": [
    {
     "data": {
      "text/html": [
       "<div>\n",
       "<style scoped>\n",
       "    .dataframe tbody tr th:only-of-type {\n",
       "        vertical-align: middle;\n",
       "    }\n",
       "\n",
       "    .dataframe tbody tr th {\n",
       "        vertical-align: top;\n",
       "    }\n",
       "\n",
       "    .dataframe thead th {\n",
       "        text-align: right;\n",
       "    }\n",
       "</style>\n",
       "<table border=\"1\" class=\"dataframe\">\n",
       "  <thead>\n",
       "    <tr style=\"text-align: right;\">\n",
       "      <th></th>\n",
       "      <th>sr_no</th>\n",
       "      <th>date</th>\n",
       "      <th>startup_name</th>\n",
       "      <th>industry</th>\n",
       "      <th>sub_vertical</th>\n",
       "      <th>location</th>\n",
       "      <th>investors</th>\n",
       "      <th>investment_type</th>\n",
       "      <th>amount</th>\n",
       "    </tr>\n",
       "  </thead>\n",
       "  <tbody>\n",
       "    <tr>\n",
       "      <th>0</th>\n",
       "      <td>1</td>\n",
       "      <td>08/09/2020</td>\n",
       "      <td>Byju’s</td>\n",
       "      <td>EduTech</td>\n",
       "      <td>Online Tutoring</td>\n",
       "      <td>Bangalore</td>\n",
       "      <td>Silver Lake, Tiger Global, General Atlantic an...</td>\n",
       "      <td>Private Equity</td>\n",
       "      <td>500,000,000</td>\n",
       "    </tr>\n",
       "    <tr>\n",
       "      <th>1</th>\n",
       "      <td>2</td>\n",
       "      <td>12/09/2020</td>\n",
       "      <td>mCaffeine</td>\n",
       "      <td>Personal Care</td>\n",
       "      <td>Skincare &amp; Haircare</td>\n",
       "      <td>Mumbai</td>\n",
       "      <td>Amicus Capital Private Equity I LLP, Amicus Ca...</td>\n",
       "      <td>Series B</td>\n",
       "      <td>3,000,000</td>\n",
       "    </tr>\n",
       "    <tr>\n",
       "      <th>2</th>\n",
       "      <td>3</td>\n",
       "      <td>09/09/2020</td>\n",
       "      <td>Qshala</td>\n",
       "      <td>EduTech</td>\n",
       "      <td>Online Curiosity Platform for Kids</td>\n",
       "      <td>Bangalore</td>\n",
       "      <td>Rainmatter Capital</td>\n",
       "      <td>Angel</td>\n",
       "      <td>370,000</td>\n",
       "    </tr>\n",
       "    <tr>\n",
       "      <th>3</th>\n",
       "      <td>4</td>\n",
       "      <td>02/09/2020</td>\n",
       "      <td>Winzo</td>\n",
       "      <td>Online Gaming</td>\n",
       "      <td>Online Gaming</td>\n",
       "      <td>New Delhi</td>\n",
       "      <td>Kalaari Capital Partners, IndigoEdge Managemen...</td>\n",
       "      <td>Series B</td>\n",
       "      <td>15,500,000</td>\n",
       "    </tr>\n",
       "    <tr>\n",
       "      <th>4</th>\n",
       "      <td>5</td>\n",
       "      <td>09/09/2020</td>\n",
       "      <td>Hippo Video</td>\n",
       "      <td>Video Customer Experience(CX) Platform</td>\n",
       "      <td>Video Customer Experience(CX) Platform</td>\n",
       "      <td>Newark, Delaware, United States of Amercia</td>\n",
       "      <td>Alpha Wave Incubation, Exfinity Venture Partne...</td>\n",
       "      <td>Series A</td>\n",
       "      <td>4,500,000</td>\n",
       "    </tr>\n",
       "    <tr>\n",
       "      <th>5</th>\n",
       "      <td>6</td>\n",
       "      <td>07/09/2020</td>\n",
       "      <td>Melorra</td>\n",
       "      <td>E-commerce</td>\n",
       "      <td>Online Jewelry Store</td>\n",
       "      <td>Bangalore</td>\n",
       "      <td>Shadow Holdings, Lightbox.</td>\n",
       "      <td>Debt Financing</td>\n",
       "      <td>upto 8,900,000</td>\n",
       "    </tr>\n",
       "    <tr>\n",
       "      <th>6</th>\n",
       "      <td>7</td>\n",
       "      <td>07/09/2020</td>\n",
       "      <td>1mg</td>\n",
       "      <td>E-commerce</td>\n",
       "      <td>Online Pharmacy</td>\n",
       "      <td>Gurgaon</td>\n",
       "      <td>Gaja Capital, Tata Capital, Partners Group</td>\n",
       "      <td>In Progress</td>\n",
       "      <td>100,000,000</td>\n",
       "    </tr>\n",
       "    <tr>\n",
       "      <th>7</th>\n",
       "      <td>8</td>\n",
       "      <td>31/08/2020</td>\n",
       "      <td>mfine</td>\n",
       "      <td>HealthTech</td>\n",
       "      <td>On-Demand Healthcare Services</td>\n",
       "      <td>Bangalore</td>\n",
       "      <td>Caretech Pte Inc</td>\n",
       "      <td>Series B</td>\n",
       "      <td>5,400,000</td>\n",
       "    </tr>\n",
       "    <tr>\n",
       "      <th>8</th>\n",
       "      <td>9</td>\n",
       "      <td>31/08/2020</td>\n",
       "      <td>Apna</td>\n",
       "      <td>Human Resources</td>\n",
       "      <td>Recruitment Platform</td>\n",
       "      <td>Bangalore</td>\n",
       "      <td>Lightspeed India and Sequoia Capital India</td>\n",
       "      <td>Series A</td>\n",
       "      <td>8,000,000</td>\n",
       "    </tr>\n",
       "    <tr>\n",
       "      <th>9</th>\n",
       "      <td>10</td>\n",
       "      <td>03/09/2020</td>\n",
       "      <td>Railofy</td>\n",
       "      <td>Transportation</td>\n",
       "      <td>WL &amp; RAC protection platform</td>\n",
       "      <td>Mumbai</td>\n",
       "      <td>Chiratae Ventures</td>\n",
       "      <td>Seed</td>\n",
       "      <td>950,000</td>\n",
       "    </tr>\n",
       "  </tbody>\n",
       "</table>\n",
       "</div>"
      ],
      "text/plain": [
       "  sr_no        date startup_name                                industry  \\\n",
       "0     1  08/09/2020       Byju’s                                 EduTech   \n",
       "1     2  12/09/2020    mCaffeine                           Personal Care   \n",
       "2     3  09/09/2020       Qshala                                 EduTech   \n",
       "3     4  02/09/2020        Winzo                           Online Gaming   \n",
       "4     5  09/09/2020  Hippo Video  Video Customer Experience(CX) Platform   \n",
       "5     6  07/09/2020      Melorra                              E-commerce   \n",
       "6     7  07/09/2020          1mg                              E-commerce   \n",
       "7     8  31/08/2020        mfine                              HealthTech   \n",
       "8     9  31/08/2020         Apna                         Human Resources   \n",
       "9    10  03/09/2020      Railofy                          Transportation   \n",
       "\n",
       "                             sub_vertical  \\\n",
       "0                         Online Tutoring   \n",
       "1                     Skincare & Haircare   \n",
       "2      Online Curiosity Platform for Kids   \n",
       "3                           Online Gaming   \n",
       "4  Video Customer Experience(CX) Platform   \n",
       "5                    Online Jewelry Store   \n",
       "6                         Online Pharmacy   \n",
       "7           On-Demand Healthcare Services   \n",
       "8                    Recruitment Platform   \n",
       "9            WL & RAC protection platform   \n",
       "\n",
       "                                     location  \\\n",
       "0                                   Bangalore   \n",
       "1                                      Mumbai   \n",
       "2                                   Bangalore   \n",
       "3                                   New Delhi   \n",
       "4  Newark, Delaware, United States of Amercia   \n",
       "5                                   Bangalore   \n",
       "6                                     Gurgaon   \n",
       "7                                   Bangalore   \n",
       "8                                   Bangalore   \n",
       "9                                      Mumbai   \n",
       "\n",
       "                                           investors investment_type  \\\n",
       "0  Silver Lake, Tiger Global, General Atlantic an...  Private Equity   \n",
       "1  Amicus Capital Private Equity I LLP, Amicus Ca...        Series B   \n",
       "2                                 Rainmatter Capital           Angel   \n",
       "3  Kalaari Capital Partners, IndigoEdge Managemen...        Series B   \n",
       "4  Alpha Wave Incubation, Exfinity Venture Partne...        Series A   \n",
       "5                         Shadow Holdings, Lightbox.  Debt Financing   \n",
       "6         Gaja Capital, Tata Capital, Partners Group     In Progress   \n",
       "7                                   Caretech Pte Inc        Series B   \n",
       "8         Lightspeed India and Sequoia Capital India        Series A   \n",
       "9                                  Chiratae Ventures            Seed   \n",
       "\n",
       "           amount  \n",
       "0     500,000,000  \n",
       "1       3,000,000  \n",
       "2         370,000  \n",
       "3      15,500,000  \n",
       "4       4,500,000  \n",
       "5  upto 8,900,000  \n",
       "6     100,000,000  \n",
       "7       5,400,000  \n",
       "8       8,000,000  \n",
       "9         950,000  "
      ]
     },
     "execution_count": 8,
     "metadata": {},
     "output_type": "execute_result"
    }
   ],
   "source": [
    "sep_funding"
   ]
  },
  {
   "cell_type": "markdown",
   "metadata": {},
   "source": [
    "# question 7"
   ]
  },
  {
   "cell_type": "code",
   "execution_count": 21,
   "metadata": {},
   "outputs": [],
   "source": [
    "driver.get(\"https://www.digit.in/top-products/best-gaming-laptops-40.html\")"
   ]
  },
  {
   "cell_type": "code",
   "execution_count": 22,
   "metadata": {},
   "outputs": [],
   "source": [
    "name=[]\n",
    "os=[]\n",
    "display=[]\n",
    "processor=[]\n",
    "memory=[]\n",
    "price=[]"
   ]
  },
  {
   "cell_type": "code",
   "execution_count": 23,
   "metadata": {},
   "outputs": [],
   "source": [
    "UR=[]\n",
    "for i in range(0,1):\n",
    "    urls=driver.find_elements_by_xpath(\"//div[@class='TopNumbeHeading active sticky-footer']/a\")\n",
    "    for i in urls:\n",
    "        UR.append(i.get_attribute('href'))# getting the urls "
   ]
  },
  {
   "cell_type": "code",
   "execution_count": 24,
   "metadata": {},
   "outputs": [],
   "source": [
    "for url in UR: #loop for every laptop in the list\n",
    "        driver.get(url)\n",
    "        try:\n",
    "            bname=driver.find_element_by_xpath(\"//div[@class='heading-wraper']/h1\") # locating the ratings\n",
    "            name.append(bname.text)\n",
    "        \n",
    "        except NoSuchElementException as e:\n",
    "            name.append('No name')"
   ]
  },
  {
   "cell_type": "code",
   "execution_count": 25,
   "metadata": {},
   "outputs": [
    {
     "data": {
      "text/plain": [
       "['MSI GT76 TITAN DT 9SG',\n",
       " 'Alienware Area-51m (Core I9-9900K+RTX 2080)',\n",
       " 'HP OMEN 15 2020',\n",
       " 'Asus ROG Zephyrus G14',\n",
       " 'LENOVO LEGION Y540',\n",
       " 'Asus ROG Zephyrus G GA502',\n",
       " 'Asus ROG Zephyrus S GX531',\n",
       " 'MSI GT83VR 7RE Titan SLI',\n",
       " 'Asus ROG Zephyrus Duo 15',\n",
       " 'Dell G3 15']"
      ]
     },
     "execution_count": 25,
     "metadata": {},
     "output_type": "execute_result"
    }
   ],
   "source": [
    "name"
   ]
  },
  {
   "cell_type": "code",
   "execution_count": 26,
   "metadata": {},
   "outputs": [],
   "source": [
    "for url in UR: #loop for every laptop in the list\n",
    "        driver.get(url)\n",
    "        try:\n",
    "            OS=driver.find_element_by_xpath(\"//div[@class='Specs-Wrap  notspecs ']/ul/li[1]/div\") # locating the ratings\n",
    "            os.append(OS.text)\n",
    "        \n",
    "        except NoSuchElementException as e:\n",
    "            os.append('No os') "
   ]
  },
  {
   "cell_type": "code",
   "execution_count": 27,
   "metadata": {},
   "outputs": [
    {
     "data": {
      "text/plain": [
       "['Windows 10 Pro',\n",
       " 'Windows 10 Pro',\n",
       " 'Windows 10 Home',\n",
       " 'Windows 10 Home',\n",
       " 'Windows 10 Home',\n",
       " 'Windows 10 Home',\n",
       " 'Windows 10 Home',\n",
       " 'Windows 10 Home 64 Bit',\n",
       " 'Windows 10',\n",
       " 'Windows 10 Home Plus']"
      ]
     },
     "execution_count": 27,
     "metadata": {},
     "output_type": "execute_result"
    }
   ],
   "source": [
    "os"
   ]
  },
  {
   "cell_type": "code",
   "execution_count": 28,
   "metadata": {},
   "outputs": [],
   "source": [
    "for url in UR: #loop for every laptop in the list\n",
    "        driver.get(url)\n",
    "        try:\n",
    "            Display=driver.find_element_by_xpath(\"//div[@class='Specs-Wrap  notspecs ']/ul/li[2]/div\") # locating the ratings\n",
    "            display.append(Display.text)\n",
    "        \n",
    "        except NoSuchElementException as e:\n",
    "            display.append('No display')"
   ]
  },
  {
   "cell_type": "code",
   "execution_count": 29,
   "metadata": {},
   "outputs": [
    {
     "data": {
      "text/plain": [
       "['17.3\" (UHD 3840x2160)',\n",
       " '17.3\" (FHD (1920 X 1080))',\n",
       " '15.6\" (1920 X 1080)',\n",
       " '14\" (1920 X 1080)',\n",
       " '15.6\" (1920 X 1080)',\n",
       " '15.6\" (1920 X 1080)',\n",
       " '15.6\" (1920 X 1080)',\n",
       " '18.4\" (1920 X 1080)',\n",
       " '15.6\" (3840 X 1100)',\n",
       " '15.6 MP | NA']"
      ]
     },
     "execution_count": 29,
     "metadata": {},
     "output_type": "execute_result"
    }
   ],
   "source": [
    "display"
   ]
  },
  {
   "cell_type": "code",
   "execution_count": 30,
   "metadata": {},
   "outputs": [],
   "source": [
    "for url in UR: #loop for every laptop in the list\n",
    "        driver.get(url)\n",
    "        try:\n",
    "            Processor=driver.find_element_by_xpath(\"//div[@class='Specs-Wrap  notspecs ']/ul/li[3]/div\") # locating the ratings\n",
    "            processor.append(Processor.text)\n",
    "        \n",
    "        except NoSuchElementException as e:\n",
    "            processor.append('No Processor')"
   ]
  },
  {
   "cell_type": "code",
   "execution_count": 31,
   "metadata": {},
   "outputs": [
    {
     "data": {
      "text/plain": [
       "['Intel 9th Gen Core I9-9900K | 5000 MHz',\n",
       " 'Intel 9th Gen Core I9-9900K | 5000 MHz',\n",
       " 'Intel I7-10750H 10th Gen | 1.6GHz',\n",
       " 'AMD 3rd Generation Ryzen 9 | 3.3 GHz',\n",
       " '9th Generation Core Intel I7-9750H | 2.6 Ghz',\n",
       " 'AMD Ryzen 7 Quad Core 3750H | 2.3 GHz',\n",
       " '9th Gen Intel Core I7-8750H | 2.2 GHz',\n",
       " 'Intel CM238 Core I7-7820HK+CM238 7th Gen | 3.5GHz',\n",
       " 'Intel Core I7 10th Gen 10875H | NA',\n",
       " '8th Gen Intel Core I5-8300H | 2.3GHz']"
      ]
     },
     "execution_count": 31,
     "metadata": {},
     "output_type": "execute_result"
    }
   ],
   "source": [
    "processor"
   ]
  },
  {
   "cell_type": "code",
   "execution_count": 32,
   "metadata": {},
   "outputs": [],
   "source": [
    "for url in UR: #loop for every laptop in the list\n",
    "        driver.get(url)\n",
    "        try:\n",
    "            Memory=driver.find_element_by_xpath(\"//div[@class='Specs-Wrap  notspecs ']/ul/li[4]/div\") # locating the ratings\n",
    "            memory.append(Memory.text)\n",
    "        \n",
    "        except NoSuchElementException as e:\n",
    "            memory.append('No memory')"
   ]
  },
  {
   "cell_type": "code",
   "execution_count": 33,
   "metadata": {},
   "outputs": [
    {
     "data": {
      "text/plain": [
       "['1 TB HDD/64 GBGB DDR4',\n",
       " '1 TB PCIe SSD/32GB DDR4',\n",
       " '512 GB SSD/16 GBGB DDR4',\n",
       " '1 TB SSD/16 GBGB DDR4',\n",
       " '1 TB SSD/8GB DDR4',\n",
       " '512 GB SSD/16GB DDR4',\n",
       " '512GB SSD/16 GBGB DDR4',\n",
       " '1.5 TB SATA/64GB DDR4',\n",
       " '512 GB SSD/4 GBGB DDR4',\n",
       " '1TB HDD/8GB DDR4']"
      ]
     },
     "execution_count": 33,
     "metadata": {},
     "output_type": "execute_result"
    }
   ],
   "source": [
    "memory"
   ]
  },
  {
   "cell_type": "code",
   "execution_count": 43,
   "metadata": {},
   "outputs": [],
   "source": [
    "amount=[]"
   ]
  },
  {
   "cell_type": "code",
   "execution_count": 44,
   "metadata": {},
   "outputs": [],
   "source": [
    "for url in UR: #loop for every laptop in the list\n",
    "        driver.get(url)\n",
    "        try:\n",
    "            Amount=driver.find_element_by_xpath(\"//div[@class='Block-price']/b[1]\") # locating the ratings\n",
    "            amount.append(Amount.text)\n",
    "        \n",
    "        except NoSuchElementException as e:\n",
    "            amount.append('No amount')"
   ]
  },
  {
   "cell_type": "code",
   "execution_count": 45,
   "metadata": {},
   "outputs": [
    {
     "data": {
      "text/plain": [
       "['379,990',\n",
       " '422,000',\n",
       " '117,790',\n",
       " '164,990',\n",
       " '79,990',\n",
       " '79,990',\n",
       " '239,990',\n",
       " '349,990',\n",
       " '244,990',\n",
       " '73,900']"
      ]
     },
     "execution_count": 45,
     "metadata": {},
     "output_type": "execute_result"
    }
   ],
   "source": [
    "amount"
   ]
  },
  {
   "cell_type": "code",
   "execution_count": 40,
   "metadata": {},
   "outputs": [],
   "source": [
    "description=[]"
   ]
  },
  {
   "cell_type": "code",
   "execution_count": 41,
   "metadata": {},
   "outputs": [],
   "source": [
    "for url in UR: #loop for every laptop in the list\n",
    "        driver.get(url)\n",
    "        try:\n",
    "            descrip=driver.find_element_by_xpath(\"//div[@class='col-sm-12']/p[1]\") # locating the ratings\n",
    "            description.append(descrip.text)\n",
    "        \n",
    "        except NoSuchElementException as e:\n",
    "            description.append('No des')"
   ]
  },
  {
   "cell_type": "code",
   "execution_count": 42,
   "metadata": {},
   "outputs": [
    {
     "data": {
      "text/plain": [
       "['MSI GT76 TITAN DT 9SG is a stylish and powerful Gaming Laptop and is powered by Intel 9th Gen Core i9-9900K processor clocked at a speed of 5000 MHz and sports a 17.3 inch IPS-Level that comes with a resolution of UHD 3840x2160 pixels,so the picture quality is crisp and detailed.The screen size is big enough for an enriching gaming, surfing and video watching experience.On the memory front, the laptop is equipped with a hard drive of 1 TB and',\n",
       " 'Dell Alienware Area-51m (Core i9-9900K+RTX 2080) is a stylish and powerful Gaming Laptop and is powered by Intel 9th Gen Core i9-9900K processor clocked at a speed of 5000 MHz and sports a 17.3 inch IPS that comes with a resolution of FHD (1920 x 1080) pixels,so the picture quality is crisp and detailed.The screen size is big enough for an enriching gaming, surfing and video watching experience.On the memory front, the laptop is equipped with a hard drive of',\n",
       " \"The HP Omen 15 2020 is a rock-solid contender for the next gaming laptop you buy. It packs the perfect hardware configuration, only thrown off by the choice of the Nvidia GeForce GTX 1650Ti in an otherwise high-end spec. Regardless, it performed really well in both gaming and creative workload tests we put it through. The display is bright and very colour accurate, right out of the box, something content creators are going to definitely enjoy. Perhaps the most impressive are the thermals, which HP has done a really good job of keeping in check so that your laptop doesn't feel like a toaster and of course, doesn't cause your CPU to throttle. There's also user-upgradeable RAM option, with an additional, empty NVMe slot to add more high-speed storage. The only factor that dampens my spirits about the HP Omen 15 is the lid, which wobbles, flexes and sometimes doesn't even stay straight. If you can live with a poor quality lid, then there's really no reason for you to not consider the HP Omen 15 as your next gaming laptop.\",\n",
       " \"The Asus ROG Zephyrus G14 is definitely one-of-a-kind laptop and also the first of its kind. this is the first time we're seeing such powerful gaming hardware packed into such a tiny 14-inch chassis. It still does not defy physics, and as such, does have trouble dissipating heat due to the limited surface area. We don't note any throttling of the Ryzen 9 4900HS, but do note unacceptably high temperatures on the surface of the keyboard. The Anime Matrix display on the G14 is also quite an eye-catcher and a gimmick, but unlike most others, this gimmick has been implemented really well. Overall, for the money, you could buy laptops that deliver far better performance, but with the Zephyrus G14, you're paying for a good amount power packed into a very compact form-factor.\",\n",
       " \"The Lenovo Legion Y540 is a well-built, capable gaming laptop that's ideal for seasoned gamers who want to upgrade their aging rig with an unshowy RTX 2060 laptop that costs around Rs 1,30,000.\",\n",
       " 'The Asus ROG Zephyrus G GA502 is a cheaper alternative to its Intel Core i7-powered counterpart, the Zephyrus M GU502. Get it if you’re willing to overlook some less-than-obvious losses in overall performance and display quality.',\n",
       " 'Asus ROG Zephyrus S GX531 is a stylish and powerful Gaming Laptop and is powered by 9th Gen Intel Core i7-8750H processor clocked at a speed of 2.2 GHz and sports a 15.6 inch IPS that comes with a resolution of 1920 X 1080 pixels,so the picture quality is crisp and detailed.The screen size is big enough for an enriching gaming, surfing and video watching experience.On the memory front, the laptop is equipped with a hard drive of 512GB and',\n",
       " 'MSI GT83VR 7RE Titan SLI is a high end gaming laptop that comes with graphics cards that are the most advanced ever created. It supports 8GB GDDR5X Nvidia GeForce GTX 1070 GPU  that is built with ultra-fast FinFET, the latest high-bandwidth memory technologies that gives you up to 3X the performance of previous-generation GPUs. It is powered by latest 7th generation Intel Core i7 7820HK+CM238 CPU processor clocked at 3.8 GHz and features a large 18.4 inch Full HD IPS',\n",
       " 'Asus ROG Zephyrus Duo 15 is a stylish and powerful and is powered by Intel Core i7 10th Gen 10875H processor and sports a 15.6 inchOn the memory front, the laptop is equipped with a hard drive of 512 GB and a 4 GB DDR4 RAM,thereby making it possible to store ample amount of data.All the above features ensure that you breeze through all your tasks throughout the day.',\n",
       " 'The Dell G3 is for that gamer who has just discovered the joy of PC gaming, but wants to appear subtle about it. Dell’s clean, understated laptop is as good as any other entry-level gaming laptop out there but is a tad expensive.']"
      ]
     },
     "execution_count": 42,
     "metadata": {},
     "output_type": "execute_result"
    }
   ],
   "source": [
    "description"
   ]
  },
  {
   "cell_type": "code",
   "execution_count": 46,
   "metadata": {},
   "outputs": [
    {
     "data": {
      "text/html": [
       "<div>\n",
       "<style scoped>\n",
       "    .dataframe tbody tr th:only-of-type {\n",
       "        vertical-align: middle;\n",
       "    }\n",
       "\n",
       "    .dataframe tbody tr th {\n",
       "        vertical-align: top;\n",
       "    }\n",
       "\n",
       "    .dataframe thead th {\n",
       "        text-align: right;\n",
       "    }\n",
       "</style>\n",
       "<table border=\"1\" class=\"dataframe\">\n",
       "  <thead>\n",
       "    <tr style=\"text-align: right;\">\n",
       "      <th></th>\n",
       "      <th>Brand name</th>\n",
       "      <th>operating system</th>\n",
       "      <th>display info</th>\n",
       "      <th>processor</th>\n",
       "      <th>memory</th>\n",
       "      <th>price</th>\n",
       "    </tr>\n",
       "  </thead>\n",
       "  <tbody>\n",
       "    <tr>\n",
       "      <th>0</th>\n",
       "      <td>MSI GT76 TITAN DT 9SG</td>\n",
       "      <td>Windows 10 Pro</td>\n",
       "      <td>17.3\" (UHD 3840x2160)</td>\n",
       "      <td>Intel 9th Gen Core I9-9900K | 5000 MHz</td>\n",
       "      <td>1 TB HDD/64 GBGB DDR4</td>\n",
       "      <td>379,990</td>\n",
       "    </tr>\n",
       "    <tr>\n",
       "      <th>1</th>\n",
       "      <td>Alienware Area-51m (Core I9-9900K+RTX 2080)</td>\n",
       "      <td>Windows 10 Pro</td>\n",
       "      <td>17.3\" (FHD (1920 X 1080))</td>\n",
       "      <td>Intel 9th Gen Core I9-9900K | 5000 MHz</td>\n",
       "      <td>1 TB PCIe SSD/32GB DDR4</td>\n",
       "      <td>422,000</td>\n",
       "    </tr>\n",
       "    <tr>\n",
       "      <th>2</th>\n",
       "      <td>HP OMEN 15 2020</td>\n",
       "      <td>Windows 10 Home</td>\n",
       "      <td>15.6\" (1920 X 1080)</td>\n",
       "      <td>Intel I7-10750H 10th Gen | 1.6GHz</td>\n",
       "      <td>512 GB SSD/16 GBGB DDR4</td>\n",
       "      <td>117,790</td>\n",
       "    </tr>\n",
       "    <tr>\n",
       "      <th>3</th>\n",
       "      <td>Asus ROG Zephyrus G14</td>\n",
       "      <td>Windows 10 Home</td>\n",
       "      <td>14\" (1920 X 1080)</td>\n",
       "      <td>AMD 3rd Generation Ryzen 9 | 3.3 GHz</td>\n",
       "      <td>1 TB SSD/16 GBGB DDR4</td>\n",
       "      <td>164,990</td>\n",
       "    </tr>\n",
       "    <tr>\n",
       "      <th>4</th>\n",
       "      <td>LENOVO LEGION Y540</td>\n",
       "      <td>Windows 10 Home</td>\n",
       "      <td>15.6\" (1920 X 1080)</td>\n",
       "      <td>9th Generation Core Intel I7-9750H | 2.6 Ghz</td>\n",
       "      <td>1 TB SSD/8GB DDR4</td>\n",
       "      <td>79,990</td>\n",
       "    </tr>\n",
       "    <tr>\n",
       "      <th>5</th>\n",
       "      <td>Asus ROG Zephyrus G GA502</td>\n",
       "      <td>Windows 10 Home</td>\n",
       "      <td>15.6\" (1920 X 1080)</td>\n",
       "      <td>AMD Ryzen 7 Quad Core 3750H | 2.3 GHz</td>\n",
       "      <td>512 GB SSD/16GB DDR4</td>\n",
       "      <td>79,990</td>\n",
       "    </tr>\n",
       "    <tr>\n",
       "      <th>6</th>\n",
       "      <td>Asus ROG Zephyrus S GX531</td>\n",
       "      <td>Windows 10 Home</td>\n",
       "      <td>15.6\" (1920 X 1080)</td>\n",
       "      <td>9th Gen Intel Core I7-8750H | 2.2 GHz</td>\n",
       "      <td>512GB SSD/16 GBGB DDR4</td>\n",
       "      <td>239,990</td>\n",
       "    </tr>\n",
       "    <tr>\n",
       "      <th>7</th>\n",
       "      <td>MSI GT83VR 7RE Titan SLI</td>\n",
       "      <td>Windows 10 Home 64 Bit</td>\n",
       "      <td>18.4\" (1920 X 1080)</td>\n",
       "      <td>Intel CM238 Core I7-7820HK+CM238 7th Gen | 3.5GHz</td>\n",
       "      <td>1.5 TB SATA/64GB DDR4</td>\n",
       "      <td>349,990</td>\n",
       "    </tr>\n",
       "    <tr>\n",
       "      <th>8</th>\n",
       "      <td>Asus ROG Zephyrus Duo 15</td>\n",
       "      <td>Windows 10</td>\n",
       "      <td>15.6\" (3840 X 1100)</td>\n",
       "      <td>Intel Core I7 10th Gen 10875H | NA</td>\n",
       "      <td>512 GB SSD/4 GBGB DDR4</td>\n",
       "      <td>244,990</td>\n",
       "    </tr>\n",
       "    <tr>\n",
       "      <th>9</th>\n",
       "      <td>Dell G3 15</td>\n",
       "      <td>Windows 10 Home Plus</td>\n",
       "      <td>15.6 MP | NA</td>\n",
       "      <td>8th Gen Intel Core I5-8300H | 2.3GHz</td>\n",
       "      <td>1TB HDD/8GB DDR4</td>\n",
       "      <td>73,900</td>\n",
       "    </tr>\n",
       "  </tbody>\n",
       "</table>\n",
       "</div>"
      ],
      "text/plain": [
       "                                    Brand name        operating system  \\\n",
       "0                        MSI GT76 TITAN DT 9SG          Windows 10 Pro   \n",
       "1  Alienware Area-51m (Core I9-9900K+RTX 2080)          Windows 10 Pro   \n",
       "2                              HP OMEN 15 2020         Windows 10 Home   \n",
       "3                        Asus ROG Zephyrus G14         Windows 10 Home   \n",
       "4                           LENOVO LEGION Y540         Windows 10 Home   \n",
       "5                    Asus ROG Zephyrus G GA502         Windows 10 Home   \n",
       "6                    Asus ROG Zephyrus S GX531         Windows 10 Home   \n",
       "7                     MSI GT83VR 7RE Titan SLI  Windows 10 Home 64 Bit   \n",
       "8                     Asus ROG Zephyrus Duo 15              Windows 10   \n",
       "9                                   Dell G3 15    Windows 10 Home Plus   \n",
       "\n",
       "                display info  \\\n",
       "0      17.3\" (UHD 3840x2160)   \n",
       "1  17.3\" (FHD (1920 X 1080))   \n",
       "2        15.6\" (1920 X 1080)   \n",
       "3          14\" (1920 X 1080)   \n",
       "4        15.6\" (1920 X 1080)   \n",
       "5        15.6\" (1920 X 1080)   \n",
       "6        15.6\" (1920 X 1080)   \n",
       "7        18.4\" (1920 X 1080)   \n",
       "8        15.6\" (3840 X 1100)   \n",
       "9               15.6 MP | NA   \n",
       "\n",
       "                                           processor                   memory  \\\n",
       "0             Intel 9th Gen Core I9-9900K | 5000 MHz    1 TB HDD/64 GBGB DDR4   \n",
       "1             Intel 9th Gen Core I9-9900K | 5000 MHz  1 TB PCIe SSD/32GB DDR4   \n",
       "2                  Intel I7-10750H 10th Gen | 1.6GHz  512 GB SSD/16 GBGB DDR4   \n",
       "3               AMD 3rd Generation Ryzen 9 | 3.3 GHz    1 TB SSD/16 GBGB DDR4   \n",
       "4       9th Generation Core Intel I7-9750H | 2.6 Ghz        1 TB SSD/8GB DDR4   \n",
       "5              AMD Ryzen 7 Quad Core 3750H | 2.3 GHz     512 GB SSD/16GB DDR4   \n",
       "6              9th Gen Intel Core I7-8750H | 2.2 GHz   512GB SSD/16 GBGB DDR4   \n",
       "7  Intel CM238 Core I7-7820HK+CM238 7th Gen | 3.5GHz    1.5 TB SATA/64GB DDR4   \n",
       "8                 Intel Core I7 10th Gen 10875H | NA   512 GB SSD/4 GBGB DDR4   \n",
       "9               8th Gen Intel Core I5-8300H | 2.3GHz         1TB HDD/8GB DDR4   \n",
       "\n",
       "     price  \n",
       "0  379,990  \n",
       "1  422,000  \n",
       "2  117,790  \n",
       "3  164,990  \n",
       "4   79,990  \n",
       "5   79,990  \n",
       "6  239,990  \n",
       "7  349,990  \n",
       "8  244,990  \n",
       "9   73,900  "
      ]
     },
     "execution_count": 46,
     "metadata": {},
     "output_type": "execute_result"
    }
   ],
   "source": [
    "import pandas as pd\n",
    "gaming_laptop=pd.DataFrame({})\n",
    "gaming_laptop['Brand name']=name\n",
    "gaming_laptop['operating system']=os\n",
    "gaming_laptop['display info']=display\n",
    "gaming_laptop['processor']=processor\n",
    "gaming_laptop['memory']=memory\n",
    "gaming_laptop['price']=amount\n",
    "gaming_laptop"
   ]
  },
  {
   "cell_type": "code",
   "execution_count": null,
   "metadata": {},
   "outputs": [],
   "source": []
  }
 ],
 "metadata": {
  "kernelspec": {
   "display_name": "Python 3",
   "language": "python",
   "name": "python3"
  },
  "language_info": {
   "codemirror_mode": {
    "name": "ipython",
    "version": 3
   },
   "file_extension": ".py",
   "mimetype": "text/x-python",
   "name": "python",
   "nbconvert_exporter": "python",
   "pygments_lexer": "ipython3",
   "version": "3.8.3"
  }
 },
 "nbformat": 4,
 "nbformat_minor": 4
}
